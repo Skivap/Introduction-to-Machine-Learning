{
 "cells": [
  {
   "cell_type": "markdown",
   "metadata": {
    "id": "IagZMs0_qjdL"
   },
   "source": [
    "# 1. Introduction\n",
    "\n",
    "Welcome to your third assignment. In this assignment, you will build a deep neural network step by step. In this notebook, you will implement all the functions required to build a neural network.\n",
    "\n",
    "After finishing this assignment, you will have a deeper understanding of the process of training a deep neural network, which only consists of three steps: forward propagation, backward propagation and update."
   ]
  },
  {
   "cell_type": "markdown",
   "metadata": {
    "id": "yGFR00CQvoaH"
   },
   "source": [
    "# 2. Important notice\n",
    "\n",
    "## 2.1 Packages\n",
    "All the packages that you need to finish this assignment are listed below.\n",
    "*   numpy : the fundamental package for scientific computing with Python.\n",
    "*   matplotlib : a comprehensive library for creating static, animated, and interactive visualizations in Python.\n",
    "*   math : Python has a built-in module that you can use for mathematical tasks.\n",
    "*   sklearn.metrics: we use this to compute the f1 score\n",
    "*   from google.colab import drive: used to access data in your google drive\n",
    "\n",
    "⚠️ **WARNING** ⚠️:\n",
    "*   Please do not import any other packages.\n",
    "*   np.random.seed(1) is used to keep all the random function calls consistent. It will help us grade your work. Please don't change the seed.\n",
    "\n",
    "## 2.2 Todo\n",
    "```\n",
    "### START CODE HERE ### (≈ n lines of code)\n",
    "...\n",
    "### END CODE HERE ###\n",
    "```\n",
    "❗ **Important** ❗: Please do not change the code outside this code bracket in the first part.\n",
    "\n",
    "### Common Notation\n",
    "* $C$: number of classes\n",
    "* $n$: number of samples\n",
    "* $f^{[l]}$: the dimension of outputs in layer $l$, but $f^{[0]}$ is the input dimension\n",
    "* $Z^{[l]} = A^{[l-1]}W^{[l]} + b^{[l]}$\n",
    "    * $Z^{[l]}$: the output of layer $l$ in the shape $(n, f^{[l]})$\n",
    "    * $A^{[l]}$: the activation of $Z^{[l]}$ in the shape $(n, f^{[l]})$, but $A^{[0]}$ is input $X$\n",
    "    * $W^{[l]}$: the weight in layer $l$ in the shape $(f^{[l-1]}, f^{[l]})$\n",
    "    * $b^{[l]}$: the bias in layer $l$ in the shape $(1, f^{[l]})$\n"
   ]
  },
  {
   "cell_type": "code",
   "execution_count": 1,
   "metadata": {
    "id": "fmTH9UkeqdYf"
   },
   "outputs": [],
   "source": [
    "import numpy as np\n",
    "import matplotlib.pyplot as plt\n",
    "import math\n",
    "from sklearn.metrics import f1_score\n",
    "\n",
    "outputs = {}"
   ]
  },
  {
   "cell_type": "markdown",
   "metadata": {
    "id": "w35ZkTwMc00G"
   },
   "source": [
    "# 3. Neural network\n",
    "In this section, you will need to implement a deep neural network from scratch all by yourself. If you are familiar with deep learning library, such as Tensorflow or PyTorch, it may seems easy for you. But if you don't, don't worry because we will guide you step by step. All you need to do is to follow the instructions and understand how each part works.\n",
    "\n",
    "As mentioned before, the process of training a deep neural network is composed of three steps: forward propagation, backward propagation, and update, so all the to-do in this section will be related to these three steps."
   ]
  },
  {
   "cell_type": "markdown",
   "metadata": {
    "id": "P_krGKUNg_Ix"
   },
   "source": [
    "## 3.1 Implement a linear layer (10%)\n",
    "First, we will start by implementing one of the most commonly used layers in the deep neural network, called the dense layer. The dense layer is a linear layer applying a linear transformation to the incoming data:\n",
    "$Z = AW + b$, where $W$ and $b$ are the weight and bias.\n",
    "\n",
    "**Note**: Dense layers, also known as Fully-connected layers, connect every input neuron to every output neuron and are commonly used in neural networks.\n"
   ]
  },
  {
   "cell_type": "code",
   "execution_count": 2,
   "metadata": {
    "id": "x0KHo8w9yqbY"
   },
   "outputs": [],
   "source": [
    "class Dense():\n",
    "    def __init__(self, n_x, n_y, seed=1):\n",
    "        self.n_x = n_x\n",
    "        self.n_y = n_y\n",
    "        self.seed = seed\n",
    "        self.initialize_parameters()\n",
    "\n",
    "    def initialize_parameters(self):\n",
    "        \"\"\"\n",
    "        Argument:\n",
    "        self.n_x -- size of the input layer\n",
    "        self.n_y -- size of the output layer\n",
    "        self.parameters -- python dictionary containing your parameters:\n",
    "                           W -- weight matrix of shape (n_x, n_y)\n",
    "                           b -- bias vector of shape (1, n_y)\n",
    "        \"\"\"\n",
    "        sd = np.sqrt(6.0 / (self.n_x + self.n_y))\n",
    "        np.random.seed(self.seed)\n",
    "        W = np.random.uniform(-sd, sd, (self.n_y, self.n_x)).T      # the transpose here is just for the code to be compatible with the old codes\n",
    "        b = np.zeros((1, self.n_y))\n",
    "\n",
    "        assert(W.shape == (self.n_x, self.n_y))\n",
    "        assert(b.shape == (1, self.n_y))\n",
    "\n",
    "        self.parameters = {\"W\": W, \"b\": b}\n",
    "\n",
    "    def forward(self, A):\n",
    "        \"\"\"\n",
    "        Implement the linear part of a layer's forward propagation.\n",
    "\n",
    "        Arguments:\n",
    "        A -- activations from previous layer (or input data) with the shape (n, f^[l-1])\n",
    "        self.cache -- a python tuple containing \"A\", \"W\" and \"b\" ; stored for computing the backward pass efficiently\n",
    "\n",
    "        Returns:\n",
    "        Z -- the input of the activation function, also called pre-activation parameter with the shape (n, f^[l])\n",
    "        \"\"\"\n",
    "        \n",
    "        # GRADED FUNCTION: linear_forward\n",
    "        ### START CODE HERE ### (≈ 2 line of code)\n",
    "        Z = A @ self.parameters[\"W\"] + self.parameters[\"b\"]\n",
    "        self.cache = (A, self.parameters[\"W\"], self.parameters[\"b\"])\n",
    "        ### END CODE HERE ###\n",
    "\n",
    "        assert(Z.shape == (A.shape[0], self.parameters[\"W\"].shape[1]))\n",
    "\n",
    "        return Z\n",
    "\n",
    "    def backward(self, dZ):\n",
    "        \"\"\"\n",
    "        Implement the linear portion of backward propagation for a single layer (layer l)\n",
    "\n",
    "        Arguments:\n",
    "        dZ -- Gradient of the loss with respect to the linear output (of current layer l), same shape as Z\n",
    "        self.cache -- tuple of values (A_prev, W, b) coming from the forward propagation in the current layer\n",
    "        self.dW -- Gradient of the loss with respect to W (current layer l), same shape as W\n",
    "        self.db -- Gradient of the loss with respect to b (current layer l), same shape as b\n",
    "\n",
    "        Returns:\n",
    "        dA_prev -- Gradient of the loss with respect to the activation (of the previous layer l-1), same shape as A_prev\n",
    "\n",
    "        \"\"\"\n",
    "        A_prev, W, b = self.cache\n",
    "        m = A_prev.shape[0]\n",
    "\n",
    "        # GRADED FUNCTION: linear_backward\n",
    "        ### START CODE HERE ### (≈ 3 lines of code)\n",
    "        self.dW = 1/m * (A_prev.T @ dZ)\n",
    "        self.db = 1/m  * np.array([[np.sum(i) for i in dZ.T]])\n",
    "        dA_prev = dZ @ W.T\n",
    "        ### END CODE HERE ###\n",
    "        \n",
    "        assert (dA_prev.shape == A_prev.shape)\n",
    "        assert (self.dW.shape == self.parameters[\"W\"].shape)\n",
    "        assert (self.db.shape == self.parameters[\"b\"].shape)\n",
    "\n",
    "        return dA_prev\n",
    "\n",
    "    def update(self, learning_rate):\n",
    "        \"\"\"\n",
    "        Update parameters using gradient descent\n",
    "\n",
    "        Arguments:\n",
    "        learning rate -- step size\n",
    "        \"\"\"\n",
    "\n",
    "        # GRADED FUNCTION: linear_update_parameters\n",
    "        ### START CODE HERE ### (≈ 2 lines of code)\n",
    "        self.parameters[\"W\"] = self.parameters[\"W\"] - self.dW * learning_rate\n",
    "        self.parameters[\"b\"] = self.parameters[\"b\"] - self.db * learning_rate\n",
    "        ### END CODE HERE ###"
   ]
  },
  {
   "cell_type": "markdown",
   "metadata": {
    "id": "y442Z9Ivvidd"
   },
   "source": [
    "\n",
    "### 3.1.1. Initialize parameters (0%)\n",
    "*   You don't need to write this part.\n",
    "*   We use random initialization (uniform distribution) for the weight matrices. Draws samples from a uniform distribution within $[\\text{-limit}, \\text{limit}]$, where $\\text{limit} = \\sqrt{\\frac{6}{\\text{fan_in} + \\text{fan_out}}}$ (fan_in is the number of input units in the weight tensor and fan_out is the number of output units).\n",
    "*   Use zero initialization for the biases."
   ]
  },
  {
   "cell_type": "code",
   "execution_count": 3,
   "metadata": {
    "id": "7HNAWwmg8R7T"
   },
   "outputs": [
    {
     "name": "stdout",
     "output_type": "stream",
     "text": [
      "W = [[-0.20325375]\n",
      " [ 0.53968259]\n",
      " [-1.22446471]]\n",
      "b = [[0.]]\n"
     ]
    }
   ],
   "source": [
    "dense = Dense(3, 1)\n",
    "print(\"W = \" + str(dense.parameters[\"W\"]))\n",
    "print(\"b = \" + str(dense.parameters[\"b\"]))"
   ]
  },
  {
   "cell_type": "markdown",
   "metadata": {
    "id": "OtPtH0j3BFN7"
   },
   "source": [
    "Expected output:\n",
    "<table>\n",
    "  <tr>\n",
    "    <td>W: </td>\n",
    "    <td>[[-0.20325375]  [0.53968259 [-1.22446471]]</td>\n",
    "  </tr>\n",
    "  <tr>\n",
    "    <td>b: </td>\n",
    "    <td>[[0.]]</td>\n",
    "  </tr>\n",
    "</table>"
   ]
  },
  {
   "cell_type": "markdown",
   "metadata": {
    "id": "abu7YqxeAeMz"
   },
   "source": [
    "### 3.1.2. Linear forward (4%)\n",
    "\n",
    "After initializing parameters, you will need to apply the linear transformation to the incoming data, and this can be simply done by matrix multiplication and addition.\n",
    "\n",
    "**Exercise**: Implement linear forward by applying the linear transformation. (5%)"
   ]
  },
  {
   "cell_type": "code",
   "execution_count": 4,
   "metadata": {
    "id": "SSf8JIyjaj_A"
   },
   "outputs": [
    {
     "name": "stdout",
     "output_type": "stream",
     "text": [
      "Z = [[1.9]\n",
      " [2.2]\n",
      " [2.5]]\n"
     ]
    }
   ],
   "source": [
    "A, W, b = np.array([[0., 1., 2.], [0.5, 1.5, 2.5], [1., 2., 3.]]), np.array([[0.1], [0.2], [0.3]]), np.array([[1.1]])\n",
    "dense = Dense(3, 1)\n",
    "dense.parameters = {\"W\": W, \"b\": b}\n",
    "Z = dense.forward(A)\n",
    "print(\"Z = \" + str(Z))\n",
    "\n",
    "A, W, b = np.array([[-0.80,-0.45,-1.11],[-1.65,-2.36,1.14],[-1.02,0.64,-0.86]]), np.array([[0.3], [0.3], [0.1]]), np.array([[-6.2]])\n",
    "dense = Dense(3, 1)\n",
    "dense.parameters = {\"W\": W, \"b\": b}\n",
    "Z = dense.forward(A)\n",
    "outputs[\"linear_forward\"] = (Z, dense.cache)"
   ]
  },
  {
   "cell_type": "markdown",
   "metadata": {
    "id": "NpcPlE8-EUsR"
   },
   "source": [
    "Expected output:\n",
    "<table>\n",
    "  <tr>\n",
    "    <td>Z: </td>\n",
    "    <td>[[1.9] [2.2] [2.5]]</td>\n",
    "  </tr>\n",
    "</table>"
   ]
  },
  {
   "cell_type": "markdown",
   "metadata": {
    "id": "-K8_obj6vIeT"
   },
   "source": [
    "### 3.1.3. Linear backward (4%)\n",
    "Backpropagation is used to calculate the gradient of the loss function with respect to the parameters.\n",
    "\n",
    "For layer $l$, the linear part is: $Z^{[l]} = A^{[l-1]} W^{[l]} + b^{[l]}$ (followed by an activation).\n",
    "\n",
    "Suppose you have already calculated the derivative $dZ^{[l]} = \\frac{\\partial \\mathcal{L} }{\\partial Z^{[l]}}$. You want to get $(dW^{[l]}, db^{[l]}, dA^{[l-1]})$.\n",
    "\n",
    "The three outputs $(dW^{[l]}, db^{[l]}, dA^{[l-1]})$ are computed using the input $dZ^{[l]}$.\n",
    "\n",
    "Here are the formulas you need:\n",
    "$$ dW^{[l]} = \\frac{\\partial \\mathcal{L} }{\\partial W^{[l]}} = \\frac{1}{m} A^{[l-1] T} dZ^{[l]}$$\n",
    "$$ db^{[l]} = \\frac{\\partial \\mathcal{L} }{\\partial b^{[l]}} = \\frac{1}{m} \\sum_{i = 1}^{m} dZ^{[l](i)} $$\n",
    "$$ dA^{[l-1]} = \\frac{\\partial \\mathcal{L} }{\\partial A^{[l-1]}} = dZ^{[l]} W^{[l] T}$$\n",
    "\n",
    "**Exercise**: Use the 3 formulas above to implement `linear_backward()`."
   ]
  },
  {
   "cell_type": "code",
   "execution_count": 5,
   "metadata": {
    "id": "fg-PfP31NKH7"
   },
   "outputs": [
    {
     "name": "stdout",
     "output_type": "stream",
     "text": [
      "dA_prev = [[3.5]\n",
      " [6. ]]\n",
      "dW = [[1.625 0.625]]\n",
      "db = [[2.   0.75]]\n"
     ]
    }
   ],
   "source": [
    "dZ, linear_cache = np.array([[1.5, 0.5], [2.5, 1.]]), (np.array([[0.5], [1]]), np.array([[2., 1.0]]), np.array([[0.5, 1.]]))\n",
    "dense = Dense(1, 2)\n",
    "dense.cache = linear_cache\n",
    "dA_prev = dense.backward(dZ)\n",
    "print (\"dA_prev = \" + str(dA_prev))\n",
    "print (\"dW = \" + str(dense.dW))\n",
    "print (\"db = \" + str(dense.db))\n",
    "\n",
    "dZ, linear_cache = np.array([[0.52,0.34],[0.76,0.89]]), (np.array([[0.42], [0.68]]), np.array([[0.35, 0.89]]), np.array([[0.12, 0.76]]))\n",
    "dense = Dense(1, 2)\n",
    "dense.cache = linear_cache\n",
    "dA_prev = dense.backward(dZ)\n",
    "outputs[\"linear_backward\"] = (dA_prev, dense.dW, dense.db)"
   ]
  },
  {
   "cell_type": "markdown",
   "metadata": {
    "id": "ny0k-zxuNKIB"
   },
   "source": [
    "Expected output:\n",
    "<table>\n",
    "  <tr>\n",
    "    <td>dA_prev: </td>\n",
    "    <td>[[3.5] [6.0]]</td>\n",
    "  </tr>\n",
    "  <tr>\n",
    "    <td>dW: </td>\n",
    "    <td>[[1.625 0.625]]</td>\n",
    "  </tr>\n",
    "  <tr>\n",
    "    <td>db: </td>\n",
    "    <td>[[2.0 0.75]]</td>\n",
    "  </tr>\n",
    "</table>\n"
   ]
  },
  {
   "cell_type": "markdown",
   "metadata": {
    "id": "XWNWxxutN47B"
   },
   "source": [
    "### 3.1.4. Linear update parameters (2%)\n",
    "In this section you will update the parameters of the linear layer, using gradient descent:\n",
    "\n",
    "$$ W^{[l]} = W^{[l]} - \\alpha \\text{ } dW^{[l]} $$$$ b^{[l]} = b^{[l]} - \\alpha \\text{ } db^{[l]} $$\n",
    "\n",
    "**Exercise**: Implement update() to update your parameters using gradient descent.\n",
    "\n",
    "**Instructions**:\n",
    "*   Update parameters using gradient descent on $W^{[l]}$ and $b^{[l]}$.\n"
   ]
  },
  {
   "cell_type": "code",
   "execution_count": 6,
   "metadata": {
    "id": "BMBqHniLN47I"
   },
   "outputs": [
    {
     "name": "stdout",
     "output_type": "stream",
     "text": [
      "W = [[0.5 2.5]]\n",
      "b = [[-1.  2.]]\n"
     ]
    }
   ],
   "source": [
    "np.random.seed(1)\n",
    "dense = Dense(1, 2)\n",
    "dense.parameters = {\"W\": np.array([[1.0, 2.0]]), \"b\": np.array([[0.5, 0.5]])}\n",
    "dense.dW = np.array([[0.5, -0.5]])\n",
    "dense.db = np.array([[1.5, -1.5]])\n",
    "dense.update(1.0)\n",
    "print(\"W = \" + str(dense.parameters[\"W\"]))\n",
    "print(\"b = \" + str(dense.parameters[\"b\"]))\n",
    "\n",
    "np.random.seed(1)\n",
    "dense = Dense(3, 4)\n",
    "parameters, grads = {\"W1\": np.random.rand(3, 4), \"b1\": np.random.rand(1,4)}, {\"dW1\": np.random.rand(3, 4), \"db1\": np.random.rand(1,4)}\n",
    "dense.parameters = {\"W\": parameters[\"W1\"], \"b\": parameters[\"b1\"]}\n",
    "dense.dW = grads[\"dW1\"]\n",
    "dense.db = grads[\"db1\"]\n",
    "dense.update(0.1)\n",
    "outputs[\"linear_update_parameters\"] = {\"W\": dense.parameters[\"W\"], \"b\": dense.parameters[\"b\"]}"
   ]
  },
  {
   "cell_type": "markdown",
   "metadata": {
    "id": "LIl13uvgN47I"
   },
   "source": [
    "Expected output:\n",
    "<table>\n",
    "  <tr>\n",
    "    <td>W1: </td>\n",
    "    <td>[[0.5 2.5]]</td>\n",
    "  </tr>\n",
    "  <tr>\n",
    "    <td>b1: </td>\n",
    "    <td>[[-1.  2.]]</td>\n",
    "  </tr>\n",
    "</table>"
   ]
  },
  {
   "cell_type": "markdown",
   "metadata": {
    "id": "syt1bV3bdI_f"
   },
   "source": [
    "## 3.2. Activation function layer (25%)\n",
    "\n",
    "In this section, you will need to implement activation function layers. There are many activation functions, such as sigmoid function, softmax function, ReLU function and etc.\n",
    "\n"
   ]
  },
  {
   "cell_type": "code",
   "execution_count": 7,
   "metadata": {
    "id": "Nnuv8MmebMgg"
   },
   "outputs": [],
   "source": [
    "class Activation():\n",
    "    def __init__(self, activation_function, loss_function, alpha=None, gamma=None):\n",
    "        self.activation_function = activation_function\n",
    "        self.loss_function = loss_function\n",
    "        self.alpha = alpha\n",
    "        self.gamma = gamma\n",
    "\n",
    "    def forward(self, Z):\n",
    "        if self.activation_function == \"sigmoid\":\n",
    "            \"\"\"\n",
    "            Implements the sigmoid activation in numpy\n",
    "\n",
    "            Arguments:\n",
    "            Z -- numpy array of any shape\n",
    "            self.cache -- stores Z as well, useful during backpropagation\n",
    "\n",
    "            Returns:\n",
    "            A -- output of sigmoid(z), same shape as Z\n",
    "            \"\"\"\n",
    "\n",
    "            # GRADED FUNCTION: sigmoid_forward\n",
    "            ### START CODE HERE ### (≈ 8 lines of code)\n",
    "            A = 1 / (1 + np.exp(-Z)) # if Z >= 0\n",
    "            A1 = np.exp(Z) / (1 + np.exp(Z)) #elsewhere\n",
    "            mask = Z < 0\n",
    "            np.putmask(A,mask, A1)\n",
    "            self.cache = Z\n",
    "            ### END CODE HERE ###\n",
    "\n",
    "            return A\n",
    "        elif self.activation_function == \"relu\":\n",
    "            \"\"\"\n",
    "            Implement the RELU function in numpy\n",
    "            Arguments:\n",
    "            Z -- numpy array of any shape\n",
    "            self.cache -- stores Z as well, useful during backpropagation\n",
    "            Returns:\n",
    "            A -- output of relu(z), same shape as Z\n",
    "\n",
    "            \"\"\"\n",
    "\n",
    "            # GRADED FUNCTION: relu_forward\n",
    "            ### START CODE HERE ### (≈ 2 lines of code)\n",
    "            A = np.maximum(Z, 0)\n",
    "            self.cache = Z\n",
    "            ### END CODE HERE ###\n",
    "            \n",
    "            assert(A.shape == Z.shape)\n",
    "\n",
    "            return A\n",
    "        elif self.activation_function == \"softmax\":\n",
    "            \"\"\"\n",
    "            Implements the softmax activation in numpy\n",
    "\n",
    "            Arguments:\n",
    "            Z -- np.array with shape (n, C)\n",
    "            self.cache -- stores Z as well, useful during backpropagation\n",
    "\n",
    "            Returns:\n",
    "            A -- output of softmax(z), same shape as Z\n",
    "            \"\"\"\n",
    "\n",
    "            # GRADED FUNCTION: softmax_forward\n",
    "            ### START CODE HERE ### (≈ 3 lines of code)\n",
    "            A = np.array([np.exp(i - np.max(i)) / np.sum(np.exp(i - np.max(i))) for i in Z])\n",
    "            self.cache = Z\n",
    "            ### END CODE HERE ###\n",
    "\n",
    "            return A\n",
    "        else:\n",
    "            assert 0, f\"you're using undefined activation function {self.activation_function}\"\n",
    "\n",
    "\n",
    "    def backward(self, dA=None, Y=None):\n",
    "        if self.activation_function == \"sigmoid\":\n",
    "            \"\"\"\n",
    "            Implement the backward propagation for a single SIGMOID unit.\n",
    "            Arguments:\n",
    "            dA -- post-activation gradient, of any shape\n",
    "            self.cache -- 'Z' where we store for computing backward propagation efficiently\n",
    "            Returns:\n",
    "            dZ -- Gradient of the loss with respect to Z\n",
    "            \"\"\"\n",
    "\n",
    "            # GRADED FUNCTION: sigmoid_backward\n",
    "            ### START CODE HERE ### (≈ 9 lines of code)\n",
    "            Z = self.cache\n",
    "            \n",
    "            A = 1 / (1 + np.exp(-Z)) # if Z >= 0\n",
    "            A1 = np.exp(Z) / (1 + np.exp(Z)) #elsewhere\n",
    "            mask = Z < 0\n",
    "            np.putmask(A,mask, A1)\n",
    "            g = A * (1 - A)\n",
    "            dZ = dA * g\n",
    "            ### END CODE HERE ###\n",
    "\n",
    "            assert (dZ.shape == Z.shape)\n",
    "\n",
    "            return dZ\n",
    "\n",
    "        elif self.activation_function == \"relu\":\n",
    "            \"\"\"\n",
    "            Implement the backward propagation for a single RELU unit.\n",
    "            Arguments:\n",
    "            dA -- post-activation gradient, of any shape\n",
    "            self.cache -- 'Z' where we store for computing backward propagation efficiently\n",
    "            Returns:\n",
    "            dZ -- Gradient of the loss with respect to Z\n",
    "            \"\"\"\n",
    "\n",
    "            # GRADED FUNCTION: relu_backward\n",
    "            ### START CODE HERE ### (≈ 3 lines of code)\n",
    "            Z = self.cache\n",
    "            g = np.array([np.maximum(i, 0) for i in Z])\n",
    "            g[g > 0] = 1\n",
    "            dZ = dA * g\n",
    "            ### END CODE HERE ###\n",
    "\n",
    "            assert (dZ.shape == Z.shape)\n",
    "\n",
    "            return dZ\n",
    "\n",
    "        elif self.activation_function == \"softmax\" and self.loss_function == 'cross_entropy':\n",
    "            \"\"\"\n",
    "            Implement the backward propagation for a [SOFTMAX->CCE LOSS] unit.\n",
    "            Arguments:\n",
    "            Y -- true \"label\" vector (one hot vector, for example: [1,0,0] represents rock, [0,1,0] represents paper, [0,0,1] represents scissors\n",
    "                                      in a Rock-Paper-Scissors, shape: (n, C)\n",
    "            self.cache -- 'Z' where we store for computing backward propagation efficiently\n",
    "            Returns:\n",
    "            dZ -- Gradient of the cost with respect to Z\n",
    "            \"\"\"\n",
    "\n",
    "            # GRADED FUNCTION: softmax_CCE_backward\n",
    "            ### START CODE HERE ### (≈ 3 lines of code)\n",
    "            Z = self.cache\n",
    "            s = np.array([np.exp(i - np.max(i)) / np.sum(np.exp(i - np.max(i))) for i in Z])\n",
    "            dZ = s - Y\n",
    "            ### END CODE HERE ###\n",
    "\n",
    "            assert (dZ.shape == self.cache.shape)\n",
    "\n",
    "            return dZ\n",
    "        elif self.activation_function == \"softmax\" and self.loss_function == 'focal_loss':\n",
    "            \"\"\"\n",
    "            Implement the backward propagation for a [SOFTMAX->FOCAL LOSS] unit.\n",
    "            Arguments:\n",
    "            Y -- true \"label\" vector (one hot vector, for example: [1,0,0] represents rock, [0,1,0] represents paper, [0,0,1] represents scissors\n",
    "                                      in a Rock-Paper-Scissors, shape: (n, C)\n",
    "            self.cache -- 'Z' where we store for computing backward propagation efficiently\n",
    "            Returns:\n",
    "            dZ -- Gradient of the cost with respect to Z\n",
    "            alpha -- weighting factors correspond to each class, shape: (C,)\n",
    "            gamma -- modulating factor, a float\n",
    "            \"\"\"\n",
    "\n",
    "            # GRADED FUNCTION: softmax_focalLoss_backward\n",
    "            ## START CODE HERE ### (≈ 10 lines of code)\n",
    "            Z = self.cache\n",
    "            alpha, gamma = self.alpha, self.gamma\n",
    "            \n",
    "            p_ij = np.array([np.exp(i - np.max(i)) / np.sum(np.exp(i - np.max(i))) for i in Z])\n",
    "            p_it = np.array([[np.max(i)] for i in p_ij * Y])\n",
    "            logit = np.log(p_it + 1e-5)\n",
    "            at = np.array([[np.max(alpha * i)] for i in Y])\n",
    "            \n",
    "            dZ1 = at * (gamma * np.power(1 - p_it, gamma-1) * logit * (p_it - np.power(p_it, 2)) - np.power(1-p_it, gamma) * (1-p_it))\n",
    "            dZ2 = at * (gamma * np.power(1 - p_it, gamma-1) * logit * (-p_ij * p_it) - np.power(1-p_it, gamma) * (-p_ij))\n",
    "\n",
    "            dZ = dZ1 * Y + dZ2 * (1 - Y)\n",
    "            ## END CODE HERE ###\n",
    "\n",
    "            assert (dZ.shape == self.cache.shape)\n",
    "\n",
    "            return dZ"
   ]
  },
  {
   "cell_type": "markdown",
   "metadata": {
    "id": "5PkLKaFWiWmF"
   },
   "source": [
    "### 3.2.1. Activation forward (10%)\n",
    "#### 3.2.1.1. Sigmoid function\n",
    "Sigmoid: $\\sigma(Z) = \\begin{cases}\n",
    "    \\frac{1}{1+e^{-Z}},& \\text{if } Z >= 0\\\\\n",
    "    \\frac{e^{Z}}{1+e^{Z}}, & \\text{otherwise}\n",
    "\\end{cases}$.\n",
    "\n",
    "❗**Important**❗: As you can see, there is an exponential function inside the sigmoid function, so you might encounter an exponential overflow problem when implementing this function. To solve this problem, we use the numerically stable sigmoid function as shown in the equation above.\n",
    "\n",
    "### 3.2.1.2. Softmax function\n",
    "Softmax: $\\sigma(\\vec{Z})_i = \\frac{e^{Z_i-b}}{\\sum_{j=1}^{C} e^{Z_j-b}}$, where $\\vec{Z}$ = input vector, $C$ = number of classes in the multi-class classifier, $b$ is $\\max_{j=1}^{C} Z_j$\n",
    "\n",
    "❗**Important**❗: The naive implementation $\\sigma(\\vec{Z})_i = \\frac{e^{Z_i}}{\\sum_{j=1}^{C} e^{Z_j}}$ is terrible when there are large numbers! You might encounter the following problems if you use the naive implementation.\n",
    "*   RuntimeWarning: overflow encountered in exp\n",
    "\n",
    "\n",
    "### 3.2.1.3. ReLU (rectified linear unit) function\n",
    "ReLU: $RELU(Z) = max(Z, 0)$\n",
    "\n",
    "**Exercise**: Implement activation function. (5% + 5%) (basic: Sigmoid and ReLU, advanced: Softmax)\n",
    "\n",
    "**Instruction**:\n",
    "*   Sigmoid: This function returns one item and stores one item: the activation value \"a\" and a cache contains \"z\" (it's what we will use in to the corresponding backward function).\n",
    "*   Softmax: This function returns one item and stores one item: the activation value \"a\" and a cache contains \"z\" (it's what we will use in to the corresponding backward function).\n",
    "*   ReLU: This function returns one item and stores one item: the activation value \"a\" and a cache contains \"z\" (it's what we will use in to the corresponding backward function)."
   ]
  },
  {
   "cell_type": "code",
   "execution_count": 8,
   "metadata": {
    "id": "gBuRAoeUC5jV"
   },
   "outputs": [
    {
     "name": "stdout",
     "output_type": "stream",
     "text": [
      "Sigmoid: A = [[0.00669285]\n",
      " [0.26894142]\n",
      " [0.5       ]\n",
      " [0.73105858]\n",
      " [0.99330715]]\n",
      "ReLU: A = [[0]\n",
      " [0]\n",
      " [0]\n",
      " [1]\n",
      " [5]]\n",
      "Softmax: A = \n",
      "[[0.0320586  0.08714432 0.23688282 0.64391426]\n",
      " [0.1748777  0.47536689 0.1748777  0.1748777 ]\n",
      " [0.0320586  0.08714432 0.23688282 0.64391426]]\n"
     ]
    }
   ],
   "source": [
    "Z = np.array([[-5], [-1], [0], [1], [5]])\n",
    "\n",
    "sigmoid = Activation(\"sigmoid\", 'cross_entropy')\n",
    "A = sigmoid.forward(Z)\n",
    "print(\"Sigmoid: A = \" + str(A))\n",
    "A = sigmoid.forward(np.array([[0.23], [-0.67], [0.45], [0.89], [-0.10]]))\n",
    "outputs[\"sigmoid\"] = (A, sigmoid.cache)\n",
    "\n",
    "relu = Activation(\"relu\", 'cross_entropy')\n",
    "A = relu.forward(Z)\n",
    "print(\"ReLU: A = \" + str(A))\n",
    "A = relu.forward(np.array([[-0.34], [-0.76], [0.21], [-0.98], [0.54]]))\n",
    "outputs[\"relu\"] = (A, relu.cache)\n",
    "\n",
    "Z = np.array([[1, 2, 3, 4],[0, 1, 0, 0],[-2, -1, 0, 1]])\n",
    "softmax = Activation(\"softmax\", 'cross_entropy')\n",
    "A = softmax.forward(Z)\n",
    "print(\"Softmax: A = \\n\" + str(A))\n",
    "A = softmax.forward(np.array([[0.12, -0.56, 0.78, -0.34], [0.45, 0.67, -0.89, 0.23], [-0.14, 0.50, -0.76, 0.98]]))\n",
    "outputs[\"softmax\"] = (A, softmax.cache)"
   ]
  },
  {
   "cell_type": "markdown",
   "metadata": {
    "id": "HyyX_xxdEmNp"
   },
   "source": [
    "Expected output:\n",
    "<table>\n",
    "  <tr>\n",
    "    <td>Sigmoid: A</td>\n",
    "    <td>[[0.00669285] [0.26894142] [0.5] [0.73105858] [0.99330715]]</td>\n",
    "  </tr>\n",
    "  <tr>\n",
    "    <td>ReLU: A</td>\n",
    "    <td>[[0] [0] [0] [1] [5]]</td>\n",
    "  </tr>\n",
    "  <tr>\n",
    "    <td>Softmax: A</td>\n",
    "    <td>\n",
    "      [[0.0320586 0.08714432 0.23688282 0.64391426]\n",
    "       [0.1748777 0.47536689 0.1748777 0.1748777]\n",
    "       [0.0320586 0.08714432 0.23688282 0.64391426]]\n",
    "    </td>\n",
    "  </tr>\n",
    "</table>"
   ]
  },
  {
   "cell_type": "markdown",
   "metadata": {
    "id": "0tlaPl8PpcbE"
   },
   "source": [
    "### 3.2.2. Activation backward (15%)\n",
    "Next, you will need to implement the backward functions of `sigmoid()`, `relu()`, `softmax()`+`compute_CCE_loss` and `softmax()`+`compute_focal_loss`.\n",
    "\n",
    "**Exercise**: Implement backward function. (5% + 10%) (basic: Sigmoid and ReLU, advanced: Softmax+CCE_loss, Softmax+Focal_loss)\n",
    "\n",
    "**Instruction**:\n",
    "*   sigmoid_backward: Implements the backward propagation for SIGMOID unit.\n",
    "*   relu_backward: Implements the backward propagation for RELU unit.\n",
    "*   softmax_CCE_backward: Implements the backward propagation for [SOFTMAX->CCE_LOSS] unit.\n",
    "*   softmax_focal_backward: Implements the backward propagation for [SOFTMAX->Focal_LOSS] unit.\n",
    "\n",
    "If $g(.)$ is the activation function, sigmoid_backward, relu_backward and softmax_backward compute$$dZ^{[l]} = dA^{[l]} * g'(Z^{[l]})$$\n",
    "\n",
    "1. The derivative of the sigmoid function is: $$σ^{'}(Z^{[l]}) = σ(Z^{[l]}) (1 - σ(Z^{[l]}))$$. <br>\n",
    "❗**Important**❗: You should use the numerically stable sigmoid function to prevent the overflow exponential problem.\n",
    "\n",
    "2. The derivative of the relu function is: $$g'(Z^{[l]}) = \\begin{cases}\n",
    "    1,& \\text{if } Z^{[l]}> 0\\\\\n",
    "    0,              & \\text{otherwise}\n",
    "\\end{cases}$$\n",
    "\n",
    "3. TLDR😉: The derivative of the softmax + categorical cross-entropy loss with respect to the last hidden layer is: $$\\frac{\\partial \\mathcal{L}}{\\partial Z} = s - y $$. <br> The derivative of the softmax function is: $$\\frac{\\partial S(z_i)}{\\partial z_j} = \\begin{cases}\n",
    "    S(z_i) \\times (1 - S(z_i)),& \\text{if } i = j\\\\\n",
    "    -S(z_i) \\times S(z_j),              & \\text{if } i \\neq j\n",
    "\\end{cases}$$, where $z$ is a vector with shape (number of classes K, 1) and $S(z_i) = \\frac{e^{z_i}}{\\sum_{j=1}^{K} e^{z_j}}$. Hence, the real derivative of softmax function would be a full Jacobian matrix. For the special case, K = 4, we have <img src=\"https://miro.medium.com/max/554/1*SWfgFQLDIPXDf1C6CHmr8A.png\" height=\"100\"/>. <br> It is quite complicated to calculate the softmax derivative on its own. However, if you use the softmax and the cross entropy loss, that complexity fades away. Since the softmax layer is usually used at the output, we can actually calculate the derivative of the categorical cross-entropy loss with respect to the n-th node in the last hidden layer. Instead of a long clunky formula, you end up with this terse, easy to compute thing: $$\\frac{\\partial \\mathcal{L}}{\\partial Z_i} = s_i - y_i $$, where $s$ is the output of the softmax function and the $y$ is the true label vector(one-hot vector). For more information, you can refer to this article [Derivative of the Softmax Function and the Categorical Cross-Entropy Loss](https://towardsdatascience.com/derivative-of-the-softmax-function-and-the-categorical-cross-entropy-loss-ffceefc081d1). <br>\n",
    "❗**Important**❗: The above mathematical derivation is based on naive implementation. In order to deal with the exponential overflow problem, we should use the normalized exponential function when counting $s$. For the sake of simplicity, we just use the same gradient equation as the naive implementation.\n",
    "\n",
    "4. The derivative of the softmax + Focal loss with respect to the last hidden layer can be written **elementwisely** in the following form:\n",
    "$$\n",
    "\\begin{equation}\n",
    "\\frac{\\partial \\mathcal{L}}{\\partial Z_{ij}} =\n",
    "\\left\\{\n",
    "\\begin{array}{ll}\n",
    "\\alpha_{t} (\\gamma(1 - p_{it})^{\\gamma-1} \\cdot (\\log p_{it}) \\cdot (p_{it} - p_{it}^2) - (1 - p_{it})^\\gamma \\cdot (1 - p_{it})), & j = t \\\\\n",
    "\\alpha_{t} (\\gamma(1 - p_{it})^{\\gamma-1} \\cdot (\\log p_{it}) \\cdot (-p_{ij} \\cdot p_{it}) - (1 - p_{it})^\\gamma \\cdot (-p_{ij})), & j \\neq t\n",
    "\\end{array}\n",
    "\\right.\n",
    "\\end{equation}\n",
    "$$, where\n",
    "    * $p$: $a^{[l]}$, that is, the softmax of the $Z^{[l]}$\n",
    "    * $p_{ij}$: for the $i$th example, the predicted probability for the $j$th class\n",
    "    * $p_{it}$: for the $i$th example, the predicted probability of the true label. (eg. Suppose a predicted probability for the $i$th example in 3-class classification is $[0.1, 0.4, 0.5]$ and the true label is $[0, 1, 0]$, then the $p_{it}$ is $0.4$)\n",
    "    * $\\alpha_{t}$: the $\\alpha$ correspond to the true label. (eg. With the above example, if your $\\alpha$ is $[1,2,3]$, then $\\alpha_{t} = 2$)\n",
    "    * $\\gamma$: the modulating factor, a float\n",
    "    \n",
    "   ❗**Important**❗:\n",
    "    * You should add $\\epsilon = 1e-5$ in each $log$.\n",
    "    * You can try to implement it in matrix form to speed it up!\n"
   ]
  },
  {
   "cell_type": "code",
   "execution_count": 9,
   "metadata": {
    "id": "0p1wxIeBpcbF"
   },
   "outputs": [
    {
     "name": "stdout",
     "output_type": "stream",
     "text": [
      "Sigmoid: dZ = [[-0.5       ]\n",
      " [-0.26935835]\n",
      " [-0.11969269]\n",
      " [-0.5       ]\n",
      " [-0.73139639]]\n",
      "ReLU: dZ = [[-0.    1.7 ]\n",
      " [-0.    0.  ]\n",
      " [-1.14  3.72]]\n",
      "SoftmaxCCE: dZ = [[-0.96488097  0.70538451  0.25949646]\n",
      " [ 0.09003057 -0.75527153  0.66524096]\n",
      " [ 0.01766842  0.01766842 -0.03533684]]\n",
      "SoftmaxFocal: dZ = [[-1.11727728e+00  8.16795141e-01  3.00482140e-01]\n",
      " [ 1.96405971e-01 -1.64766071e+00  1.45125474e+00]\n",
      " [ 1.96157485e-04  1.96157485e-04 -3.92314970e-04]]\n"
     ]
    }
   ],
   "source": [
    "dA, cache = np.array([[-2], [-1.37], [-1.14], [-2], [-3.72]]), np.array([[0], [1], [2], [0], [1]])\n",
    "sigmoid = Activation(\"sigmoid\", 'cross_entropy')\n",
    "sigmoid.cache = cache\n",
    "dZ = sigmoid.backward(dA=dA)\n",
    "print(\"Sigmoid: dZ = \"+ str(dZ))\n",
    "dA, cache = np.array([[9.73], [-7.56], [8.34], [-4.12], [6.89]]), np.array([[-5.45], [3.68], [-2.32], [4.51], [-9.27]])\n",
    "sigmoid.cache = cache\n",
    "outputs[\"sigmoid_backward\"] = sigmoid.backward(dA=dA)\n",
    "\n",
    "relu = Activation(\"relu\", 'cross_entropy')\n",
    "dA, cache = np.array([[-2., 1.7 ], [-1.37, 2.], [-1.14, 3.72]]), np.array([[-2, 1], [-1, 0], [2, 1]])\n",
    "relu.cache = cache\n",
    "dZ = relu.backward(dA=dA)\n",
    "print(\"ReLU: dZ = \"+ str(dZ))\n",
    "dA, cache = np.array([[7.24, -3.58], [8.93, 6.45], [-2.11, 9.87]]), np.array([[-4.76, 5.34], [1.98, -7.22], [3.67, -8.56]])\n",
    "relu.cache = cache\n",
    "outputs[\"relu_backward\"] = relu.backward(dA=dA)\n",
    "\n",
    "Y, cache = np.array([[1, 0, 0],[0, 1, 0],[0, 0, 1]]), np.array([[-2, 1, 0],[-1, 0, 1],[-2, -2, 2]])\n",
    "softmax = Activation(\"softmax\", 'cross_entropy')\n",
    "softmax.cache = cache\n",
    "dZ = softmax.backward(Y=Y)\n",
    "print(\"SoftmaxCCE: dZ = \" + str(dZ))\n",
    "Y, cache = np.array([[0, 1, 0], [0, 1, 0], [1, 0, 0]]), np.array([[-9.45, 7.32, 3.58], [5.61, -8.27, 6.49], [1.23, -4.56, 7.84]])\n",
    "softmax.cache = cache\n",
    "outputs[\"softmax_CCE_backward\"] = softmax.backward(Y=Y)\n",
    "\n",
    "Y, cache, alpha, gamma = np.array([[1, 0, 0],[0, 1, 0],[0, 0, 1]]), np.array([[-2, 1, 0],[-1, 0, 1],[-2, -2, 2]]), np.array([1,2,3]), 2.\n",
    "softmax = Activation(\"softmax\", 'focal_loss', alpha, gamma)\n",
    "softmax.cache = cache\n",
    "dZ = softmax.backward(Y=Y)\n",
    "print(\"SoftmaxFocal: dZ = \" + str(dZ))\n",
    "Y, cache, alpha, gamma = np.array([[0, 1, 0], [1, 0, 0], [0, 0, 1]]), np.array([[-6.39, 8.20, -1.54], [5.61, -3.78, 7.32], [-4.56, 9.87, -2.68]]), np.array([0.1,0.2,0.5]), 5\n",
    "softmax.cache = cache\n",
    "outputs[\"softmax_Focal_backward\"] = softmax.backward(Y=Y)"
   ]
  },
  {
   "cell_type": "markdown",
   "metadata": {
    "id": "OwYDe3WfpcbF"
   },
   "source": [
    "Expected output:\n",
    "<table>\n",
    "  <tr>\n",
    "    <td>(with Sigmoid) dZ</td>\n",
    "    <td>[[-0.5] [-0.26935835] [-0.11969269] [-0.5] [-0.73139639]]</td>\n",
    "  </tr>\n",
    "  <tr>\n",
    "    <td>(with ReLU) dZ</td>\n",
    "    <td>[[0 1.7] [0 0] [-1.14 3.72]]</td>\n",
    "  </tr>\n",
    "  <tr>\n",
    "    <td>(with SoftmaxCCE) dZ</td>\n",
    "    <td>\n",
    "      [[-0.96488097 0.70538451 0.25949646]\n",
    "       [0.09003057 -0.75527153 0.66524096]\n",
    "       [0.01766842 0.01766842 -0.03533684]]\n",
    "    </td>\n",
    "  </tr>\n",
    "  <tr>\n",
    "    <td>(with SoftmaxFocal) dZ</td>\n",
    "    <td>\n",
    "      [[-1.11727728e+00 8.16795141e-01 3.00482140e-01]\n",
    "       [1.96405971e-01 -1.64766071e+00 1.45125474e+00]\n",
    "       [1.96157485e-04 1.96157485e-04 -3.92314970e-04]]\n",
    "    </td>\n",
    "  </tr>\n",
    "</table>"
   ]
  },
  {
   "cell_type": "markdown",
   "metadata": {
    "id": "RYqpQu6Eye7h"
   },
   "source": [
    "## 3.3. Model (10%)\n",
    "Alright, now you have all the tools that are needed to build a model. Let's get started! 😀\n",
    "\n"
   ]
  },
  {
   "cell_type": "code",
   "execution_count": 10,
   "metadata": {
    "id": "0JGMzfIDCSVz"
   },
   "outputs": [],
   "source": [
    "class Model():\n",
    "    def __init__(self, units, activation_functions, loss_function, alpha=None, gamma=None):\n",
    "        self.units = units\n",
    "        self.activation_functions = activation_functions\n",
    "        self.loss_function = loss_function\n",
    "        self.alpha = alpha\n",
    "        self.gamma = gamma\n",
    "        self.initialize_parameters()\n",
    "\n",
    "    def initialize_parameters(self):\n",
    "        \"\"\"\n",
    "        Arguments:\n",
    "        self.units -- number of nodes/units for each layer, starting from the input dimension and ending with the output dimension (i.e., [4, 4, 1])\n",
    "        self.activation_functions -- activation functions used in each layer (i.e, [\"relu\", \"sigmoid\"])\n",
    "        self.loss_function -- [\"cross_entropy\", \"focal_loss\"]\n",
    "        self.alpha -- weighting factors used by focal loss correspond to each class, shape: (C,)\n",
    "        self.gamma -- a float, used by focal loss\n",
    "        \"\"\"\n",
    "        self.linear = []        # a list to store the dense layers when initializing the model\n",
    "        self.activation = []    # a list to store the activation function layers when initializing the model\n",
    "\n",
    "        for i in range(len(self.units)-1):\n",
    "            dense = Dense(self.units[i], self.units[i+1], i)\n",
    "            self.linear.append(dense)\n",
    "\n",
    "        for i in range(len(self.activation_functions)):\n",
    "            self.activation.append(Activation(self.activation_functions[i], self.loss_function, self.alpha, self.gamma))\n",
    "\n",
    "    def forward(self, X):\n",
    "        \"\"\"\n",
    "        Arguments:\n",
    "        X -- input data: shape (n, f)\n",
    "\n",
    "        Returns:\n",
    "        A -- output of L-layer neural network, probability vector corresponding to your label predictions, shape (n, C)\n",
    "        \"\"\"\n",
    "        A = X\n",
    "\n",
    "        # GRADED FUNCTION: model_forward\n",
    "        ### START CODE HERE ### (≈ 4 lines of code)\n",
    "        for i in range(len(self.units)-1):\n",
    "            A = self.linear[i].forward(A)\n",
    "            A = self.activation[i].forward(A)\n",
    "        ### END CODE HERE ###\n",
    "\n",
    "        return A\n",
    "\n",
    "    def backward(self, AL=None, Y=None):\n",
    "        \"\"\"\n",
    "        Arguments:\n",
    "        For multi-class classification,\n",
    "        AL -- output of L-layer neural network, probability vector corresponding to your label predictions, shape (n, C)\n",
    "        Y -- true \"label\" vector (one hot vector, for example: [1,0,0] represents rock, [0,1,0] represents paper, [0,0,1] represents scissors\n",
    "                                      in a Rock-Paper-Scissors, shape: (n, C)\n",
    "\n",
    "        Returns:\n",
    "        dA_prev -- post-activation gradient\n",
    "        \"\"\"\n",
    "\n",
    "        L = len(self.linear)\n",
    "        C = Y.shape[1]\n",
    "\n",
    "        # assertions\n",
    "        warning = 'Warning: only the following 4 combinations are allowed! \\n \\\n",
    "                    1. binary classification: sigmoid + cross_entropy) \\n \\\n",
    "                    2. binary classification: softmax + focal_loss) \\n \\\n",
    "                    3. multi-class classification: softmax + cross_entropy) \\n \\\n",
    "                    4. multi-class classification: softmax + focal_loss)'\n",
    "        assert self.loss_function in [\"cross_entropy\", \"focal_loss\"], \"you're using undefined loss function!\"\n",
    "        if Y.shape[1] <= 2:                                 # in binary classification\n",
    "            if self.loss_function == \"cross_entropy\":\n",
    "                assert self.activation_functions[-1] == 'sigmoid', warning\n",
    "                assert self.units[-1] == 1, \"you should set last dim to 1 when using sigmoid + cross_entropy in binary classification!\"\n",
    "            elif self.loss_function  == \"focal_loss\":\n",
    "                assert self.activation_functions[-1] == 'softmax', warning\n",
    "                assert self.units[-1] == 2, \"you should set last dim to 2 when using softmax + focal_loss in binary classification!\"\n",
    "        else:                                               # in multi-class classification\n",
    "            assert self.activation_functions[-1] == 'softmax', warning\n",
    "            assert self.units[-1] == Y.shape[1], f\"you should set last dim to {Y.shape[1]}(the number of classes) in multi-class classification!\"\n",
    "\n",
    "        # GRADED FUNCTION: model_backward\n",
    "        ### START CODE HERE ### (≈ 20 lines of code)\n",
    "    \n",
    "        if self.activation_functions[-1] == \"sigmoid\":\n",
    "            if self.loss_function == 'cross_entropy':\n",
    "                # Initializing the backpropagation\n",
    "                et = 1e-5\n",
    "                dAL = -(np.divide(Y, AL + et) - np.divide(1 - Y, 1 - AL + et))\n",
    "\n",
    "                # Lth layer (SIGMOID -> LINEAR) gradients. Inputs: \"dAL\". Outputs: \"dA_prev\"  \n",
    "                dZ = self.activation[-1].backward(dA = dAL, Y=Y) # AL, Y\n",
    "                dA_prev =  self.linear[-1].backward(dZ = dZ) # dZ\n",
    "                \n",
    "        elif self.activation_functions[-1] == \"softmax\":\n",
    "            # Initializing the backpropagation\n",
    "            dZ = self.activation[-1].backward(dA = AL, Y=Y)\n",
    "\n",
    "            # Lth layer (LINEAR) gradients. Inputs: \"dZ\". Outputs: \"dA_prev\"\n",
    "            dA_prev = self.linear[-1].backward(dZ = dZ)\n",
    "\n",
    "        # Loop from l=L-2 to l=0\n",
    "        # lth layer: (RELU -> LINEAR) gradients.\n",
    "        # Inputs: \"dA_prev\". Outputs: \"dA_prev\"\n",
    "        for i in range(L-2, -1, -1):\n",
    "            dZ = self.activation[i].backward(dA = dA_prev, Y=Y)\n",
    "            dA_prev = self.linear[i].backward(dZ = dZ)\n",
    "        ### END CODE HERE ###\n",
    "\n",
    "        return dA_prev\n",
    "\n",
    "    def update(self, learning_rate):\n",
    "        \"\"\"\n",
    "        Arguments:\n",
    "        learning_rate -- step size\n",
    "        \"\"\"\n",
    "\n",
    "        L = len(self.linear)\n",
    "\n",
    "        # GRADED FUNCTION: model_update_parameters\n",
    "        ### START CODE HERE ### (≈ 2 lines of code)\n",
    "        for i in self.linear:\n",
    "            i.update(learning_rate)\n",
    "        ### END CODE HERE ###"
   ]
  },
  {
   "cell_type": "markdown",
   "metadata": {
    "id": "xEFH6EffwB0f"
   },
   "source": [
    "### 3.3.1. Model initialize parameters (0%)\n",
    "First, you will need to initialize your model by creating several linear and activation function layers.\n",
    "\n",
    "**Exercise**: Implement model initialize parameters.\n",
    "\n",
    "**Instruction**:\n",
    "*   Use the functions you had previously written.\n",
    "*   Store all the linear layers in a list called linear.\n",
    "*   Store all the activation function layers in a list called activation.\n",
    "\n",
    "❗**Important**❗: We set the random seed for grading purposes to keep all the random function calls consistent. However, we still want all the linear layers to have different initialized weights, so when implementing this function, please make sure that you pass the number of iterations as the seed number to the Dense layer initialization call.\n",
    "\n",
    "**Note**: In deep learning, a linear-activation layer is counted as a single layer in the neural network, not two layers since the activation layer does not have any parameter."
   ]
  },
  {
   "cell_type": "code",
   "execution_count": 11,
   "metadata": {
    "id": "EGY7_1bjcm-c"
   },
   "outputs": [
    {
     "name": "stdout",
     "output_type": "stream",
     "text": [
      "W1:  [[ 0.09762701  0.08976637 -0.12482558]\n",
      " [ 0.43037873 -0.1526904   0.783546  ]\n",
      " [ 0.20552675  0.29178823  0.92732552]] \n",
      "b1:  [[0. 0. 0.]]\n",
      "W2:  [[-0.20325375]\n",
      " [ 0.53968259]\n",
      " [-1.22446471]] \n",
      "b2:  [[0.]]\n"
     ]
    }
   ],
   "source": [
    "model = Model([3, 3, 1], [\"relu\", \"sigmoid\"], \"cross_entropy\")\n",
    "print(\"W1: \", model.linear[0].parameters[\"W\"], \"\\nb1: \", model.linear[0].parameters[\"b\"])\n",
    "print(\"W2: \", model.linear[1].parameters[\"W\"], \"\\nb2: \", model.linear[1].parameters[\"b\"])"
   ]
  },
  {
   "cell_type": "markdown",
   "metadata": {
    "id": "LEmggOxtdMnl"
   },
   "source": [
    "Expected output:\n",
    "<table>\n",
    "  <tr>\n",
    "    <td>W1:</td>\n",
    "    <td>[[ 0.09762701 0.08976637 -0.12482558] [ 0.43037873 -0.1526904 0.783546 ] [ 0.20552675 0.29178823 0.92732552]]</td>\n",
    "  </tr>\n",
    "  <tr>\n",
    "    <td>b1:</td>\n",
    "    <td>[[0. 0. 0.]]</td>\n",
    "  </tr>\n",
    "  <tr>\n",
    "    <td>W2:</td>\n",
    "    <td>[[-0.20325375] [ 0.53968259] [-1.22446471]]</td>\n",
    "  </tr>\n",
    "  <tr>\n",
    "    <td>b2:</td>\n",
    "    <td>[[0.]]</td>\n",
    "  </tr>\n",
    "</table>"
   ]
  },
  {
   "cell_type": "markdown",
   "metadata": {
    "id": "pJVlZeyNAu-y"
   },
   "source": [
    "### 3.3.2. Model forward (4%)\n",
    "\n",
    "After that, you will implement the model forward function by calling the forward function of each layer in the linear and activation function layer you have created in the previous step.\n",
    "\n",
    "For a $N$-layer neural network, you will call the forward function of the linear layers and then followed by the activation function layers for $N-1$ times. The last activation function layer will be sigmoid for binary classification and softmax for multi-class classification.\n",
    "\n",
    "**Exercise**: Implement model forward.\n",
    "\n",
    "**Instruction**:\n",
    "*   Use the functions you had previously written.\n",
    "*   Use a for loop to replicate [LINEAR->ACTIVATION] (N-1) times.\n",
    "\n",
    "**Note**: In the final layer, there are K nodes for K-class classification, but only one node is needed for binary classification. This might seem confusing at first, as it intuitively appears that two nodes should be present in the last layer for binary classification. However, both approaches - the one-node technique (eg. using sigmoid activation + binary cross-entropy loss) and the two-node technique (eg. using softmax activation + categorical cross-entropy loss) - are effective for binary classification. The choice between these techniques is often based on personal preference. For this assignment, in the binary classification, you will use the former approach which is the more common practice, and the latter approach with focal loss (not CCE), due to its ease of implementation.\n",
    "\n"
   ]
  },
  {
   "cell_type": "code",
   "execution_count": 12,
   "metadata": {
    "id": "6yVQQqe2EyHA"
   },
   "outputs": [
    {
     "name": "stdout",
     "output_type": "stream",
     "text": [
      "With sigmoid: A = [[0.64565631]\n",
      " [0.20915937]\n",
      " [0.77902611]]\n",
      "With ReLU: A = [[0.6 ]\n",
      " [0.  ]\n",
      " [1.26]]\n",
      "With softmax: A = \n",
      "[[0.47535001 0.14317267 0.38147732]\n",
      " [0.05272708 0.75380161 0.19347131]\n",
      " [0.68692136 0.05526942 0.25780921]]\n"
     ]
    }
   ],
   "source": [
    "A_prev, W, b = np.array([[0.1, 1.1, 2.9],[-1.2, 0.2, -2.5],[1.9, 2.3, 3.7]]), np.array([[0.1], [0.2], [0.3]]), np.array([[-0.5]])\n",
    "model = Model([3, 1], [\"sigmoid\"], \"cross_entropy\")\n",
    "model.linear[0].parameters = {\"W\": W, \"b\": b}\n",
    "A = model.forward(A_prev)\n",
    "print(\"With sigmoid: A = \" + str(A))\n",
    "A_prev, W, b = np.array([[4.35, -5.67], [-7.89, 8.12]]), np.array([[-3.54], [-2.34]]), np.array([[0.8]])\n",
    "model = Model([2, 1], [\"sigmoid\"], \"cross_entropy\")\n",
    "model.linear[0].parameters = {\"W\": W, \"b\": b}\n",
    "A = model.forward(A_prev)\n",
    "outputs[\"model_forward_sigmoid\"] = (A, (model.linear[0].cache, model.activation[0].cache))\n",
    "\n",
    "A_prev, W, b = np.array([[0.1, 1.1, 2.9],[-1.2, 0.2, -2.5],[1.9, 2.3, 3.7]]), np.array([[0.1], [0.2], [0.3]]), np.array([[-0.5]])\n",
    "model = Model([3, 1], [\"relu\"], \"cross_entropy\")\n",
    "model.linear[0].parameters = {\"W\": W, \"b\": b}\n",
    "A = model.forward(A_prev)\n",
    "print(\"With ReLU: A = \" + str(A))\n",
    "A_prev, W, b = np.array([[7.23, -4.56], [5.67, -8.90]]), np.array([[-9.12], [3.45]]), np.array([[0.25]])\n",
    "model = Model([2, 1], [\"relu\"], \"cross_entropy\")\n",
    "model.linear[0].parameters = {\"W\": W, \"b\": b}\n",
    "A = model.forward(A_prev)\n",
    "outputs[\"model_forward_relu\"] = (A, (model.linear[0].cache, model.activation[0].cache))\n",
    "\n",
    "A_prev, W, b = np.array([[0.1, 1.1, 2.9],[-1.2, 0.2, -2.5],[1.9, 2.3, 3.7]]), np.array([[0.1, -0.1, -0.1],[0.2, -0.2, 0.],[0.3, -0.3, 0.1]]), np.array([[-0.5, 0.5, 0.1]])\n",
    "model = Model([3, 3], [\"softmax\"], \"cross_entropy\")\n",
    "model.linear[0].parameters = {\"W\": W, \"b\": b}\n",
    "A = model.forward(A_prev)\n",
    "print(\"With softmax: A = \\n\" + str(A))\n",
    "A_prev, W, b = np.array([[-5.12, 4.56, 7.89], [8.34, -6.78, 2.45], [3.21, -4.67, 5.98]]), np.array([[6.23, -7.85, 4.56], [-3.21, 9.87, -2.34], [1.23, -5.67, 8.90]]), np.array([[4.12, -6.54, 7.89]])\n",
    "model = Model([3, 3], [\"softmax\"], \"cross_entropy\")\n",
    "model.linear[0].parameters = {\"W\": W, \"b\": b}\n",
    "A = model.forward(A_prev)\n",
    "outputs[\"model_forward_softmax\"] = (A, (model.linear[0].cache, model.activation[0].cache))"
   ]
  },
  {
   "cell_type": "markdown",
   "metadata": {
    "id": "QMkf2ss6F52W"
   },
   "source": [
    "Expected output:\n",
    "<table>\n",
    "  <tr>\n",
    "    <td>With Sigmoid:</td>\n",
    "    <td>A = [[0.64565631] [0.20915937] [0.77902611]]</td>\n",
    "  </tr>\n",
    "  <tr>\n",
    "    <td>With ReLU:</td>\n",
    "    <td>A = [[0.6 ] [0. ] [1.26]]</td>\n",
    "  </tr>\n",
    "  <tr>\n",
    "    <td>With Softmax:</td>\n",
    "    <td>A = [[0.47535001 0.14317267 0.38147732] [0.05272708 0.75380161 0.19347131] [0.68692136 0.05526942 0.25780921]]</td>\n",
    "  </tr>\n",
    "</table>"
   ]
  },
  {
   "cell_type": "code",
   "execution_count": 13,
   "metadata": {
    "id": "s26LVkCbIbJ3"
   },
   "outputs": [
    {
     "name": "stdout",
     "output_type": "stream",
     "text": [
      "AL = [[0.56058713]\n",
      " [0.55220559]\n",
      " [0.46331713]]\n",
      "Length of layers list = 2\n",
      "AL = [[0.11637212 0.08186754 0.0924809  0.09675205 0.12819411 0.09664001\n",
      "  0.08448599 0.09067641 0.1294968  0.08303407]\n",
      " [0.11413265 0.08432761 0.09365443 0.09736489 0.12404237 0.09726785\n",
      "  0.08664355 0.09207969 0.12512634 0.08536063]\n",
      " [0.09750771 0.07419482 0.08444682 0.10943351 0.09669465 0.11116299\n",
      "  0.08734059 0.12452515 0.13002144 0.08467232]]\n",
      "Length of layers list = 2\n"
     ]
    }
   ],
   "source": [
    "# binary classification\n",
    "X = np.array([[0, -2, 0.5], [1, -1, 0.5], [2, 0, 0.5]])\n",
    "model = Model([3, 3, 1], [\"relu\", \"sigmoid\"], \"cross_entropy\")\n",
    "AL = model.forward(X)\n",
    "print(\"AL = \" + str(AL))\n",
    "print(\"Length of layers list = \" + str(len(model.linear)))\n",
    "\n",
    "# multi-class classification\n",
    "X = np.array([[0, -2, 0.5], [1, -1, 0.5], [2, 0, 0.5]])\n",
    "model = Model([3, 3, 10], [\"relu\", \"softmax\"], \"cross_entropy\")\n",
    "AL = model.forward(X)\n",
    "print(\"AL = \" + str(AL))\n",
    "print(\"Length of layers list = \" + str(len(model.linear)))"
   ]
  },
  {
   "cell_type": "markdown",
   "metadata": {
    "id": "zoCdrONOHhvw"
   },
   "source": [
    "Expected output:\n",
    "<table>\n",
    "  <tr>\n",
    "    <td>AL:</td>\n",
    "    <td>[[0.56058713] [0.55220559] [0.46331713]]</td>\n",
    "  </tr>\n",
    "  <tr>\n",
    "    <td>Length of layers list:</td>\n",
    "    <td>2</td>\n",
    "  </tr>\n",
    "  <tr>\n",
    "    <td>AL:</td>\n",
    "    <td>[[0.11637212 0.08186754 0.0924809  0.09675205 0.12819411 0.09664001 0.08448599 0.09067641 0.1294968  0.08303407]\n",
    "         [0.11413265 0.08432761 0.09365443 0.09736489 0.12404237 0.09726785 0.08664355 0.09207969 0.12512634 0.08536063]\n",
    "         [0.09750771 0.07419482 0.08444682 0.10943351 0.09669465 0.11116299 0.08734059 0.12452515 0.13002144 0.08467232]]</td>\n",
    "  </tr>\n",
    "  <tr>\n",
    "    <td>Length of layers list:</td>\n",
    "    <td>2</td>\n",
    "  </tr>\n",
    "</table>"
   ]
  },
  {
   "cell_type": "markdown",
   "metadata": {
    "id": "hPBl7iq7N2wY"
   },
   "source": [
    "### 3.3.3. Model backward (4%)\n",
    "Now you will implement the backward function for the whole network. Recall that you have implemented the backward function for the dense and activation function layer. In this section, you will call these functions to help you implement the model backward function. You will iterate through all the hidden layers backward, starting from layer $L$. On each step, you will call the backward function of layer $l$ to backpropagate through layer $l$.\n",
    "\n",
    "**Exercise**: Implement model backward.\n",
    "\n",
    "**Instruction**:\n",
    "*   Use the functions you had previously written.\n",
    "*   Initialize backpropagation.\n",
    "*   Use a for loop to backprop from layer $L-1$ to layer $1$.\n",
    "\n",
    "Initializing backpropagation:\n",
    "\n",
    "(1) **Binary classification**: To backpropagate through this network, we know that the output is, $A^{[L]} = \\sigma(Z^{[L]})$. Your code thus needs to compute dAL $= \\frac{\\partial \\mathcal{L}}{\\partial A^{[L]}}$. To do so, use the formulas (derived using calculus which you don't need in-depth knowledge of):\n",
    "```\n",
    "dAL = - (np.divide(Y, AL + ϵ) - np.divide(1 - Y, 1 - AL + ϵ)) # derivative of loss with respect to AL, where ϵ = 1e-5 is added to prevent zero division.\n",
    "```\n",
    "You can then use this post-activation gradient dAL to keep going backward. You can now feed in dAL into the LINEAR->SIGMOID backward function you implemented (which will use the cached values stored inside each layer in the forward pass). After that, you will have to use a for loop to iterate through all the other layers using the LINEAR->RELU backward function.\n",
    "\n",
    "(2) **Multi-class classification**: Since you have implemented the backward function of the softmax activation function layer along with the categorical cross-entropy loss (same with focal loss), you can directly call the softmax_CCE_backward function implemented inside the activation function layer and followed by the linear backward function to obtain the post-activation gradient to keep going backward. After that, you will have to use a for loop to iterate through all the other layers using the LINEAR->RELU backward function.\n"
   ]
  },
  {
   "cell_type": "code",
   "execution_count": 14,
   "metadata": {
    "id": "HOGsyLXPNGh5"
   },
   "outputs": [
    {
     "name": "stdout",
     "output_type": "stream",
     "text": [
      "sigmoid:\n",
      "dA_prev = [[ 0.55554938  0.27777469]\n",
      " [ 0.49152369  0.24576184]\n",
      " [-0.41996594 -0.20998297]\n",
      " [-0.55554938 -0.27777469]\n",
      " [-0.39321993 -0.19660997]]\n",
      "dW = [[-0.29446117]\n",
      " [ 0.29446117]]\n",
      "db = [[-0.03216622]]\n",
      "\n",
      "relu:\n",
      "dA_prev = [[-0.01269296 -0.05595562]\n",
      " [ 0.01470136  0.06480946]\n",
      " [ 0.          0.        ]\n",
      " [-0.07496777 -0.0327431 ]\n",
      " [-0.07151883 -0.03123674]]\n",
      "dW = [[ 0.0178719  -0.17321413]\n",
      " [-0.0178719   0.17321413]]\n",
      "db = [[ 0.00335943 -0.11638953]]\n",
      "\n"
     ]
    }
   ],
   "source": [
    "AL, Y, linear_activation_cache = np.array([[0.1], [0.2], [0.5], [0.9], [1.0]]), np.array([[0], [0], [1], [1], [1]]), (((np.array([[-2, 2], [-1, 1], [0, 0], [1, -1], [2, -2]]), np.array([[2.0], [1.0]]), np.array([[0.5]])), np.array([[0], [1], [2], [0], [1]])))\n",
    "model = Model([2, 1], [\"sigmoid\"], \"cross_entropy\")\n",
    "model.linear[0].cache = linear_activation_cache[0]\n",
    "model.activation[0].cache = linear_activation_cache[1]\n",
    "dA_prev = model.backward(AL=AL, Y=Y)\n",
    "print (\"sigmoid:\")\n",
    "print (\"dA_prev = \"+ str(dA_prev))\n",
    "print (\"dW = \" + str(model.linear[0].dW))\n",
    "print (\"db = \" + str(model.linear[0].db) + \"\\n\")\n",
    "AL, Y, linear_activation_cache = np.array([[0.35], [0.93], [0.23], [0.72], [0.90]]), np.array([[1], [0], [1], [0], [1]]), (((np.array([[-1, 2], [1, 3], [2, 0], [1, -4], [3, -2]]), np.array([[1.7], [3.2]]), np.array([[0.25]])), np.array([[2], [1], [2], [0], [0]])))\n",
    "model = Model([2, 1], [\"sigmoid\"], \"cross_entropy\")\n",
    "model.linear[0].cache = linear_activation_cache[0]\n",
    "model.activation[0].cache = linear_activation_cache[1]\n",
    "dA_prev = model.backward(AL=AL, Y=Y)\n",
    "outputs[\"model_backward_sigmoid\"] = (dA_prev, model.linear[0].dW, model.linear[0].db)\n",
    "\n",
    "X, Y = np.array([[-2, 2], [-1, 1], [0, 0], [1, -1], [2, -2]]), np.array([[0], [1], [1], [1], [1]])\n",
    "model = Model([2, 2, 1], [\"relu\", \"sigmoid\"], \"cross_entropy\")\n",
    "AL = model.forward(X)\n",
    "dA_prev = model.backward(AL=AL, Y=Y)\n",
    "print (\"relu:\")\n",
    "print (\"dA_prev = \"+ str(dA_prev))\n",
    "print (\"dW = \" + str(model.linear[0].dW))\n",
    "print (\"db = \" + str(model.linear[0].db) + \"\\n\")\n",
    "X, Y = np.array([[4.56, -3.21], [-7.85, 6.34], [2.45, -8.90], [5.67, 3.12], [-4.78, 7.89]]), np.array([[1], [1], [0], [1], [0]])\n",
    "model = Model([2, 2, 1], [\"relu\", \"sigmoid\"], \"cross_entropy\")\n",
    "AL = model.forward(X)\n",
    "dA_prev = model.backward(AL=AL, Y=Y)\n",
    "outputs[\"model_backward_relu\"] = (dA_prev, model.linear[0].dW, model.linear[0].db)"
   ]
  },
  {
   "cell_type": "markdown",
   "metadata": {
    "id": "o6xzEk3-NGh6"
   },
   "source": [
    "Expected output:\n",
    "<table>\n",
    "  <tr>\n",
    "    <th colspan=\"2\">Sigmoid</th>\n",
    "  </tr>\n",
    "  <tr>\n",
    "    <td>dA_prev:</td>\n",
    "    <td>[[ 0.55554938  0.27777469] [ 0.49152369  0.24576184] [-0.41996594 -0.20998297] [-0.55554938 -0.27777469] [-0.39321993 -0.19660997]]</td>\n",
    "  </tr>\n",
    "  <tr>\n",
    "    <td>dW:</td>\n",
    "    <td>[[-0.29446117] [ 0.29446117]]</td>\n",
    "  </tr>\n",
    "  <tr>\n",
    "    <td>db:</td>\n",
    "    <td>[[-0.03216622]]</td>\n",
    "  </tr>\n",
    "  <tr>\n",
    "    <th colspan=\"2\">ReLU</th>\n",
    "  </tr>\n",
    "  <tr>\n",
    "    <td>dA_prev:</td>\n",
    "    <td>[[-0.01269296 -0.05595562] [ 0.01470136  0.06480946] [ 0.  0. ] [-0.07496777 -0.0327431 ] [-0.07151883 -0.03123674]]</td>\n",
    "  </tr>\n",
    "  <tr>\n",
    "    <td>dW:</td>\n",
    "    <td>[[ 0.0178719  -0.17321413] [-0.0178719   0.17321413]]</td>\n",
    "  </tr>\n",
    "  <tr>\n",
    "    <td>db:</td>\n",
    "    <td>[[ 0.00335943 -0.11638953]]</td>\n",
    "  </tr>\n",
    "</table>"
   ]
  },
  {
   "cell_type": "code",
   "execution_count": 15,
   "metadata": {
    "id": "BC1QnMSKN2wZ"
   },
   "outputs": [
    {
     "name": "stdout",
     "output_type": "stream",
     "text": [
      "Binary classification - cross_entropy\n",
      "dW1 = [[-0.06277946  0.26602938 -0.37820327]\n",
      " [ 0.          0.05875647  0.        ]\n",
      " [-0.01569486  0.05181823 -0.09455082]]\n",
      "db1 = [[-0.03138973  0.10363646 -0.18910163]]\n",
      "dA_prev = [[-0.02128713  0.03620889 -0.06919444]\n",
      " [ 0.02675119 -0.04550313  0.08695554]\n",
      " [ 0.08406585 -0.52321654 -0.47247201]]\n",
      "\n",
      "Binary classification - focal_loss\n",
      "dW1 = [[ 0.16650099  1.26851068 -0.133887  ]\n",
      " [ 0.         -0.33320702  0.        ]\n",
      " [ 0.04162525  0.40042943 -0.03347175]]\n",
      "db1 = [[ 0.08325049  0.80085885 -0.0669435 ]]\n",
      "dA_prev = [[-0.01381806  0.02350419 -0.04491602]\n",
      " [ 0.11736847 -0.19964092  0.3815097 ]\n",
      " [ 0.16157143 -0.24058586  0.22954524]]\n",
      "\n",
      "Multi-class classification - cross_entropy\n",
      "dW1 = [[ 0.16593371  0.33171007 -0.32297709]\n",
      " [ 0.          0.15006987  0.        ]\n",
      " [ 0.04148343  0.04541005 -0.08074427]]\n",
      "db1 = [[ 0.08296685  0.0908201  -0.16148854]]\n",
      "dA_prev = [[-0.04735391  0.08054785 -0.15392528]\n",
      " [ 0.05429414 -0.09235301  0.1764847 ]\n",
      " [ 0.10229066 -0.30227651 -0.34116033]]\n",
      "\n",
      "Multi-class classification - focal_loss\n",
      "dW1 = [[ 0.47080109  0.79334211 -0.9163778 ]\n",
      " [ 0.         -0.16669457  0.        ]\n",
      " [ 0.11770027  0.24000917 -0.22909445]]\n",
      "db1 = [[ 0.23540055  0.48001834 -0.4581889 ]]\n",
      "dA_prev = [[-0.03467556  0.05898229 -0.11271394]\n",
      " [ 0.11424182 -0.19432256  0.37134643]\n",
      " [ 0.29022768 -0.85764439 -0.96796884]]\n",
      "\n"
     ]
    }
   ],
   "source": [
    "# binary classification - cross_entropy\n",
    "X, Y = np.array([[0, -2, 0.5], [1, -1, 0.5], [2, 0, 0.5]]), np.array([[1], [0], [0]])\n",
    "model = Model([3, 3, 1], [\"relu\", \"sigmoid\"], \"cross_entropy\")\n",
    "AL = model.forward(X)\n",
    "dA_prev = model.backward(AL=AL, Y=Y)\n",
    "print(\"Binary classification - cross_entropy\")\n",
    "print(\"dW1 = \"+ str(model.linear[0].dW))\n",
    "print(\"db1 = \"+ str(model.linear[0].db))\n",
    "print(\"dA_prev = \"+ str(dA_prev) +\"\\n\")\n",
    "\n",
    "# binary classification - focal loss\n",
    "X, Y = np.array([[0, -2, 0.5], [1, -1, 0.5], [2, 0, 0.5]]), np.array([[1, 0], [0, 1], [0, 1]])\n",
    "model = Model([3, 3, 2], [\"relu\", \"softmax\"], \"focal_loss\", alpha=np.array([1,2]), gamma=2.)\n",
    "AL = model.forward(X)\n",
    "dA_prev = model.backward(AL=AL, Y=Y)\n",
    "print(\"Binary classification - focal_loss\")\n",
    "print(\"dW1 = \"+ str(model.linear[0].dW))\n",
    "print(\"db1 = \"+ str(model.linear[0].db))\n",
    "print(\"dA_prev = \"+ str(dA_prev) +\"\\n\")\n",
    "\n",
    "# multi-class classification - cross_entropy\n",
    "X, Y = np.array([[0, -2, 0.5], [1, -1, 0.5], [2, 0, 0.5]]), np.array([[1, 0, 0], [0, 1, 0], [0, 0, 1]])\n",
    "model = Model([3, 3, 3], [\"relu\", \"softmax\"], \"cross_entropy\")\n",
    "AL = model.forward(X)\n",
    "dA_prev = model.backward(AL=AL, Y=Y)\n",
    "print(\"Multi-class classification - cross_entropy\")\n",
    "print(\"dW1 = \"+ str(model.linear[0].dW))\n",
    "print(\"db1 = \"+ str(model.linear[0].db))\n",
    "print(\"dA_prev = \"+ str(dA_prev) +\"\\n\")\n",
    "\n",
    "# multi-class classification - focal_loss\n",
    "X, Y = np.array([[0, -2, 0.5], [1, -1, 0.5], [2, 0, 0.5]]), np.array([[1, 0, 0], [0, 1, 0], [0, 0, 1]])\n",
    "model = Model([3, 3, 3], [\"relu\", \"softmax\"], \"focal_loss\", alpha=np.array([1,2,3]), gamma=2.)\n",
    "AL = model.forward(X)\n",
    "dA_prev = model.backward(AL=AL, Y=Y)\n",
    "print(\"Multi-class classification - focal_loss\")\n",
    "print(\"dW1 = \"+ str(model.linear[0].dW))\n",
    "print(\"db1 = \"+ str(model.linear[0].db))\n",
    "print(\"dA_prev = \"+ str(dA_prev) +\"\\n\")"
   ]
  },
  {
   "cell_type": "markdown",
   "metadata": {
    "id": "9cYzCzY8N2wZ"
   },
   "source": [
    "Expected output:\n",
    "<table>\n",
    "  <tr>\n",
    "    <th colspan=\"2\">Binary Classification - Cross Entropy</th>\n",
    "  </tr>\n",
    "  <tr>\n",
    "    <td>dW1:</td>\n",
    "    <td>[[-0.06277946  0.26602938 -0.37820327] [ 0.  0.05875647  0. ] [-0.01569486  0.05181823 -0.09455082]]</td>\n",
    "  </tr>\n",
    "  <tr>\n",
    "    <td>db1:</td>\n",
    "    <td>[[-0.03138973  0.10363646 -0.18910163]]</td>\n",
    "  </tr>\n",
    "  <tr>\n",
    "    <td>dA_prev:</td>\n",
    "    <td>[[-0.02128713  0.03620889 -0.06919444] [ 0.02675119 -0.04550313  0.08695554] [ 0.08406585 -0.52321654 -0.47247201]]</td>\n",
    "  </tr>\n",
    "  <tr>\n",
    "    <th colspan=\"2\">Binary Classification - Focal Loss</th>\n",
    "  </tr>\n",
    "  <tr>\n",
    "    <td>dW1:</td>\n",
    "    <td>[[ 0.16650099  1.26851068 -0.133887 ] [ 0. -0.33320702  0. ] [ 0.04162525  0.40042943 -0.03347175]]</td>\n",
    "  </tr>\n",
    "  <tr>\n",
    "    <td>db1:</td>\n",
    "    <td>[[ 0.08325049  0.80085885 -0.0669435 ]]</td>\n",
    "  </tr>\n",
    "  <tr>\n",
    "    <td>dA_prev:</td>\n",
    "    <td>[[-0.01381806  0.02350419 -0.04491602] [ 0.11736847 -0.19964092  0.3815097 ] [ 0.16157143 -0.24058586  0.22954524]]</td>\n",
    "  </tr>\n",
    "  <tr>\n",
    "    <th colspan=\"2\">Multi-class Classification - Cross Entropy</th>\n",
    "  </tr>\n",
    "  <tr>\n",
    "    <td>dW1:</td>\n",
    "    <td>[[ 0.16593371  0.33171007 -0.32297709] [ 0.  0.15006987  0. ] [ 0.04148343  0.04541005 -0.08074427]]</td>\n",
    "  </tr>\n",
    "  <tr>\n",
    "    <td>db1:</td>\n",
    "    <td>[[ 0.08296685  0.0908201  -0.16148854]]</td>\n",
    "  </tr>\n",
    "  <tr>\n",
    "    <td>dA_prev:</td>\n",
    "    <td>[[-0.04735391  0.08054785 -0.15392528] [ 0.05429414 -0.09235301  0.1764847 ] [ 0.10229066 -0.30227651 -0.34116033]]</td>\n",
    "  </tr>\n",
    "  <tr>\n",
    "    <th colspan=\"2\">Multi-class Classification - Focal Loss</th>\n",
    "  </tr>\n",
    "  <tr>\n",
    "    <td>dW1:</td>\n",
    "    <td>[[ 0.47080109  0.79334211 -0.9163778 ] [ 0.  -0.16669457  0. ] [ 0.11770027  0.24000917 -0.22909445]]</td>\n",
    "  </tr>\n",
    "  <tr>\n",
    "    <td>db1:</td>\n",
    "    <td>[[ 0.23540055  0.48001834 -0.4581889 ]]</td>\n",
    "  </tr>\n",
    "  <tr>\n",
    "    <td>dA_prev:</td>\n",
    "    <td>[[-0.03467556  0.05898229 -0.11271394] [ 0.11424182 -0.19432256  0.37134643] [ 0.29022768 -0.85764439 -0.96796884]]</td>\n",
    "  </tr>\n",
    "</table>"
   ]
  },
  {
   "cell_type": "markdown",
   "metadata": {
    "id": "5wiJu3YlUCc7"
   },
   "source": [
    "### 3.3.4. Model update parameters (2%)\n",
    "In this section you will update the parameters of the model, using gradient descent:\n",
    "\n",
    "$$ W^{[l]} = W^{[l]} - \\alpha \\text{ } dW^{[l]} $$$$ b^{[l]} = b^{[l]} - \\alpha \\text{ } db^{[l]} $$\n",
    "where $\\alpha$ is the learning rate.\n",
    "\n",
    "**Exercise**: Implement update() to update your parameters using gradient descent.\n",
    "\n",
    "**Instructions**:\n",
    "*   Use the functions you had previously written.\n",
    "*   Update parameters using gradient descent on every $W^{[l]}$ and $b^{[l]}$ for $l = 1, 2, ..., L$.\n"
   ]
  },
  {
   "cell_type": "code",
   "execution_count": 16,
   "metadata": {
    "id": "qoGA4O8BUCvq"
   },
   "outputs": [
    {
     "name": "stdout",
     "output_type": "stream",
     "text": [
      "W1 = [[ 0.39721186  0.07752363  0.392862  ]\n",
      " [ 0.64025004  0.00469968  0.52183369]\n",
      " [-0.09671178  0.09679955  0.33138026]\n",
      " [ 0.27099015  0.33705631  0.67538482]]\n",
      "b1 = [[ 0.16234149  0.78232848 -0.02592894]]\n",
      "W2 = [[0.6012798 ]\n",
      " [0.38575324]\n",
      " [0.49003974]]\n",
      "b2 = [[0.05692437]]\n"
     ]
    }
   ],
   "source": [
    "np.random.seed(1)\n",
    "parameters, grads = {\"W1\": np.random.rand(3, 4).T, \"b1\": np.random.rand(3,1).T, \"W2\": np.random.rand(1,3).T, \"b2\": np.random.rand(1,1).T}, {\"dW1\": np.random.rand(3, 4).T, \"db1\": np.random.rand(3,1).T, \"dW2\": np.random.rand(1,3).T, \"db2\": np.random.rand(1,1).T}\n",
    "model = Model([4, 3, 1], [\"relu\", \"sigmoid\"], \"cross_entropy\")\n",
    "model.linear[0].parameters = {\"W\": parameters[\"W1\"], \"b\": parameters[\"b1\"]}\n",
    "model.linear[1].parameters = {\"W\": parameters[\"W2\"], \"b\": parameters[\"b2\"]}\n",
    "model.linear[0].dW, model.linear[0].db, model.linear[1].dW, model.linear[1].db = grads[\"dW1\"], grads[\"db1\"], grads[\"dW2\"], grads[\"db2\"]\n",
    "model.update(0.1)\n",
    "print (\"W1 = \"+ str(model.linear[0].parameters[\"W\"]))\n",
    "print (\"b1 = \"+ str(model.linear[0].parameters[\"b\"]))\n",
    "print (\"W2 = \"+ str(model.linear[1].parameters[\"W\"]))\n",
    "print (\"b2 = \"+ str(model.linear[1].parameters[\"b\"]))\n",
    "\n",
    "np.random.seed(1)\n",
    "parameters, grads = {\"W1\": np.random.rand(3, 4).T, \"b1\": np.random.rand(3,1).T, \"W2\": np.random.rand(1,3).T, \"b2\": np.random.rand(1,1).T}, {\"dW1\": np.random.rand(3, 4).T, \"db1\": np.random.rand(3,1).T, \"dW2\": np.random.rand(1,3).T, \"db2\": np.random.rand(1,1).T}\n",
    "model = Model([4, 3, 1], [\"relu\", \"sigmoid\"], \"cross_entropy\")\n",
    "model.linear[0].parameters = {\"W\": parameters[\"W1\"], \"b\": parameters[\"b1\"]}\n",
    "model.linear[1].parameters = {\"W\": parameters[\"W2\"], \"b\": parameters[\"b2\"]}\n",
    "model.linear[0].dW, model.linear[0].db, model.linear[1].dW, model.linear[1].db = grads[\"dW1\"], grads[\"db1\"], grads[\"dW2\"], grads[\"db2\"]\n",
    "model.update(0.075)\n",
    "outputs[\"model_update_parameters\"] = {\"W1\": model.linear[0].parameters[\"W\"], \"b1\": model.linear[0].parameters[\"b\"], \"W2\": model.linear[1].parameters[\"W\"], \"b2\": model.linear[1].parameters[\"b\"]}"
   ]
  },
  {
   "cell_type": "markdown",
   "metadata": {
    "id": "9t-HfnHZWYIa"
   },
   "source": [
    "Expected output:\n",
    "<table>\n",
    "  <tr>\n",
    "    <th colspan=\"2\">Data Representation</th>\n",
    "  </tr>\n",
    "  <tr>\n",
    "    <td>W1:</td>\n",
    "    <td>[[ 0.39721186  0.07752363  0.392862 ] [ 0.64025004  0.00469968  0.52183369] [-0.09671178  0.09679955  0.33138026] [ 0.27099015  0.33705631  0.67538482]]</td>\n",
    "  </tr>\n",
    "  <tr>\n",
    "    <td>b1:</td>\n",
    "    <td>[[ 0.16234149  0.78232848 -0.02592894]]</td>\n",
    "  </tr>\n",
    "  <tr>\n",
    "    <td>W2:</td>\n",
    "    <td>[[0.6012798 ] [0.38575324] [0.49003974]]</td>\n",
    "  </tr>\n",
    "  <tr>\n",
    "    <td>b2:</td>\n",
    "    <td>[[0.05692437]]</td>\n",
    "  </tr>\n",
    "</table>"
   ]
  },
  {
   "cell_type": "markdown",
   "metadata": {
    "id": "SmSBVaQOSRrk"
   },
   "source": [
    "# 4. Loss function (15%)\n",
    "In this section, you will implement the loss function. We use binary cross-entropy loss for binary classification and categorical cross-entropy loss for multi-class classification. You need to compute the loss, because you want to check if your model is actually learning. Cross-entropy loss is minimized, where smaller values represent a better model than larger values. A model that predicts perfect probabilities has a cross entropy or log loss of 0.0.\n",
    "\n"
   ]
  },
  {
   "cell_type": "markdown",
   "metadata": {
    "id": "ScdQdj85uC0P"
   },
   "source": [
    "## 4.1. Binary cross-entropy loss (5%)\n",
    "**Exercise**: Compute the binary cross-entropy loss $L$, using the following formula:  $$-\\frac{1}{n} \\sum\\limits_{i = 1}^{n} (y^{(i)}\\log\\left(a^{[L] (i)}+ϵ\\right) + (1-y^{(i)})\\log\\left(1- a^{[L](i)}+ϵ\\right)), where\\ ϵ=1e-5$$"
   ]
  },
  {
   "cell_type": "code",
   "execution_count": 17,
   "metadata": {
    "id": "MjBT0eYQaY81"
   },
   "outputs": [],
   "source": [
    "# GRADED FUNCTION: compute_BCE_loss\n",
    "\n",
    "def compute_BCE_loss(AL, Y):\n",
    "    \"\"\"\n",
    "    Implement the binary cross-entropy loss function using the above formula.\n",
    "\n",
    "    Arguments:\n",
    "    AL -- probability vector corresponding to your label predictions, shape (n, 1)\n",
    "    Y -- true \"label\" vector (for example: containing 0 if non-cat, 1 if cat), shape (n, 1)\n",
    "\n",
    "    Returns:\n",
    "    loss -- binary cross-entropy loss\n",
    "    \"\"\"\n",
    "\n",
    "    n = Y.shape[0]\n",
    "\n",
    "    # Compute loss from aL and y.\n",
    "    ### START CODE HERE ### (≈ 1 line of code)\n",
    "    loss = -1/n * np.sum(Y * np.log(AL + 1e-5) + (1 - Y) * np.log(1-AL+1e-5))\n",
    "    ### END CODE HERE ###\n",
    "\n",
    "    loss = np.squeeze(loss)      # To make sure your loss's shape is what we expect (e.g. this turns [[17]] into 17).\n",
    "    assert(loss.shape == ())\n",
    "\n",
    "    return loss"
   ]
  },
  {
   "cell_type": "code",
   "execution_count": 18,
   "metadata": {
    "id": "r07sqnIXaaMv"
   },
   "outputs": [
    {
     "name": "stdout",
     "output_type": "stream",
     "text": [
      "loss = 0.5783820772863568\n"
     ]
    }
   ],
   "source": [
    "AL, Y = np.array([[0.9], [0.6], [0.4], [0.1], [0.2], [0.8]]), np.array([[1], [1], [1], [0], [0], [0]])\n",
    "\n",
    "print(\"loss = \" + str(compute_BCE_loss(AL, Y)))\n",
    "outputs[\"compute_BCE_loss\"] = compute_BCE_loss(np.array([[0.12], [0.85], [0.47], [0.33], [0.76], [0.58], [0.09], [0.62]]), np.array([[1], [1], [0], [1], [0], [1], [1], [0]]))"
   ]
  },
  {
   "cell_type": "markdown",
   "metadata": {
    "id": "4iRtgOx_IGPo"
   },
   "source": [
    "Expected output:\n",
    "<table>\n",
    "  <tr>\n",
    "    <td>loss: </td>\n",
    "    <td>0.5783820772863568</td>\n",
    "  </tr>\n",
    "</table>"
   ]
  },
  {
   "cell_type": "markdown",
   "metadata": {
    "id": "aealRyKbcQzG"
   },
   "source": [
    "## 4.2. Categorical cross-entropy loss (CCE) (5%)\n",
    "**Exercise**:\n",
    "Compute the categorical cross-entropy loss $L$, using the following formula: $$-\\frac{1}{n} \\sum\\limits_{i = 1}^{n} (y^{(i)}\\log\\left(a^{[L] (i)}+ϵ\\right)),\\ ϵ = 1e-5$$\n",
    "\n",
    "\n",
    "\n",
    "\n",
    "\n"
   ]
  },
  {
   "cell_type": "code",
   "execution_count": 19,
   "metadata": {
    "id": "Owx-kTdcfxV5"
   },
   "outputs": [],
   "source": [
    "# GRADED FUNCTION: compute_CCE_loss\n",
    "\n",
    "def compute_CCE_loss(AL, Y):\n",
    "    \"\"\"\n",
    "    Implement the categorical cross-entropy loss function using the above formula.\n",
    "\n",
    "    Arguments:\n",
    "    AL -- probability vector corresponding to your label predictions, shape (n, C)\n",
    "    Y -- true \"label\" vector (one hot vector, for example: [1,0,0] represents rock, [0,1,0] represents paper, [0,0,1] represents scissors\n",
    "                                      in a Rock-Paper-Scissors, shape: (n, C)\n",
    "\n",
    "    Returns:\n",
    "    loss -- categorical cross-entropy loss\n",
    "    \"\"\"\n",
    "\n",
    "    n = Y.shape[0]\n",
    "\n",
    "    # Compute loss from aL and y.\n",
    "    ### START CODE HERE ### (≈ 1 line of code)\n",
    "    loss = -1/n * np.sum(Y * np.log(AL + 1e-5))\n",
    "    ### END CODE HERE ###\n",
    "\n",
    "    loss = np.squeeze(loss)      # To make sure your loss's shape is what we expect (e.g. this turns [[17]] into 17).\n",
    "    assert(loss.shape == ())\n",
    "\n",
    "    return loss"
   ]
  },
  {
   "cell_type": "code",
   "execution_count": 20,
   "metadata": {
    "id": "0YbHVAc7hSh3"
   },
   "outputs": [
    {
     "name": "stdout",
     "output_type": "stream",
     "text": [
      "loss = 0.4722526144672341\n"
     ]
    }
   ],
   "source": [
    "AL, Y = np.array([[0.8, 0.1, 0.1],[0.6, 0.3, 0.1],[0.4, 0.5, 0.1],[0.1, 0.7, 0.2],[0.2, 0.1, 0.7],[0.4, 0.1, 0.5]]), np.array([[1, 0, 0],[1, 0, 0],[0, 1, 0],[0, 1, 0],[0, 0, 1],[0, 0, 1]])\n",
    "print(\"loss = \" + str(compute_CCE_loss(AL, Y)))\n",
    "outputs[\"compute_CCE_loss\"] = compute_CCE_loss(np.array([[0.7, 0.2, 0.1], [0.2, 0.2, 0.6], [0.3, 0.5, 0.2], [0.8, 0.1, 0.1], [0.7, 0.15, 0.15]]), np.array([[1, 0, 0], [1, 0, 0], [0, 1, 0], [1, 0, 0], [0, 0, 1]]))"
   ]
  },
  {
   "cell_type": "markdown",
   "metadata": {
    "id": "p9VVIBB5Ic-D"
   },
   "source": [
    "Expected output:\n",
    "<table>\n",
    "  <tr>\n",
    "    <td>loss: </td>\n",
    "    <td>0.4722526144672341</td>\n",
    "  </tr>\n",
    "</table>"
   ]
  },
  {
   "cell_type": "markdown",
   "metadata": {
    "id": "8wJ5Ial2tzsl"
   },
   "source": [
    "## 4.3. Focal loss (5%)\n",
    "**Exercise**:\n",
    "If we think of the CCE loss elementwisely, the above equation can be re-written in the form below:\n",
    "$$-\\frac{1}{n} \\sum\\limits_{i = 1}^{n} ( \\sum\\limits_{j = 1}^{c} (y_{ij}\\log\\left(a^{[L]}_{ij}+ϵ\\right))), \\ ϵ = 1e-5$$\n",
    "\n",
    "To handle the imbalance dataset, we can use the focal loss, which adds the weighting factor $\\alpha$ and the modulating term $(1-a^{[L]}_{ij})^\\gamma$. To compute the focal loss, you can use the following equation:\n",
    "$$-\\frac{1}{n} \\sum\\limits_{i = 1}^{n} (\\sum\\limits_{j = 1}^{c} (\\alpha_{j} (1-a^{[L]}_{ij})^\\gamma * y_{ij}\\log\\left(a^{[L]}_{ij}+ϵ\\right))),$$\n",
    "where\n",
    "* $\\ ϵ = 1e-5$\n",
    "* $\\alpha$ is the weighting factors in the shape $(c,)$, where ${\\alpha}_i$ corresponds to the class $i$\n",
    "* $\\gamma$ is a modulating factor\n",
    "* $n$ is the number of examples\n",
    "* $c$ is the number of classes\n",
    "\n",
    "Since $y_i$ would be a one-hot vector, we can further simplify the equation to\n",
    "$$\n",
    "\\text{Focal Loss} =\n",
    "-\\frac{1}{n} \\sum_{i=1}^{n} \\alpha_t (1 - p_{it})^\\gamma \\log(p_{it}+ϵ)\n",
    "$$\n",
    "where\n",
    "* $p$: $a^{[L]}$\n",
    "* $p_{ij}$: for the $i$th example, the predicted probability for the $j$th class\n",
    "* $p_{it}$: for the $i$th example, the predicted probability of the true label. (eg. Suppose a predicted probability for the $i$th example in 3-class classification is $[0.1, 0.4, 0.5]$ and the true label is $[0, 1, 0]$, then the $p_{it}$ is $0.4$)\n",
    "* $\\alpha_{t}$: the $\\alpha$ correspond to the true label. (eg. With the above example, if your $\\alpha$ is $[1,2,3]$, then $\\alpha_{t} = 2$)\n",
    "\n",
    "**Note**: Since this equation computes the focal loss elementwisely, you can try to make it in the matrix form to speed up the computation!"
   ]
  },
  {
   "cell_type": "code",
   "execution_count": 21,
   "metadata": {
    "id": "99UXtihhuIZc"
   },
   "outputs": [],
   "source": [
    "def compute_focal_loss(AL, Y, alpha, gamma):\n",
    "\n",
    "    # Compute loss from aL and y.\n",
    "    ### START CODE HERE ### (10 line of code)\n",
    "    at = np.array([[np.max(alpha * i)] for i in Y])\n",
    "    p_it = np.array([[np.max(i)] for i in AL * Y])\n",
    "    logit = np.log(p_it + 1e-5)\n",
    "    \n",
    "    n = Y.shape[0]\n",
    "    \n",
    "    loss = -1/n * np.sum(at * np.power(1 - p_it, gamma) * logit)\n",
    "    ### END CODE HERE ###\n",
    "    \n",
    "    loss = np.squeeze(loss)\n",
    "    assert(loss.shape == ())\n",
    "\n",
    "    return loss"
   ]
  },
  {
   "cell_type": "code",
   "execution_count": 22,
   "metadata": {
    "id": "y1vbihGUqyGv"
   },
   "outputs": [
    {
     "name": "stdout",
     "output_type": "stream",
     "text": [
      "loss = 0.252813549602297\n"
     ]
    }
   ],
   "source": [
    "AL, Y, alpha, gamma = np.array([[0.5, 0.3, 0.2], [0.1, 0.1, 0.8]]), np.array([[1.0, 0.0, 0.0], [0.0, 1.0, 0.0]]), np.array([4.0, 0.22, 3.0]), 4.0\n",
    "print(\"loss = \" + str(compute_focal_loss(AL, Y, alpha=alpha, gamma=gamma)))\n",
    "outputs[\"compute_focal_loss\"] = compute_focal_loss(np.array([[0.7, 0.2, 0.1], [0.2, 0.2, 0.6], [0.3, 0.5, 0.2], [0.8, 0.1, 0.1], [0.7, 0.15, 0.15]]), np.array([[1, 0, 0], [1, 0, 0], [0, 1, 0], [1, 0, 0], [0, 0, 1]]), np.array([1.0, 2.0, 3.0]), 2.0)"
   ]
  },
  {
   "cell_type": "markdown",
   "metadata": {
    "id": "nZOLXwbwUqm_"
   },
   "source": [
    "Expected output:\n",
    "<table>\n",
    "  <tr>\n",
    "    <td>loss: </td>\n",
    "    <td>0.252813549602297</td>\n",
    "  </tr>\n",
    "</table>"
   ]
  },
  {
   "cell_type": "markdown",
   "metadata": {
    "id": "mpQah0JDdMyl"
   },
   "source": [
    "# Basic implementation (binary classification) (20%)\n",
    "\n",
    "Congratulations on implementing all the functions by yourself. You've done an incredible job! 👏\n",
    "\n",
    "Now, you have all the tools necessary to begin the classification. In this section, you'll build a binary classifier using the functions you previously wrote. Our goal is to use some patients' health information and predict whether their condition is worse than a given threshold after a period of time. The features have been preprocessed using min-max normalization and the data has been shuffled.\n",
    "\n",
    "**Exercise**: Implement a binary classifier and tune hyperparameter.\n",
    "\n",
    "**Instruction**:\n",
    "* Use the functions you had previously written.\n",
    "* You can try these two combinations for your last activation + loss function\n",
    "    1. sigmoid + cross_entropy\n",
    "    2. softmax + focal_loss\n",
    "    \n",
    "**Note**: More commonly, we set the output dimension to 1 and use the sigmoid function for binary classification. However, for simplicity in implementing focal loss, we treat binary classification as a multi-class classification. As a result, you first need to transform 'y' from a single label to a one-hot label. (eg.[[1], [0], [1], [0]] -> [[0, 1], [1, 0], [0, 1], [1, 0]]) Secondly, you must set your output dimension to 2 when using focal loss.\n",
    "\n"
   ]
  },
  {
   "cell_type": "markdown",
   "metadata": {
    "id": "QpFQpiK5eF64"
   },
   "source": [
    "## Helper function"
   ]
  },
  {
   "cell_type": "code",
   "execution_count": 23,
   "metadata": {
    "id": "woCqucFUYXe6"
   },
   "outputs": [],
   "source": [
    "def predict(x, y_true, model):\n",
    "    \"\"\"\n",
    "    This function is used to predict the results of a  L-layer neural network.\n",
    "\n",
    "    Arguments:\n",
    "    x -- data set of examples you would like to label\n",
    "    model -- trained model\n",
    "\n",
    "    Returns:\n",
    "    y_pred -- predictions for the given dataset X\n",
    "    \"\"\"\n",
    "\n",
    "    n = x.shape[0]\n",
    "\n",
    "    # Forward propagation\n",
    "    y_pred = model.forward(x)\n",
    "\n",
    "    # this transform the output and label of binary classification when using sigmoid + cross entropy for evaluation\n",
    "    # eg. y_pred: [[0.8], [0.2], [0.1]] -> [[0.2, 0.8], [0.8, 0.2], [0.9, 0.1]]\n",
    "    # eg. y_true: [[1], [0], [0]] -> [[0, 1], [1, 0], [1, 0]]\n",
    "    if y_pred.shape[-1] == 1:\n",
    "        y_pred = np.array([[1 - y[0], y[0]] for y in y_pred])\n",
    "        if y_true is not None:\n",
    "            y_true = np.array([[1,0] if y == 0 else [0,1] for y in y_true.reshape(-1)])\n",
    "\n",
    "    # make y_pred/y_true become one-hot prediction result\n",
    "    # eg. y_true: [[1, 0, 0], [0, 0, 1], [0, 1, 0]] -> [0, 2, 1]\n",
    "    # eg. y_pred: [[0.2, 0.41, 0.39], [0.1, 0.8, 0.1], [0.1, 0.1, 0.8]] -> [1, 1, 2]\n",
    "    if y_true is not None:\n",
    "        y_true = np.argmax(y_true, axis=1)\n",
    "    y_pred = np.argmax(y_pred, axis=1)\n",
    "\n",
    "    if y_true is not None:\n",
    "        # compute accuracy\n",
    "        correct = 0\n",
    "        for yt, yp in zip(y_true, y_pred):\n",
    "            if yt == yp:\n",
    "                correct += 1\n",
    "        print(f\"Accuracy: {correct/n * 100:.2f}%\")\n",
    "\n",
    "        f1_micro = f1_score(y_true, y_pred, average=None)\n",
    "        print(f'f1_micro score for each class: {f1_micro}')\n",
    "        print(f'f1_micro score average: {np.mean(np.array(f1_micro)):.2f}')\n",
    "\n",
    "    return y_pred"
   ]
  },
  {
   "cell_type": "markdown",
   "metadata": {
    "id": "vAvUwG1uSLg_"
   },
   "source": [
    "## Read data & train_val split\n",
    "\n",
    "As you can see, the data distribution is imbalanced. Therefore, we can try using focal loss, which is an effective loss function designed to address imbalanced datasets. Let's delve into the the focal loss equation.\n",
    "$$\n",
    "\\text{Focal Loss} =\n",
    "- \\sum_{i=1}^{n} \\alpha_t (1 - p_{it})^\\gamma \\log(p_{it})\n",
    "$$\n",
    "The parameter $\\alpha$ is an array of weighting factors for each class, which can be adjusted to balance the classes. The parameter $\\gamma$ acts as a modulating factor, reducing the loss contribution from well-classified examples. For instance, if $p_{it} = 0.9$, indicating a $90\\%$ confidence that the prediction for the $i$th example is correct, a higher $\\gamma$ value will result in a lower loss. You can adjust $\\alpha$ and $\\gamma$ based on the data distribution shown in the plot below.\n",
    "\n",
    "**Note**: When spliting data, you could try to plot and see if the data distribution is the same in training and validation to ensure the the correctness of your validation."
   ]
  },
  {
   "cell_type": "code",
   "execution_count": 24,
   "metadata": {
    "id": "Cu8T1DKjb7Bn"
   },
   "outputs": [],
   "source": [
    "#from google.colab import drive\n",
    "#drive.mount('/content/drive')"
   ]
  },
  {
   "cell_type": "code",
   "execution_count": 25,
   "metadata": {
    "id": "pQ0xMNj7b-1q"
   },
   "outputs": [
    {
     "data": {
      "image/png": "[encoded data removed]",
      "text/plain": [
       "<Figure size 200x200 with 1 Axes>"
      ]
     },
     "metadata": {},
     "output_type": "display_data"
    },
    {
     "name": "stdout",
     "output_type": "stream",
     "text": [
      "Train: x=(353, 10), y=(353, 1)\n",
      "Test: x=(89, 10)\n",
      "x_train: (354, 10) | y_train: (354, 1)\n",
      "x_val: (71, 10) | y_val: (71, 1)\n"
     ]
    }
   ],
   "source": [
    "# load data\n",
    "# data = np.load('/content/drive/MyDrive/basic_data.npz')\n",
    "data = np.load('basic_data.npz')\n",
    "X_train, Y_train = data[\"x_train\"], data[\"y_train\"]\n",
    "X_test = data[\"x_test\"]\n",
    "\n",
    "# plot the data distribution\n",
    "Y_train_1 = len(['_' for y in Y_train if y == 1])\n",
    "Y_train_0 = len(['_' for y in Y_train if y == 0])\n",
    "plt.figure(figsize=(2, 2))\n",
    "plt.bar([0, 1], [Y_train_0, Y_train_1])\n",
    "plt.title('Data distribution')\n",
    "plt.xlabel('label')\n",
    "plt.ylabel('counts')\n",
    "plt.show()\n",
    "\n",
    "print('Train: x=%s, y=%s' % (X_train.shape, Y_train.shape))\n",
    "print('Test: x=%s' % (X_test.shape, ))\n",
    "\n",
    "### START CODE HERE ###\n",
    "# train_val split\n",
    "\n",
    "np.random.seed(1)\n",
    "\n",
    "indices = np.arange(X_train.shape[0])\n",
    "np.random.shuffle(indices)\n",
    "\n",
    "np.random.seed(1)\n",
    "\n",
    "X_train = X_train[indices]\n",
    "Y_train = Y_train[indices]\n",
    "\n",
    "n = X_train.shape[0]\n",
    "split = round(8 * n / 10)\n",
    "x_train, y_train = X_train[0:split], Y_train[0:split]\n",
    "x_val, y_val = X_train[split:n], Y_train[split:n]\n",
    "\n",
    "increase_dataset = True\n",
    "if increase_dataset == True:\n",
    "    mask = np.squeeze(y_train == 1)\n",
    "    x_train_1 = x_train[mask]\n",
    "    y_train_1 = y_train[mask]\n",
    "    #x_train_1, y_train_1 = x_train_1[:30], y_train_1[:30]\n",
    "    \n",
    "    rand = np.random.uniform(-0.01, 0.01, x_train_1.shape) * 10\n",
    "    x_train_1 = x_train_1 + rand\n",
    "    x_train_1[x_train_1 > 1] = 1\n",
    "    x_train_1[x_train_1 < 0] = 0\n",
    "\n",
    "    x_train = np.concatenate((x_train, x_train_1), axis=0)\n",
    "    y_train = np.concatenate((y_train, y_train_1), axis=0)\n",
    "### END CODE HERE ###\n",
    "\n",
    "print(\"x_train: \" + str(x_train.shape) + \" | y_train: \" + str(y_train.shape))\n",
    "print(\"x_val: \" + str(x_val.shape) + \" | y_val: \" + str(y_val.shape))"
   ]
  },
  {
   "cell_type": "markdown",
   "metadata": {
    "id": "r01QzzHxeMbR"
   },
   "source": [
    "## Training and Evaluation"
   ]
  },
  {
   "cell_type": "code",
   "execution_count": 26,
   "metadata": {
    "id": "fI7JY5ESjhZ2"
   },
   "outputs": [
    {
     "name": "stdout",
     "output_type": "stream",
     "text": [
      "Loss after iteration 1999: 0.502788 ============\n",
      " == train == \n",
      "Accuracy: 74.86%\n",
      "f1_micro score for each class: [0.79350348 0.67870036]\n",
      "f1_micro score average: 0.74\n",
      " == validation == \n",
      "Accuracy: 85.92%\n",
      "f1_micro score for each class: [0.90384615 0.73684211]\n",
      "f1_micro score average: 0.82\n",
      "\n",
      "Loss after iteration 3999: 0.436546 ============\n",
      " == train == \n",
      "Accuracy: 76.27%\n",
      "f1_micro score for each class: [0.8028169  0.70212766]\n",
      "f1_micro score average: 0.75\n",
      " == validation == \n",
      "Accuracy: 84.51%\n",
      "f1_micro score for each class: [0.89108911 0.73170732]\n",
      "f1_micro score average: 0.81\n",
      "\n",
      "Loss after iteration 5999: 0.416985 ============\n",
      " == train == \n",
      "Accuracy: 77.68%\n",
      "f1_micro score for each class: [0.81145585 0.7266436 ]\n",
      "f1_micro score average: 0.77\n",
      " == validation == \n",
      "Accuracy: 84.51%\n",
      "f1_micro score for each class: [0.89320388 0.71794872]\n",
      "f1_micro score average: 0.81\n",
      "\n",
      "Loss after iteration 7999: 0.408833 ============\n",
      " == train == \n",
      "Accuracy: 79.38%\n",
      "f1_micro score for each class: [0.82660333 0.7456446 ]\n",
      "f1_micro score average: 0.79\n",
      " == validation == \n",
      "Accuracy: 84.51%\n",
      "f1_micro score for each class: [0.89320388 0.71794872]\n",
      "f1_micro score average: 0.81\n",
      "\n",
      "Loss after iteration 9999: 0.404920 ============\n",
      " == train == \n",
      "Accuracy: 80.79%\n",
      "f1_micro score for each class: [0.83886256 0.76223776]\n",
      "f1_micro score average: 0.80\n",
      " == validation == \n",
      "Accuracy: 85.92%\n",
      "f1_micro score for each class: [0.90196078 0.75      ]\n",
      "f1_micro score average: 0.83\n",
      "\n",
      "Loss after iteration 11999: 0.402905 ============\n",
      " == train == \n",
      "Accuracy: 81.07%\n",
      "f1_micro score for each class: [0.84085511 0.76655052]\n",
      "f1_micro score average: 0.80\n",
      " == validation == \n",
      "Accuracy: 84.51%\n",
      "f1_micro score for each class: [0.89320388 0.71794872]\n",
      "f1_micro score average: 0.81\n",
      "\n",
      "Loss after iteration 13999: 0.401785 ============\n",
      " == train == \n",
      "Accuracy: 80.79%\n",
      "f1_micro score for each class: [0.83886256 0.76223776]\n",
      "f1_micro score average: 0.80\n",
      " == validation == \n",
      "Accuracy: 84.51%\n",
      "f1_micro score for each class: [0.89320388 0.71794872]\n",
      "f1_micro score average: 0.81\n",
      "\n",
      "Loss after iteration 15999: 0.401105 ============\n",
      " == train == \n",
      "Accuracy: 80.79%\n",
      "f1_micro score for each class: [0.83886256 0.76223776]\n",
      "f1_micro score average: 0.80\n",
      " == validation == \n",
      "Accuracy: 84.51%\n",
      "f1_micro score for each class: [0.89320388 0.71794872]\n",
      "f1_micro score average: 0.81\n",
      "\n",
      "Loss after iteration 17999: 0.400623 ============\n",
      " == train == \n",
      "Accuracy: 81.07%\n",
      "f1_micro score for each class: [0.84160757 0.76491228]\n",
      "f1_micro score average: 0.80\n",
      " == validation == \n",
      "Accuracy: 84.51%\n",
      "f1_micro score for each class: [0.89320388 0.71794872]\n",
      "f1_micro score average: 0.81\n",
      "\n",
      "Loss after iteration 19999: 0.400259 ============\n",
      " == train == \n",
      "Accuracy: 81.07%\n",
      "f1_micro score for each class: [0.84160757 0.76491228]\n",
      "f1_micro score average: 0.80\n",
      " == validation == \n",
      "Accuracy: 83.10%\n",
      "f1_micro score for each class: [0.88235294 0.7       ]\n",
      "f1_micro score average: 0.79\n",
      "\n"
     ]
    },
    {
     "data": {
      "image/png": "[encoded data removed]",
      "text/plain": [
       "<Figure size 600x300 with 1 Axes>"
      ]
     },
     "metadata": {},
     "output_type": "display_data"
    }
   ],
   "source": [
    "# GRADED CODE: binary classification\n",
    "### START CODE HERE ###\n",
    "loss_function = 'cross_entropy'\n",
    "\n",
    "if loss_function == 'cross_entropy':\n",
    "    layers_dims = [10, 3, 1] \n",
    "    activation_fn = [\"relu\", \"sigmoid\"]\n",
    "    gamma = None        # you can leave this as it is\n",
    "    alpha = None        # you can leave this as it is\n",
    "    y_train_processed = y_train\n",
    "    y_val_processed = y_val\n",
    "    assert y_train_processed.shape[-1] == 1, \"see the 'Note' in the Basic implementation section\"\n",
    "    assert y_val_processed.shape[-1] == 1, \"see the 'Note' in the Basic implementation section\"\n",
    "elif loss_function == 'focal_loss':\n",
    "    layers_dims = [10, 4, 2]\n",
    "    activation_fn = [\"relu\", \"sigmoid\"]\n",
    "    gamma = 2.\n",
    "    alpha = [1.5, 3]\n",
    "\n",
    "    y_train_processed = np.squeeze(np.eye(2)[y_train.reshape(-1)])\n",
    "    y_val_processed = np.squeeze(np.eye(2)[y_val.reshape(-1)])\n",
    "    \n",
    "    assert y_train_processed.shape[-1] == 2, \"see the 'Note' in the Basic implementation section\"\n",
    "    assert y_val_processed.shape[-1] == 2, \"see the 'Note' in the Basic implementation section\"\n",
    "\n",
    "learning_rate = 0.005\n",
    "num_iterations = 20000\n",
    "print_loss = True\n",
    "print_freq = num_iterations/10\n",
    "classes = 2\n",
    "losses = []                         # keep track of loss\n",
    "model = Model(layers_dims, activation_fn, loss_function, alpha, gamma)\n",
    "\n",
    "# Loop (batch gradient descent)\n",
    "for i in range(0, num_iterations):\n",
    "    # forward\n",
    "\n",
    "    AL = model.forward(x_train)\n",
    "\n",
    "    # compute loss\n",
    "    if loss_function == 'cross_entropy':\n",
    "        loss = compute_BCE_loss(AL, y_train_processed)\n",
    "    elif loss_function == 'focal_loss':\n",
    "        loss =  compute_focal_loss(AL, y_train_processed, alpha, gamma)\n",
    "\n",
    "    # backward\n",
    "    dA_prev = model.backward(AL, y_train_processed)\n",
    "\n",
    "    # update\n",
    "    model.update(learning_rate)\n",
    "\n",
    "    losses.append(loss)\n",
    "    if print_loss and (i+1) % print_freq == 0:\n",
    "        print (\"Loss after iteration %i: %f ============\" %(i, loss))\n",
    "        print(\" == train == \")\n",
    "        pred_train = predict(x_train, y_train_processed, model)\n",
    "        print(\" == validation == \")\n",
    "        pred_val = predict(x_val, y_val_processed, model)\n",
    "        print()\n",
    "\n",
    "# plot the loss\n",
    "plt.figure(figsize=(6, 3))\n",
    "plt.plot(np.squeeze(losses))\n",
    "plt.ylabel('loss')\n",
    "plt.xlabel(f'iterations (per {print_freq})')\n",
    "plt.title(\"Learning rate =\" + str(learning_rate))\n",
    "plt.show()\n",
    "### END CODE HERE ###"
   ]
  },
  {
   "cell_type": "code",
   "execution_count": 27,
   "metadata": {
    "id": "U8q0a20XcPtk"
   },
   "outputs": [
    {
     "name": "stdout",
     "output_type": "stream",
     "text": [
      "training------\n",
      "Accuracy: 81.07%\n",
      "f1_micro score for each class: [0.84160757 0.76491228]\n",
      "f1_micro score average: 0.80\n",
      "validation------\n",
      "Accuracy: 83.10%\n",
      "f1_micro score for each class: [0.88235294 0.7       ]\n",
      "f1_micro score average: 0.79\n"
     ]
    }
   ],
   "source": [
    "print('training------')\n",
    "pred_train = predict(x_train, y_train_processed, model)\n",
    "print('validation------')\n",
    "pred_val = predict(x_val, y_val_processed, model)"
   ]
  },
  {
   "cell_type": "code",
   "execution_count": 28,
   "metadata": {
    "id": "mERo3g41zsyX"
   },
   "outputs": [],
   "source": [
    "pred_test = predict(X_test, None, model)\n",
    "outputs[\"basic_pred_test\"] = pred_test\n",
    "outputs[\"basic_layers_dims\"] = layers_dims\n",
    "outputs[\"basic_activation_fn\"] = activation_fn\n",
    "outputs[\"basic_loss_function\"] = loss_function\n",
    "outputs[\"basic_alpha\"] = alpha\n",
    "outputs[\"basic_gamma\"] = gamma\n",
    "basic_model_parameters = []\n",
    "for basic_linear in model.linear:\n",
    "    basic_model_parameters.append(basic_linear.parameters)\n",
    "outputs[\"basic_model_parameters\"] = basic_model_parameters"
   ]
  },
  {
   "cell_type": "markdown",
   "metadata": {
    "id": "oMCpPFMVdj36"
   },
   "source": [
    "# Advanced implementation (multi class classification) (15%)\n",
    "\n",
    "In this section, you need to implement a multi-class classifier using the functions you had previously written. You will create a model that can classify ten handwritten digits. The MNIST handwritten digit classification problem is a standard dataset in computer vision and deep learning. We usually use convolutional deep-learning neural networks for image classification. However, using only dense layers appears to be enough to handle this simple dataset, and this is a good way to get started with image datasets.\n",
    "\n",
    "**Exercise**: Implement a multi-class classifier and tune hyperparameter.\n",
    "\n",
    "**Instruction**:\n",
    "*   Use the functions you had previously written.\n",
    "*   Preprocess the data to match the correct input format.\n",
    "*   Use mini-batch gradient descent to train the model.\n",
    "\n",
    "**Hint**:\n",
    "For data preprocessing, please be careful with the dimension of the inputs (X and y) and also note that the values of images are usually integers that fall between 0 and 255. You need to change the data type into float and scale the values between 0 and 1.\n",
    "\n",
    "In Batch Gradient Descent, we consider all the samples for every step of Gradient Descent. But what if our dataset is huge? You will get around 33000 training samples, then to take one step, the model will have to calculate the gradients of all the 33000 samples. This does not seem an efficient way. Hence, mini-batch gradient descent is recommended to be used in this part."
   ]
  },
  {
   "cell_type": "markdown",
   "metadata": {
    "id": "I_GQ3uO128OC"
   },
   "source": [
    "## Read data & train_val split"
   ]
  },
  {
   "cell_type": "code",
   "execution_count": 74,
   "metadata": {
    "id": "1ew4u79ZuV5F"
   },
   "outputs": [],
   "source": [
    "#from google.colab import drive\n",
    "#drive.mount('/content/drive')"
   ]
  },
  {
   "cell_type": "markdown",
   "metadata": {},
   "source": [
    "### Load Data"
   ]
  },
  {
   "cell_type": "code",
   "execution_count": 75,
   "metadata": {},
   "outputs": [],
   "source": [
    "# load data\n",
    "#data = np.load('/content/drive/MyDrive/advanced_data.npz')\n",
    "data = np.load('advanced_data.npz')\n",
    "X_train = data[\"x_train\"]\n",
    "Y_train = data[\"y_train\"]\n",
    "X_test = data[\"x_test\"]"
   ]
  },
  {
   "cell_type": "markdown",
   "metadata": {},
   "source": [
    "### Summarize Dataset"
   ]
  },
  {
   "cell_type": "code",
   "execution_count": 76,
   "metadata": {},
   "outputs": [
    {
     "name": "stdout",
     "output_type": "stream",
     "text": [
      "Train: X=(31065, 28, 28), Y=(31065,)\n",
      "Test: X=(7767, 28, 28)\n",
      "Train: X=(31065, 28, 28), Y=(31065,)\n",
      "Test: X=(7767, 28, 28)\n"
     ]
    }
   ],
   "source": [
    "# summarize loaded dataset\n",
    "size = X_train.shape[0]\n",
    "permutation = list(np.random.permutation(size))\n",
    "X_train = X_train[permutation]\n",
    "Y_train = Y_train[permutation]\n",
    "\n",
    "print(f'Train: X={X_train.shape}, Y={Y_train.shape}')\n",
    "print(f'Test: X={X_test.shape}')\n",
    "\n",
    "print(f'Train: X={X_train.shape}, Y={Y_train.shape}')\n",
    "print(f'Test: X={X_test.shape}')"
   ]
  },
  {
   "cell_type": "markdown",
   "metadata": {},
   "source": [
    "### Image Show and Plot"
   ]
  },
  {
   "cell_type": "code",
   "execution_count": 77,
   "metadata": {},
   "outputs": [
    {
     "data": {
      "image/png": "[encoded data removed]",
      "text/plain": [
       "<Figure size 640x480 with 9 Axes>"
      ]
     },
     "metadata": {},
     "output_type": "display_data"
    },
    {
     "data": {
      "image/png": "[encoded data removed]",
      "text/plain": [
       "<Figure size 200x200 with 1 Axes>"
      ]
     },
     "metadata": {},
     "output_type": "display_data"
    }
   ],
   "source": [
    "# plot first few images\n",
    "for i in range(9):\n",
    "\t# define subplot\n",
    "\tplt.subplot(330 + 1 + i)\n",
    "\t# plot raw pixel data\n",
    "\tplt.imshow(X_train[i], cmap='gray', vmin=0, vmax=255)\n",
    "    \n",
    "# show the figure\n",
    "plt.show()\n",
    "\n",
    "Y_label = []\n",
    "for i in range(10):\n",
    "    Y_label.append(len(['_' for y in Y_train if y == i]))\n",
    "    \n",
    "plt.figure(figsize=(2, 2))\n",
    "plt.bar([0, 1, 2, 3, 4, 5, 6, 7, 8, 9], Y_label)\n",
    "plt.title('DATASET')\n",
    "plt.xlabel('label')\n",
    "plt.ylabel('counts')\n",
    "plt.show()"
   ]
  },
  {
   "cell_type": "markdown",
   "metadata": {},
   "source": [
    "### One Hot Encoding"
   ]
  },
  {
   "cell_type": "code",
   "execution_count": 78,
   "metadata": {},
   "outputs": [
    {
     "name": "stdout",
     "output_type": "stream",
     "text": [
      "shape of X_train: (31065, 28, 28)\n",
      "shape of Y_train: (31065, 10)\n",
      "shape of X_test: (7767, 28, 28)\n"
     ]
    }
   ],
   "source": [
    "# GRADED CODE: multi-class classification (Data preprocessing) one-hot encoding for y\n",
    "### START CODE HERE ###\n",
    "Y_train = np.squeeze(np.eye(10)[Y_train.reshape(-1)])\n",
    "### END CODE HERE ###\n",
    "\n",
    "print(\"shape of X_train: \" + str(X_train.shape))\n",
    "print(\"shape of Y_train: \" + str(Y_train.shape))\n",
    "print(\"shape of X_test: \" + str(X_test.shape))"
   ]
  },
  {
   "cell_type": "markdown",
   "metadata": {},
   "source": [
    "### Normalize X"
   ]
  },
  {
   "cell_type": "code",
   "execution_count": 79,
   "metadata": {},
   "outputs": [],
   "source": [
    "# GRADED CODE: multi-class classification (Data preprocessing)\tnormalize x\n",
    "### START CODE HERE ###\n",
    "X_train = X_train/255\n",
    "X_test = X_test/255"
   ]
  },
  {
   "cell_type": "markdown",
   "metadata": {},
   "source": [
    "### Flattening Data and Split"
   ]
  },
  {
   "cell_type": "code",
   "execution_count": 80,
   "metadata": {
    "id": "ljAcf2tpQDR-"
   },
   "outputs": [
    {
     "name": "stdout",
     "output_type": "stream",
     "text": [
      "\n",
      "shape of X_train: (31065, 784)\n",
      "shape of Y_train: (31065, 10)\n",
      "shape of X_test: (7767, 784)\n",
      "shape of x_train: (24852, 784)\n",
      "shape of y_train: (24852, 10)\n",
      "\n",
      "shape of x_val: (6213, 784)\n",
      "shape of y_val: (6213, 10)\n"
     ]
    }
   ],
   "source": [
    "X_train = np.array([i.flatten() for i in X_train])\n",
    "X_test = np.array([i.flatten() for i in X_test])\n",
    "### END CODE HERE ###\n",
    "\n",
    "print(\"\\nshape of X_train: \" + str(X_train.shape))\n",
    "print(\"shape of Y_train: \" + str(Y_train.shape))\n",
    "print(\"shape of X_test: \" + str(X_test.shape))\n",
    "\n",
    "# You can split training and validation set here and visualize their distribution. (Optional)\n",
    "# If not, just leave this as it is\n",
    "### START CODE HERE ###\n",
    "n = X_train.shape[0]\n",
    "split = round(8 * n / 10)\n",
    "\n",
    "x_train = X_train[0:split]\n",
    "y_train = Y_train[0:split]\n",
    "x_val = X_train[split:n]\n",
    "y_val = Y_train[split:n]\n",
    "\n",
    "print(\"shape of x_train: \" + str(x_train.shape))\n",
    "print(\"shape of y_train: \" + str(y_train.shape))\n",
    "print()\n",
    "print(\"shape of x_val: \" + str(x_val.shape))\n",
    "print(\"shape of y_val: \" + str(y_val.shape))\n",
    "\n",
    "### END CODE HERE ###"
   ]
  },
  {
   "cell_type": "markdown",
   "metadata": {
    "id": "ngmUDGN13ADi"
   },
   "source": [
    "## Training and Evaluation"
   ]
  },
  {
   "cell_type": "code",
   "execution_count": 70,
   "metadata": {
    "id": "HYD-qRs7doU0"
   },
   "outputs": [
    {
     "name": "stdout",
     "output_type": "stream",
     "text": [
      "Loss after iteration 0: 3.198114\n",
      "Loss after iteration 20: 0.923405\n",
      "Loss after iteration 40: 0.659337\n",
      "Loss after iteration 60: 0.582499\n",
      "Loss after iteration 80: 0.531501\n",
      "Loss after iteration 100: 0.501433\n",
      "Loss after iteration 120: 0.476066\n",
      "Loss after iteration 140: 0.455222\n",
      "Loss after iteration 160: 0.443096\n",
      "Loss after iteration 180: 0.427884\n"
     ]
    }
   ],
   "source": [
    "# GRADED CODE: multi-class classification\n",
    "### START CODE HERE ###\n",
    "def random_mini_batches(X, Y, mini_batch_size = 64):\n",
    "    \"\"\"\n",
    "    Creates a list of random minibatches from (X, Y)\n",
    "\n",
    "    Arguments:\n",
    "    X -- input data, of shape (n, f^{0})\n",
    "    Y -- true \"label\" vector, of shape (n, C)\n",
    "    mini_batch_size -- size of the mini-batches, integer\n",
    "\n",
    "    Returns:\n",
    "    mini_batches -- list of synchronous (mini_batch_X, mini_batch_Y)\n",
    "    \"\"\"\n",
    "\n",
    "    m = X.shape[0]                  # number of training examples\n",
    "    mini_batches = []\n",
    "\n",
    "    # Step 1: Shuffle (X, Y)\n",
    "    permutation = list(np.random.permutation(m))\n",
    "    shuffled_X = X[permutation]\n",
    "    shuffled_Y = Y[permutation]\n",
    "\n",
    "    # Step 2 - Partition (shuffled_X, shuffled_Y).\n",
    "    # Cases with a complete mini batch size only i.e each of 64 examples.\n",
    "    num_complete_minibatches = math.floor(m / mini_batch_size) # number of mini batches of size mini_batch_size in your partitionning\n",
    "    for k in range(0, num_complete_minibatches):\n",
    "        # (approx. 2 lines)\n",
    "        mini_batch_X = shuffled_X[k * mini_batch_size : (k+1) * mini_batch_size]\n",
    "        mini_batch_Y = shuffled_Y[k * mini_batch_size : (k+1) * mini_batch_size]\n",
    "        mini_batch = (mini_batch_X, mini_batch_Y)\n",
    "        mini_batches.append(mini_batch)\n",
    "\n",
    "    # For handling the end case (last mini-batch < mini_batch_size i.e less than 64)\n",
    "    if m % mini_batch_size != 0:\n",
    "        #(approx. 2 lines)\n",
    "        mini_batch_X = shuffled_X[num_complete_minibatches * mini_batch_size : m]\n",
    "        mini_batch_Y = shuffled_Y[num_complete_minibatches * mini_batch_size : m]\n",
    "        mini_batch = (mini_batch_X, mini_batch_Y)\n",
    "        mini_batches.append(mini_batch)\n",
    "\n",
    "    return mini_batches\n",
    "\n",
    "\n",
    "layers_dims = [28 * 28, 30, 18, 10]\n",
    "activation_fn = [\"relu\", \"relu\", \"softmax\"]\n",
    "learning_rate = 0.01\n",
    "num_iterations = 100\n",
    "batch_size = 64\n",
    "classes = 10\n",
    "losses = []                         # keep track of loss\n",
    "print_loss = True\n",
    "print_freq = num_iterations/10\n",
    "loss_function = 'cross_entropy'\n",
    "gamma = 2.\n",
    "alpha = [1, 3, 3, 1, 5, 6, 3, 2, 3, 4]\n",
    "model = Model(layers_dims, activation_fn, loss_function, alpha=alpha, gamma=gamma)\n",
    "\n",
    "# Loop (gradient descent)\n",
    "for i in range(0, num_iterations):\n",
    "    mini_batches = random_mini_batches(x_train, y_train, batch_size)\n",
    "    loss = 0\n",
    "    for batch in mini_batches:\n",
    "        x_batch, y_batch = batch\n",
    "\n",
    "        # forward\n",
    "        AL = model.forward(x_batch)\n",
    "\n",
    "        # compute loss\n",
    "        if loss_function == 'cross_entropy':\n",
    "            loss += compute_BCE_loss(AL, y_batch)\n",
    "        elif loss_function == 'focal_loss':\n",
    "            loss += compute_focal_loss(AL, y_batch, alpha, gamma)\n",
    "        \n",
    "        # backward\n",
    "        dA_prev = model.backward(AL, y_batch)\n",
    "        # update\n",
    "        model.update(learning_rate)\n",
    "\n",
    "    loss /= len(mini_batches)\n",
    "    losses.append(loss)\n",
    "    if print_loss and i % print_freq == 0:\n",
    "        print (\"Loss after iteration %i: %f\" %(i, loss))\n",
    "\n",
    "print(\"Done\")"
   ]
  },
  {
   "cell_type": "code",
   "execution_count": 71,
   "metadata": {},
   "outputs": [
    {
     "data": {
      "image/png": "[encoded data removed]",
      "text/plain": [
       "<Figure size 400x200 with 1 Axes>"
      ]
     },
     "metadata": {},
     "output_type": "display_data"
    }
   ],
   "source": [
    "# plot the loss\n",
    "plt.figure(figsize=(4, 2))\n",
    "plt.plot(np.squeeze(losses))\n",
    "plt.ylabel('loss')\n",
    "plt.xlabel('iterations (per hundreds)')\n",
    "plt.title(\"Learning rate =\" + str(learning_rate))\n",
    "plt.show()\n",
    "### END CODE HERE ###"
   ]
  },
  {
   "cell_type": "code",
   "execution_count": 72,
   "metadata": {
    "id": "yI92fh4JXC1k"
   },
   "outputs": [
    {
     "name": "stdout",
     "output_type": "stream",
     "text": [
      "Accuracy: 92.56%\n",
      "f1_micro score for each class: [0.98013393 0.97674419 0.9308642  0.90049831 0.95229221 0.86660448\n",
      " 0.93236849 0.90516039 0.63245033 0.72578763]\n",
      "f1_micro score average: 0.88\n"
     ]
    }
   ],
   "source": [
    "pred_train = predict(x_train, y_train, model)"
   ]
  },
  {
   "cell_type": "code",
   "execution_count": 73,
   "metadata": {
    "id": "ehjcfSU2XD3-"
   },
   "outputs": [
    {
     "name": "stdout",
     "output_type": "stream",
     "text": [
      "Accuracy: 86.97%\n",
      "f1_micro score for each class: [0.95428571 0.96358543 0.91338583 0.85961123 0.8481203  0.81012658\n",
      " 0.90481786 0.77900552 0.52488688 0.71655753]\n",
      "f1_micro score average: 0.83\n"
     ]
    }
   ],
   "source": [
    "#You can check for your validation accuracy here. (Optional)\n",
    "### START CODE HERE ###\n",
    "pred_train = predict(x_val, y_val, model)\n",
    "### END CODE HERE ###"
   ]
  },
  {
   "cell_type": "code",
   "execution_count": null,
   "metadata": {
    "id": "YHFDuq2BQ2qI"
   },
   "outputs": [],
   "source": [
    "pred_test = predict(X_test, None, model)\n",
    "outputs[\"advanced_pred_test\"] = pred_test\n",
    "outputs[\"advanced_layers_dims\"] = layers_dims\n",
    "outputs[\"advanced_activation_fn\"] = activation_fn\n",
    "outputs[\"advanced_loss_function\"] = loss_function\n",
    "outputs[\"advanced_alpha\"] = alpha\n",
    "outputs[\"advanced_gamma\"] = gamma\n",
    "advanced_model_parameters = []\n",
    "for advanced_linear in model.linear:\n",
    "    advanced_model_parameters.append(advanced_linear.parameters)\n",
    "outputs[\"advanced_model_parameters\"] = advanced_model_parameters"
   ]
  },
  {
   "cell_type": "markdown",
   "metadata": {
    "id": "WXGnS3HQeNUc"
   },
   "source": [
    "# Submit prediction"
   ]
  },
  {
   "cell_type": "code",
   "execution_count": null,
   "metadata": {
    "id": "twMsmXbQeDL_"
   },
   "outputs": [],
   "source": [
    "# sanity check\n",
    "assert list(outputs.keys()) == ['linear_forward',\\\n",
    "    'linear_backward',\\\n",
    "    'linear_update_parameters',\\\n",
    "    'sigmoid',\\\n",
    "    'relu',\\\n",
    "    'softmax',\\\n",
    "    'sigmoid_backward',\\\n",
    "    'relu_backward',\\\n",
    "    'softmax_CCE_backward',\\\n",
    "    'softmax_Focal_backward',\\\n",
    "    'model_forward_sigmoid',\\\n",
    "    'model_forward_relu',\\\n",
    "    'model_forward_softmax',\\\n",
    "    'model_backward_sigmoid',\\\n",
    "    'model_backward_relu',\\\n",
    "    'model_update_parameters',\\\n",
    "    'compute_BCE_loss',\\\n",
    "    'compute_CCE_loss',\\\n",
    "    'compute_focal_loss',\\\n",
    "    'basic_pred_test',\\\n",
    "    'basic_layers_dims',\\\n",
    "    'basic_activation_fn',\\\n",
    "    'basic_loss_function',\\\n",
    "    'basic_alpha',\\\n",
    "    'basic_gamma',\\\n",
    "    'basic_model_parameters',\\\n",
    "    'advanced_pred_test',\\\n",
    "    'advanced_layers_dims',\\\n",
    "    'advanced_activation_fn',\\\n",
    "    'advanced_loss_function',\\\n",
    "    'advanced_alpha',\\\n",
    "    'advanced_gamma',\\\n",
    "    'advanced_model_parameters'],\\\n",
    "\"You're missing something, please restart the kernel and run the code from begining to the end. If the same error occurs, maybe you deleted some outputs, check the template to find the missing parts!\""
   ]
  },
  {
   "cell_type": "code",
   "execution_count": null,
   "metadata": {
    "id": "bCJ0XTO_zE8A"
   },
   "outputs": [],
   "source": [
    "np.save(\"output_bonus.npy\", outputs)"
   ]
  },
  {
   "cell_type": "code",
   "execution_count": null,
   "metadata": {
    "id": "2XTk5AdzyHkf"
   },
   "outputs": [],
   "source": [
    "# sanity check\n",
    "submit = np.load(\"output_bonus.npy\", allow_pickle=True).item()\n",
    "for key, value in submit.items():\n",
    "  print(str(key) + \"： \" + str(type(value)))"
   ]
  },
  {
   "cell_type": "markdown",
   "metadata": {
    "id": "HXwjr9APIKt2"
   },
   "source": [
    "**Notice**: We will not check the data type after \"compute_focal_loss\", (since you might be using focal loss in basic, then your basic_alpha wouldn't be None), so it is fine if you have different data type after \"compute_focal_loss\"."
   ]
  },
  {
   "cell_type": "markdown",
   "metadata": {
    "id": "trQqZni7jhP0"
   },
   "source": [
    "Expected output: <br>\n",
    "<small>\n",
    "linear_forward： <class 'tuple'> <br>\n",
    "linear_backward： <class 'tuple'> <br>\n",
    "linear_update_parameters： <class 'dict'> <br>\n",
    "sigmoid： <class 'tuple'> <br>\n",
    "relu： <class 'tuple'> <br>\n",
    "softmax： <class 'tuple'> <br>\n",
    "sigmoid_backward： <class 'numpy.ndarray'> <br>\n",
    "relu_backward： <class 'numpy.ndarray'> <br>\n",
    "softmax_CCE_backward： <class 'numpy.ndarray'> <br>\n",
    "softmax_Focal_backward： <class 'numpy.ndarray'> <br>\n",
    "model_forward_sigmoid： <class 'tuple'> <br>\n",
    "model_forward_relu： <class 'tuple'> <br>\n",
    "model_forward_softmax： <class 'tuple'> <br>\n",
    "model_backward_sigmoid： <class 'tuple'> <br>\n",
    "model_backward_relu： <class 'tuple'> <br>\n",
    "model_update_parameters： <class 'dict'> <br>\n",
    "compute_BCE_loss： <class 'numpy.float64'> <br>\n",
    "compute_CCE_loss： <class 'numpy.float64'> <br>\n",
    "compute_focal_loss： <class 'numpy.float64'> <br>\n",
    "basic_pred_test： <class 'numpy.ndarray'> <br>\n",
    "basic_layers_dims： <class 'list'> <br>\n",
    "basic_activation_fn： <class 'list'> <br>\n",
    "basic_loss_function： <class 'str'> <br>\n",
    "basic_alpha： <class 'NoneType'> <br>\n",
    "basic_gamma： <class 'NoneType'> <br>\n",
    "basic_model_parameters： <class 'list'> <br>\n",
    "advanced_pred_test： <class 'numpy.ndarray'> <br>\n",
    "advanced_layers_dims： <class 'list'> <br>\n",
    "advanced_activation_fn： <class 'list'> <br>\n",
    "advanced_loss_function： <class 'str'> <br>\n",
    "advanced_alpha： <class 'numpy.ndarray'> <br>\n",
    "advanced_gamma： <class 'float'> <br>\n",
    "advanced_model_parameters： <class 'list'> <br>\n",
    "</small>"
   ]
  }
 ],
 "metadata": {
  "colab": {
   "provenance": [],
   "toc_visible": true
  },
  "kernelspec": {
   "display_name": "Python 3 (ipykernel)",
   "language": "python",
   "name": "python3"
  },
  "language_info": {
   "codemirror_mode": {
    "name": "ipython",
    "version": 3
   },
   "file_extension": ".py",
   "mimetype": "text/x-python",
   "name": "python",
   "nbconvert_exporter": "python",
   "pygments_lexer": "ipython3",
   "version": "3.11.5"
  }
 },
 "nbformat": 4,
 "nbformat_minor": 4
}
