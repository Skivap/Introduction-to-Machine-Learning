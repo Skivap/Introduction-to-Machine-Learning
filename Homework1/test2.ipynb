{
 "cells": [
  {
   "cell_type": "markdown",
   "metadata": {
    "id": "X_Te27fi-0pP"
   },
   "source": [
    "# **HW1: Regression**\n",
    "In *assignment 1*, you need to finish:\n",
    "\n",
    "1.  Basic Part: Implement two regression models to predict the Systolic blood pressure (SBP) of a patient. You will need to implement **both Matrix Inversion and Gradient Descent**.\n",
    "\n",
    "\n",
    "> *   Step 1: Split Data\n",
    "> *   Step 2: Preprocess Data\n",
    "> *   Step 3: Implement Regression\n",
    "> *   Step 4: Make Prediction\n",
    "> *   Step 5: Train Model and Generate Result\n",
    "\n",
    "2.  Advanced Part: Implement one regression model to predict the SBP of multiple patients in a different way than the basic part. You can choose **either** of the two methods for this part."
   ]
  },
  {
   "cell_type": "markdown",
   "metadata": {
    "id": "_wDdnos-4uUv"
   },
   "source": [
    "# **1. Basic Part (55%)**\n",
    "In the first part, you need to implement the regression to predict SBP from the given DBP\n"
   ]
  },
  {
   "cell_type": "markdown",
   "metadata": {
    "id": "C_EVqWlB-DTF"
   },
   "source": [
    "## 1.1 Matrix Inversion Method (25%)\n",
    "\n",
    "\n",
    "*   Save the prediction result in a csv file **hw1_basic_mi.csv**\n",
    "*   Print your coefficient\n"
   ]
  },
  {
   "cell_type": "markdown",
   "metadata": {
    "id": "RzCR7vk9BFkf"
   },
   "source": [
    "### *Import Packages*\n",
    "\n",
    "> Note: You **cannot** import any other package"
   ]
  },
  {
   "cell_type": "code",
   "execution_count": 1,
   "metadata": {
    "id": "HL5XjqFf4wSj"
   },
   "outputs": [],
   "source": [
    "import numpy as np\n",
    "import matplotlib.pyplot as plt\n",
    "import pandas as pd\n",
    "import csv\n",
    "import math\n",
    "import random"
   ]
  },
  {
   "cell_type": "markdown",
   "metadata": {
    "id": "jnWjrzi0dMPz"
   },
   "source": [
    "### *Global attributes*\n",
    "Define the global attributes"
   ]
  },
  {
   "cell_type": "code",
   "execution_count": 2,
   "metadata": {
    "id": "EWLDPOlHBbcK"
   },
   "outputs": [],
   "source": [
    "training_dataroot = 'hw1_basic_training.csv' # Training data file file named as 'hw1_basic_training.csv'\n",
    "testing_dataroot = 'hw1_basic_testing.csv'   # Testing data file named as 'hw1_basic_training.csv'\n",
    "output_dataroot = 'hw1_basic_mi.csv' # Output file will be named as 'hw1_basic.csv'\n",
    "\n",
    "training_datalist =  [] # Training datalist, saved as numpy array\n",
    "testing_datalist =  [] # Testing datalist, saved as numpy array\n",
    "\n",
    "output_datalist =  [] # Your prediction, should be 20 * 1 matrix and saved as numpy array\n",
    "                      # The format of each row should be ['sbp']"
   ]
  },
  {
   "cell_type": "markdown",
   "metadata": {
    "id": "PsFC-cvqIcYK"
   },
   "source": [
    "You can add your own global attributes here\n"
   ]
  },
  {
   "cell_type": "code",
   "execution_count": null,
   "metadata": {
    "id": "OUbS2BEgcut6"
   },
   "outputs": [],
   "source": []
  },
  {
   "cell_type": "markdown",
   "metadata": {
    "id": "rUoRFoQjBW5S"
   },
   "source": [
    "### *Load the Input File*\n",
    "First, load the basic input file **hw1_basic_training.csv** and **hw1_basic_testing.csv**\n",
    "\n",
    "Input data would be stored in *training_datalist* and *testing_datalist*"
   ]
  },
  {
   "cell_type": "code",
   "execution_count": 3,
   "metadata": {
    "id": "dekR1KnqBtI6"
   },
   "outputs": [],
   "source": [
    "# Read input csv to datalist\n",
    "with open(training_dataroot, newline='') as csvfile:\n",
    "  training_datalist = np.array(list(csv.reader(csvfile)))\n",
    "\n",
    "with open(testing_dataroot, newline='') as csvfile:\n",
    "  testing_datalist = np.array(list(csv.reader(csvfile)))"
   ]
  },
  {
   "cell_type": "markdown",
   "metadata": {
    "id": "6kYPuikLCFx4"
   },
   "source": [
    "### *Implement the Regression Model*\n",
    "\n",
    "> Note: It is recommended to use the functions we defined, you can also define your own functions\n"
   ]
  },
  {
   "cell_type": "markdown",
   "metadata": {
    "id": "jWwdx06JNEYs"
   },
   "source": [
    "#### Step 1: Split Data\n",
    "Split data in *training_datalist* into training dataset and validation dataset\n",
    "* Validation dataset is used to validate your own model without the testing data\n",
    "\n"
   ]
  },
  {
   "cell_type": "code",
   "execution_count": 4,
   "metadata": {
    "id": "USDciENcB-5F"
   },
   "outputs": [
    {
     "ename": "SyntaxError",
     "evalue": "incomplete input (1239041153.py, line 1)",
     "output_type": "error",
     "traceback": [
      "\u001b[1;36m  Cell \u001b[1;32mIn[4], line 1\u001b[1;36m\u001b[0m\n\u001b[1;33m    def SplitData():\u001b[0m\n\u001b[1;37m                    ^\u001b[0m\n\u001b[1;31mSyntaxError\u001b[0m\u001b[1;31m:\u001b[0m incomplete input\n"
     ]
    }
   ],
   "source": [
    "def SplitData():\n"
   ]
  },
  {
   "cell_type": "markdown",
   "metadata": {
    "id": "u-3Qln4aNgVy"
   },
   "source": [
    "#### Step 2: Preprocess Data\n",
    "Handle the unreasonable data\n",
    "> Hint: Outlier and missing data can be handled by removing the data or adding the values with the help of statistics  "
   ]
  },
  {
   "cell_type": "code",
   "execution_count": null,
   "metadata": {
    "id": "XXvW1n_5NkQ5"
   },
   "outputs": [],
   "source": [
    "def PreprocessData():\n"
   ]
  },
  {
   "cell_type": "markdown",
   "metadata": {
    "id": "yDLpJmQUN3V6"
   },
   "source": [
    "#### Step 3: Implement Regression\n",
    "> use Matrix Inversion to finish this part\n",
    "\n",
    "\n"
   ]
  },
  {
   "cell_type": "code",
   "execution_count": null,
   "metadata": {
    "id": "Tx9n1_23N8C0"
   },
   "outputs": [],
   "source": [
    "def MatrixInversion():\n"
   ]
  },
  {
   "cell_type": "markdown",
   "metadata": {
    "id": "2NxRNFwyN8xd"
   },
   "source": [
    "#### Step 4: Make Prediction\n",
    "Make prediction of testing dataset and store the value in *output_datalist*\n",
    "The final *output_datalist* should look something like this \n",
    "> [ [100], [80], ... , [90] ] where each row contains the predicted SBP"
   ]
  },
  {
   "cell_type": "code",
   "execution_count": null,
   "metadata": {
    "id": "EKlDIC2-N_lk"
   },
   "outputs": [],
   "source": [
    "def MakePrediction():\n"
   ]
  },
  {
   "cell_type": "markdown",
   "metadata": {
    "id": "cCd0Z6izOCwq"
   },
   "source": [
    "#### Step 5: Train Model and Generate Result\n",
    "\n",
    "> Notice: **Remember to output the coefficients of the model here**, otherwise 5 points would be deducted\n",
    "* If your regression model is *3x^2 + 2x^1 + 1*, your output would be:\n",
    "```\n",
    "3 2 1\n",
    "```\n",
    "\n",
    "\n",
    "\n"
   ]
  },
  {
   "cell_type": "code",
   "execution_count": null,
   "metadata": {
    "id": "iCL92EPKOFIn"
   },
   "outputs": [],
   "source": []
  },
  {
   "cell_type": "markdown",
   "metadata": {
    "id": "J8Jhd8wAOk3D"
   },
   "source": [
    "### *Write the Output File*\n",
    "Write the prediction to output csv\n",
    "> Format: 'sbp'\n",
    "\n",
    "\n"
   ]
  },
  {
   "cell_type": "code",
   "execution_count": null,
   "metadata": {
    "id": "tYQVYLlKOtDB"
   },
   "outputs": [],
   "source": [
    "with open(output_dataroot, 'w', newline='', encoding=\"utf-8\") as csvfile:\n",
    "  writer = csv.writer(csvfile)\n",
    "  for row in output_datalist:\n",
    "    writer.writerow(row)"
   ]
  },
  {
   "cell_type": "markdown",
   "metadata": {
    "id": "1J3WOhglA9ML"
   },
   "source": [
    "## 1.2 Gradient Descent Method (30%)\n",
    "\n",
    "\n",
    "*   Save the prediction result in a csv file **hw1_basic_gd.csv**\n",
    "*   Output your coefficient update in a csv file **hw1_basic_coefficient.csv**\n",
    "*   Print your coefficient\n",
    "\n",
    "\n",
    "\n"
   ]
  },
  {
   "cell_type": "markdown",
   "metadata": {
    "id": "TkMqa_xjXhEv"
   },
   "source": [
    "### *Global attributes*"
   ]
  },
  {
   "cell_type": "code",
   "execution_count": null,
   "metadata": {
    "id": "wNZtRWUeXpEu"
   },
   "outputs": [],
   "source": [
    "output_dataroot = 'hw1_basic_gd.csv' # Output file will be named as 'hw1_basic.csv'\n",
    "coefficient_output_dataroot = 'hw1_basic_coefficient.csv'\n",
    "\n",
    "training_datalist =  [] # Training datalist, saved as numpy array\n",
    "testing_datalist =  [] # Testing datalist, saved as numpy array\n",
    "\n",
    "output_datalist =  [] # Your prediction, should be 20 * 1 matrix and saved as numpy array\n",
    "                      # The format of each row should be ['sbp']\n",
    "\n",
    "coefficient_output = [] # Your coefficient update during gradient descent\n",
    "                   # Should be a (number of iterations * number_of coefficient) matrix\n",
    "                   # The format of each row should be ['w0', 'w1', ...., 'wn']"
   ]
  },
  {
   "cell_type": "markdown",
   "metadata": {
    "id": "I5DeHxdLdai3"
   },
   "source": [
    "Your own global attributes"
   ]
  },
  {
   "cell_type": "code",
   "execution_count": null,
   "metadata": {
    "id": "_2IO5tYSdaFd"
   },
   "outputs": [],
   "source": []
  },
  {
   "cell_type": "markdown",
   "metadata": {
    "id": "RVBLT1aqXuW0"
   },
   "source": [
    "### *Implement the Regression Model*\n"
   ]
  },
  {
   "cell_type": "markdown",
   "metadata": {
    "id": "ecPWpcOnXhCZ"
   },
   "source": [
    "#### Step 1: Split Data"
   ]
  },
  {
   "cell_type": "code",
   "execution_count": null,
   "metadata": {
    "id": "1PEf_qGvYHu0"
   },
   "outputs": [],
   "source": [
    "def SplitData():"
   ]
  },
  {
   "cell_type": "markdown",
   "metadata": {
    "id": "lpSoPDPKX56w"
   },
   "source": [
    "#### Step 2: Preprocess Data"
   ]
  },
  {
   "cell_type": "code",
   "execution_count": null,
   "metadata": {
    "id": "uLTXOWRwYHiS"
   },
   "outputs": [],
   "source": [
    "def PreprocessData():\n"
   ]
  },
  {
   "cell_type": "markdown",
   "metadata": {
    "id": "TV_y82gXX6a-"
   },
   "source": [
    "#### Step 3: Implement Regression\n",
    "> use Gradient Descent to finish this part"
   ]
  },
  {
   "cell_type": "code",
   "execution_count": null,
   "metadata": {
    "id": "-635Ee00YHTE"
   },
   "outputs": [],
   "source": [
    "def GradientDescent():"
   ]
  },
  {
   "cell_type": "markdown",
   "metadata": {
    "id": "nLuPxs2ZX21S"
   },
   "source": [
    "#### Step 4: Make Prediction\n",
    "\n",
    "Make prediction of testing dataset and store the values in *output_datalist*\n",
    "The final *output_datalist* should look something like this \n",
    "> [ [100], [80], ... , [90] ] where each row contains the predicted SBP\n",
    "\n",
    "Remember to also store your coefficient update in *coefficient_output*\n",
    "The final *coefficient_output* should look something like this\n",
    "> [ [1, 0, 3, 5], ... , [0.1, 0.3, 0.2, 0.5] ] where each row contains the [w0, w1, ..., wn] of your coefficient\n",
    "\n",
    "\n",
    "\n"
   ]
  },
  {
   "cell_type": "code",
   "execution_count": null,
   "metadata": {
    "id": "8pnNDlQeYGtE"
   },
   "outputs": [],
   "source": [
    "def MakePrediction():"
   ]
  },
  {
   "cell_type": "markdown",
   "metadata": {
    "id": "IScbxxMAYAgZ"
   },
   "source": [
    "#### Step 5: Train Model and Generate Result\n",
    "\n",
    "> Notice: **Remember to output the coefficients of the model here**, otherwise 5 points would be deducted\n",
    "* If your regression model is *3x^2 + 2x^1 + 1*, your output would be:\n",
    "```\n",
    "3 2 1\n",
    "```\n",
    "\n"
   ]
  },
  {
   "cell_type": "code",
   "execution_count": null,
   "metadata": {
    "id": "90EisOc7YG-N"
   },
   "outputs": [],
   "source": []
  },
  {
   "cell_type": "markdown",
   "metadata": {
    "id": "_1DpV_HcYFpl"
   },
   "source": [
    "### *Write the Output File*\n",
    "\n",
    "Write the prediction to output csv\n",
    "> Format: 'sbp'\n",
    "\n",
    "**Write the coefficient update to csv**\n",
    "> Format: 'w0', 'w1', ..., 'wn'\n",
    ">*   The number of columns is based on your number of coefficient\n",
    ">*   The number of row is based on your number of iterations"
   ]
  },
  {
   "cell_type": "code",
   "execution_count": null,
   "metadata": {
    "id": "NLSHgpDvDXNI"
   },
   "outputs": [],
   "source": [
    "with open(output_dataroot, 'w', newline='', encoding=\"utf-8\") as csvfile:\n",
    "  writer = csv.writer(csvfile)\n",
    "  for row in output_datalist:\n",
    "    writer.writerow(row)\n",
    "\n",
    "with open(coefficient_output_dataroot, 'w', newline='', encoding=\"utf-8\") as csvfile:\n",
    "  writer = csv.writer(csvfile)\n",
    "  for row in coefficient_output:\n",
    "    writer.writerow(row)"
   ]
  },
  {
   "cell_type": "markdown",
   "metadata": {
    "id": "rx4408qg4xMQ"
   },
   "source": [
    "# **2. Advanced Part (40%)**\n",
    "In the second part, you need to implement the regression in a different way than the basic part to help your predictions of multiple patients SBP.\n",
    "\n",
    "You can choose **either** Matrix Inversion or Gradient Descent method.\n",
    "\n",
    "The training data will be in **hw1_advanced_training.csv** and the testing data will be in **hw1_advanced_testing.csv**.\n",
    "\n",
    "Output your prediction in **hw1_advanced.csv**\n",
    "\n",
    "Notice:\n",
    "> You cannot import any other package other than those given\n",
    "\n"
   ]
  },
  {
   "cell_type": "markdown",
   "metadata": {},
   "source": [
    "### Input the training and testing dataset"
   ]
  },
  {
   "cell_type": "code",
   "execution_count": null,
   "metadata": {
    "id": "v66HUClZcxaE"
   },
   "outputs": [],
   "source": [
    "training_dataroot = 'hw1_advanced_training.csv' # Training data file file named as 'hw1_basic_training.csv'\n",
    "testing_dataroot = 'hw1_advanced_testing.csv'   # Testing data file named as 'hw1_basic_training.csv'\n",
    "output_dataroot = 'hw1_advanced.csv' # Output file will be named as 'hw1_basic.csv'\n",
    "\n",
    "training_datalist =  [] # Training datalist, saved as numpy array\n",
    "testing_datalist =  [] # Testing datalist, saved as numpy array\n",
    "\n",
    "output_datalist =  [] # Your prediction, should be 220 * 1 matrix and saved as numpy array\n",
    "                      # The format of each row should be ['sbp']"
   ]
  },
  {
   "cell_type": "markdown",
   "metadata": {},
   "source": [
    "### Your Implementation"
   ]
  },
  {
   "cell_type": "code",
   "execution_count": null,
   "metadata": {
    "scrolled": true
   },
   "outputs": [],
   "source": [
    "uni_k = 5\n",
    "order = 1\n",
    "z_max = 3\n",
    "iterations = 1000\n",
    "learning_rate = []\n",
    "\n",
    "print(\"Using\", uni_k, \"data before\")\n",
    "print(\"Polynomial order\", order)\n",
    "print(\"Filter data using Z value\", z_max, \"\\n\")\n",
    "\n",
    "# filter data function\n",
    "def cutData(data):\n",
    "    data = data.drop([\"charttime\"], axis=1)\n",
    "    return data.to_numpy()\n",
    "\n",
    "def makeLearningRate():\n",
    "    c = 0.000001\n",
    "    learning_rate.clear()\n",
    "    learning_rate.append(0.01)\n",
    "    for i in range(4):\n",
    "        for j in range(order):\n",
    "            learning_rate.append(0.1 * (c ** (j+1)))\n",
    "    for i in range(uni_k):\n",
    "        learning_rate.append(c)\n",
    "\n",
    "def MakeBatch(data, split):\n",
    "    batch = round(len(data) / split)\n",
    "    ret = []\n",
    "    \n",
    "    for i in range(split):\n",
    "        bot = i * batch\n",
    "        top = (i+1) * batch\n",
    "        if i == split-1:\n",
    "            top = len(data)\n",
    "        ret.append(data[bot:top])\n",
    "        \n",
    "    return ret\n",
    "\n",
    "def FilterData(data):\n",
    "    ret_data = dict()\n",
    "    \n",
    "    print(\"BEFORE =\", len(data))\n",
    "    data['temperature'].fillna(round(data['temperature'].mean(), 2), inplace = True)\n",
    "    data = data.dropna()\n",
    "    print(\"AFTER DROP NAN =\", len(data))\n",
    "    \n",
    "    topic = [\"temperature\", \"heartrate\", \"resprate\", \"o2sat\", \"sbp\"]\n",
    "    gd_mean = data[topic].mean()\n",
    "    gd_std = data[topic].std()\n",
    "    \n",
    "    for i in topic:\n",
    "        data = data[abs(data[i] - gd_mean[i]) / gd_std[i] <= z_max]\n",
    "    print(\"AFTER Z VALUE =\", len(data))\n",
    "    print(\"============================================\")\n",
    "        \n",
    "    \n",
    "    data = data.groupby(\"subject_id\")\n",
    "    for group_name, group_data in data:\n",
    "        group_data = group_data.drop([\"subject_id\", \"charttime\"], axis = 1)\n",
    "        ret_data[group_name] = group_data.to_numpy()\n",
    "#         print(\"SUBJECT\", group_name, \"=====\")\n",
    "#         for i in topic:\n",
    "#             print(i, \"===\")\n",
    "#             print(group_data[i].min())\n",
    "#             print(group_data[i].mean())\n",
    "#             print(group_data[i].max())\n",
    "        \n",
    "    return ret_data\n",
    "\n",
    "# split data function\n",
    "def Split_Data(data, num):\n",
    "    size = len(data)\n",
    "    split_size = round(size * num)\n",
    "    data1 = np.array(data[1:split_size]).astype('float64') # since index 0 is string\n",
    "    data2 = np.array(data[split_size:size]).astype('float64')\n",
    "    return data1, data2\n",
    "\n",
    "# training function\n",
    "def modif_x(data, k, x):\n",
    "    ret = [1]\n",
    "    n1 = len(data)\n",
    "    n2 = len(data[0])\n",
    "\n",
    "    for i in range(4):\n",
    "        for j in range(order):\n",
    "            ret.append(x[i] ** (j+1))\n",
    "    for i in range(k):\n",
    "        ret.append(data[n1-1-i][n2-1])\n",
    "        \n",
    "    return ret\n",
    "    \n",
    "def make_matrix(data, k):\n",
    "    new_data = []\n",
    "    for i in range(k, len(data)):\n",
    "        new_data.append([1])\n",
    "\n",
    "        for j in range(4):\n",
    "            for p in range(order):\n",
    "                new_data[i-k].append(data[i][j] ** (p+1))\n",
    "        for j in range(k):\n",
    "            new_data[i-k].append(data[i-1-j][4])\n",
    "        new_data[i-k].append(data[i][4])\n",
    "    \n",
    "    new_data = np.array(new_data)\n",
    "    return new_data\n",
    "\n",
    "def gradient_descent(data, weight):\n",
    "    n = len(weight)\n",
    "    w_new = np.zeros(n)\n",
    "    norm = -2/len(data)\n",
    "    \n",
    "    for row in data:\n",
    "        predict = 0\n",
    "        y = row[n]\n",
    "        for i in range(n):\n",
    "            predict += row[i] * weight[i]\n",
    "        for i in range(n):\n",
    "            w_new[i] += (norm) * (y - predict) * row[i]\n",
    "            \n",
    "    for i in range(n):\n",
    "        w_new[i] = weight[i] - learning_rate[i] * w_new[i]\n",
    "    return w_new\n",
    "        \n",
    "\n",
    "def matrix_inversion(data):\n",
    "    n = len(data[0])\n",
    "    X = np.array(data[:,0:n-1])\n",
    "    Y = np.array(data[:,n-1])\n",
    "\n",
    "    ret = np.linalg.inv(X.T @ X) @ X.T @ Y\n",
    "    return ret\n",
    "\n",
    "def train_func(data):\n",
    "    n = len(data[0])\n",
    "    grad = np.zeros(n-1)\n",
    "    #data = MakeBatch(data, 10)\n",
    "    #for batch in data:\n",
    "    for i in range(iterations):\n",
    "        grad = gradient_descent(data, grad)\n",
    "    #grad = matrix_inversion(data)\n",
    "    return grad\n",
    "\n",
    "def doPrediction(b, X):\n",
    "    ret = 0\n",
    "    for i in range(len(X)):\n",
    "        ret += b[i] * X[i]\n",
    "    return ret\n",
    "    \n",
    "# read files\n",
    "adv_training_data = pd.read_csv(training_dataroot)\n",
    "adv_testing_data = pd.read_csv(testing_dataroot)\n",
    "makeLearningRate()\n",
    "\n",
    "data = FilterData(adv_training_data)\n",
    "\n",
    "# train every data\n",
    "def test_MAPE():\n",
    "    grad = dict()\n",
    "    mape = 0\n",
    "    for idx in data:\n",
    "        # for caluclating MAPE\n",
    "        train_data, test_data = Split_Data(data[idx], 0.9)\n",
    "        train_data = make_matrix(train_data, uni_k)\n",
    "        grad[idx] = train_func(train_data)\n",
    "        \n",
    "        msum = 0\n",
    "        for row in test_data:\n",
    "            X = modif_x(train_data, uni_k, row[0:4])\n",
    "            Y = doPrediction(grad[idx], X)\n",
    "            msum += abs(row[4] - Y) / row[4]\n",
    "            \n",
    "            X.append(Y)\n",
    "            X = np.array(X)\n",
    "            train_data = np.vstack((train_data, X))\n",
    "        mape = 100 / len(test_data) * msum\n",
    "        print(mape)\n",
    "    #print(mape/11, \"%\")\n",
    "\n",
    "def final():\n",
    "    grad = dict()\n",
    "    train_data = FilterData(adv_training_data)\n",
    "    test_data = cutData(adv_testing_data)\n",
    "    \n",
    "    for topic in train_data:\n",
    "        train_data[topic] = make_matrix(train_data[topic], uni_k)\n",
    "        grad[topic] = train_func(train_data[topic])\n",
    "    \n",
    "    for row in test_data:\n",
    "        sub_id = row[0]\n",
    "        X = row[1:5]\n",
    "        X = modif_x(train_data[sub_id], uni_k, X)\n",
    "        row[5] = doPrediction(grad[sub_id], X)\n",
    "        \n",
    "        X.append(row[5])\n",
    "        X = np.array(X)\n",
    "        train_data[sub_id] = np.vstack((train_data[sub_id], X))\n",
    "    \n",
    "    return test_data\n",
    "\n",
    "makeLearningRate()\n",
    "\n",
    "print(\"UNI_K = \", uni_k)\n",
    "test_MAPE()\n",
    "print()\n",
    "\n",
    "# out = final()\n",
    "# output_datalist = []\n",
    "\n",
    "# for row in out:\n",
    "#     output_datalist.append([row[5]])\n",
    "\n",
    "# print(\" === FINISH ===\")"
   ]
  },
  {
   "cell_type": "markdown",
   "metadata": {},
   "source": [
    "### Output your Prediction\n",
    "\n",
    "> your filename should be **hw1_advanced.csv**"
   ]
  },
  {
   "cell_type": "code",
   "execution_count": null,
   "metadata": {},
   "outputs": [],
   "source": [
    "for row in output_datalist:\n",
    "    print(row)\n",
    "\n",
    "with open(output_dataroot, 'w', newline='', encoding=\"utf-8\") as csvfile:\n",
    "  writer = csv.writer(csvfile)\n",
    "  for row in output_datalist:\n",
    "    writer.writerow(row)"
   ]
  },
  {
   "cell_type": "markdown",
   "metadata": {
    "id": "EtgCJU7FPeJL"
   },
   "source": [
    "# Report *(5%)*\n",
    "\n",
    "Report should be submitted as a pdf file **hw1_report.pdf**\n",
    "\n",
    "*   Briefly describe the difficulty you encountered\n",
    "*   Summarize your work and your reflections\n",
    "*   No more than one page\n",
    "\n",
    "\n",
    "\n",
    "\n"
   ]
  },
  {
   "cell_type": "markdown",
   "metadata": {
    "id": "hlEE53_MPf4W"
   },
   "source": [
    "# Save the Code File\n",
    "Please save your code and submit it as an ipynb file! (**hw1.ipynb**)"
   ]
  }
 ],
 "metadata": {
  "colab": {
   "provenance": [],
   "toc_visible": true
  },
  "kernelspec": {
   "display_name": "Python 3 (ipykernel)",
   "language": "python",
   "name": "python3"
  },
  "language_info": {
   "codemirror_mode": {
    "name": "ipython",
    "version": 3
   },
   "file_extension": ".py",
   "mimetype": "text/x-python",
   "name": "python",
   "nbconvert_exporter": "python",
   "pygments_lexer": "ipython3",
   "version": "3.11.4"
  }
 },
 "nbformat": 4,
 "nbformat_minor": 1
}
