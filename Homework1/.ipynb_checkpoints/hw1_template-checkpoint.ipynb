{
 "cells": [
  {
   "cell_type": "markdown",
   "metadata": {
    "id": "X_Te27fi-0pP"
   },
   "source": [
    "# **HW1: Regression**\n",
    "In *assignment 1*, you need to finish:\n",
    "\n",
    "1.  Basic Part: Implement two regression models to predict the Systolic blood pressure (SBP) of a patient. You will need to implement **both Matrix Inversion and Gradient Descent**.\n",
    "\n",
    "\n",
    "> *   Step 1: Split Data\n",
    "> *   Step 2: Preprocess Data\n",
    "> *   Step 3: Implement Regression\n",
    "> *   Step 4: Make Prediction\n",
    "> *   Step 5: Train Model and Generate Result\n",
    "\n",
    "2.  Advanced Part: Implement one regression model to predict the SBP of multiple patients in a different way than the basic part. You can choose **either** of the two methods for this part."
   ]
  },
  {
   "cell_type": "markdown",
   "metadata": {
    "id": "_wDdnos-4uUv"
   },
   "source": [
    "# **1. Basic Part (55%)**\n",
    "In the first part, you need to implement the regression to predict SBP from the given DBP\n"
   ]
  },
  {
   "cell_type": "markdown",
   "metadata": {
    "id": "C_EVqWlB-DTF"
   },
   "source": [
    "## 1.1 Matrix Inversion Method (25%)\n",
    "\n",
    "\n",
    "*   Save the prediction result in a csv file **hw1_basic_mi.csv**\n",
    "*   Print your coefficient\n"
   ]
  },
  {
   "cell_type": "markdown",
   "metadata": {
    "id": "RzCR7vk9BFkf"
   },
   "source": [
    "### *Import Packages*\n",
    "\n",
    "> Note: You **cannot** import any other package"
   ]
  },
  {
   "cell_type": "code",
   "execution_count": 1,
   "metadata": {
    "id": "HL5XjqFf4wSj"
   },
   "outputs": [],
   "source": [
    "import numpy as np\n",
    "import matplotlib.pyplot as plt\n",
    "import pandas as pd\n",
    "import csv\n",
    "import math\n",
    "import random"
   ]
  },
  {
   "cell_type": "markdown",
   "metadata": {
    "id": "jnWjrzi0dMPz"
   },
   "source": [
    "### *Global attributes*\n",
    "Define the global attributes"
   ]
  },
  {
   "cell_type": "code",
   "execution_count": 2,
   "metadata": {
    "id": "EWLDPOlHBbcK"
   },
   "outputs": [],
   "source": [
    "training_dataroot = 'hw1_basic_training.csv' # Training data file file named as 'hw1_basic_training.csv'\n",
    "testing_dataroot = 'hw1_basic_testing.csv'   # Testing data file named as 'hw1_basic_training.csv'\n",
    "output_dataroot = 'hw1_basic_mi.csv' # Output file will be named as 'hw1_basic.csv'\n",
    "\n",
    "training_datalist =  [] # Training datalist, saved as numpy array\n",
    "testing_datalist =  [] # Testing datalist, saved as numpy array\n",
    "\n",
    "output_datalist =  [] # Your prediction, should be 20 * 1 matrix and saved as numpy array\n",
    "                      # The format of each row should be ['sbp']"
   ]
  },
  {
   "cell_type": "markdown",
   "metadata": {
    "id": "PsFC-cvqIcYK"
   },
   "source": [
    "You can add your own global attributes here\n"
   ]
  },
  {
   "cell_type": "code",
   "execution_count": null,
   "metadata": {
    "id": "OUbS2BEgcut6"
   },
   "outputs": [],
   "source": []
  },
  {
   "cell_type": "markdown",
   "metadata": {
    "id": "rUoRFoQjBW5S"
   },
   "source": [
    "### *Load the Input File*\n",
    "First, load the basic input file **hw1_basic_training.csv** and **hw1_basic_testing.csv**\n",
    "\n",
    "Input data would be stored in *training_datalist* and *testing_datalist*"
   ]
  },
  {
   "cell_type": "code",
   "execution_count": 3,
   "metadata": {
    "id": "dekR1KnqBtI6"
   },
   "outputs": [],
   "source": [
    "# Read input csv to datalist\n",
    "with open(training_dataroot, newline='') as csvfile:\n",
    "  training_datalist = np.array(list(csv.reader(csvfile)))\n",
    "\n",
    "with open(testing_dataroot, newline='') as csvfile:\n",
    "  testing_datalist = np.array(list(csv.reader(csvfile)))"
   ]
  },
  {
   "cell_type": "markdown",
   "metadata": {
    "id": "6kYPuikLCFx4"
   },
   "source": [
    "### *Implement the Regression Model*\n",
    "\n",
    "> Note: It is recommended to use the functions we defined, you can also define your own functions\n"
   ]
  },
  {
   "cell_type": "markdown",
   "metadata": {
    "id": "jWwdx06JNEYs"
   },
   "source": [
    "#### Step 1: Split Data\n",
    "Split data in *training_datalist* into training dataset and validation dataset\n",
    "* Validation dataset is used to validate your own model without the testing data\n",
    "\n"
   ]
  },
  {
   "cell_type": "code",
   "execution_count": 4,
   "metadata": {
    "id": "USDciENcB-5F"
   },
   "outputs": [],
   "source": [
    "def SplitData(data, num):\n",
    "    size = len(data)\n",
    "    split_size = round(size * num)\n",
    "    data1 = np.array(data[1:split_size]).astype('float64') # since index 0 is string\n",
    "    data2 = np.array(data[split_size:size]).astype('float64')\n",
    "    return data1, data2"
   ]
  },
  {
   "cell_type": "markdown",
   "metadata": {
    "id": "u-3Qln4aNgVy"
   },
   "source": [
    "#### Step 2: Preprocess Data\n",
    "Handle the unreasonable data\n",
    "> Hint: Outlier and missing data can be handled by removing the data or adding the values with the help of statistics  "
   ]
  },
  {
   "cell_type": "code",
   "execution_count": 5,
   "metadata": {
    "id": "XXvW1n_5NkQ5"
   },
   "outputs": [],
   "source": [
    "# Remove unnecessary data such as string, outlier data, convert all data to number\n",
    "def PreprocessData(data):\n",
    "    data_filter = []\n",
    "    data_mean = data.mean(axis = 0)\n",
    "    data_std = data.std(axis = 0)\n",
    "    for row in data:\n",
    "        valid = True\n",
    "        try:\n",
    "            row = row.astype('float64')\n",
    "            for i in range(2):\n",
    "                z = (row[i] - data_mean[0]) / data_std[0]\n",
    "                if z < -3 or z > 3:\n",
    "                    valid = False\n",
    "        except:\n",
    "            valid = False\n",
    "        data_filter.append(valid)\n",
    "    return np.array(data[data_filter]).astype('float64')"
   ]
  },
  {
   "cell_type": "markdown",
   "metadata": {
    "id": "yDLpJmQUN3V6"
   },
   "source": [
    "#### Step 3: Implement Regression\n",
    "> use Matrix Inversion to finish this part\n",
    "\n",
    "\n"
   ]
  },
  {
   "cell_type": "code",
   "execution_count": 6,
   "metadata": {
    "id": "Tx9n1_23N8C0"
   },
   "outputs": [],
   "source": [
    "def MatrixInversion(A, order):    \n",
    "    # taking X and Y data\n",
    "    data = np.transpose(A)\n",
    "    AX = np.array(data[0]).astype('float64')\n",
    "    Y = np.array(data[1]).astype('float64')\n",
    "    \n",
    "    # fill x\n",
    "    X = np.ones((order+1, len(AX)))\n",
    "    for i in range(1, order+1):\n",
    "        X[i] = np.array(np.power(AX, i))\n",
    "\n",
    "    # set up the variable\n",
    "    X = np.transpose(X)\n",
    "    Y = np.transpose(Y)\n",
    "    X_T = np.transpose(X)\n",
    "    \n",
    "    # do the multiplication\n",
    "    C = np.matmul(X_T, X)\n",
    "    C = np.linalg.inv(C)\n",
    "    D = np.matmul(C, X_T)\n",
    "    \n",
    "    b = np.matmul(D, Y)\n",
    "    return b"
   ]
  },
  {
   "cell_type": "markdown",
   "metadata": {
    "id": "2NxRNFwyN8xd"
   },
   "source": [
    "#### Step 4: Make Prediction\n",
    "Make prediction of testing dataset and store the value in *output_datalist*\n",
    "The final *output_datalist* should look something like this \n",
    "> [ [100], [80], ... , [90] ] where each row contains the predicted SBP"
   ]
  },
  {
   "cell_type": "code",
   "execution_count": 7,
   "metadata": {
    "id": "EKlDIC2-N_lk"
   },
   "outputs": [],
   "source": [
    "def MakePrediction(B, X):\n",
    "    y = 0\n",
    "    for i in range(len(B)):\n",
    "        y += (X ** i) * B[i]\n",
    "    return y"
   ]
  },
  {
   "cell_type": "markdown",
   "metadata": {
    "id": "cCd0Z6izOCwq"
   },
   "source": [
    "#### Step 5: Train Model and Generate Result\n",
    "\n",
    "> Notice: **Remember to output the coefficients of the model here**, otherwise 5 points would be deducted\n",
    "* If your regression model is *3x^2 + 2x^1 + 1*, your output would be:\n",
    "```\n",
    "3 2 1\n",
    "```\n",
    "\n",
    "\n",
    "\n"
   ]
  },
  {
   "cell_type": "code",
   "execution_count": 8,
   "metadata": {
    "id": "iCL92EPKOFIn"
   },
   "outputs": [
    {
     "name": "stdout",
     "output_type": "stream",
     "text": [
      "Error calculating MAPE : No data split to verify\n"
     ]
    },
    {
     "data": {
      "image/png": "[encoded data removed]",
      "text/plain": [
       "<Figure size 640x480 with 1 Axes>"
      ]
     },
     "metadata": {},
     "output_type": "display_data"
    },
    {
     "name": "stdout",
     "output_type": "stream",
     "text": [
      "\n",
      "Coefficients :\n",
      "0.004611890733424811 0.23531354225880863 77.90204667432596 "
     ]
    }
   ],
   "source": [
    "def OLS_train(n_order, num_split):\n",
    "    \n",
    "    # taing data and filter / split\n",
    "    d1, d2 = SplitData(training_datalist, num_split)\n",
    "    data_train = PreprocessData(d1)\n",
    "    data_test = d2\n",
    "\n",
    "    # calculate gradient value\n",
    "    grad = MatrixInversion(data_train, n_order)\n",
    "\n",
    "    # visualize using matplot\n",
    "    X = [x[0] for x in data_train]\n",
    "    Y = [x[1] for x in data_train]\n",
    "    \n",
    "    plt.scatter(X, Y)\n",
    "    x_pred = np.linspace(0, 120, 1000)\n",
    "    y_pred = MakePrediction(grad, x_pred)\n",
    "    plt.plot(x_pred, y_pred, color = 'red')\n",
    "    \n",
    "    # test the data test and calculate the MAPE from split data\n",
    "    msum = 0\n",
    "    for val in data_test:\n",
    "        y = MakePrediction(grad, val[0])\n",
    "        plt.scatter(val[0], y, color='yellow')\n",
    "        msum += abs(val[1] - y) / val[1]\n",
    "    \n",
    "    try:\n",
    "        print(\"MAPE = \", round(100 * msum / len(data_test), 2), \"%\")\n",
    "    except:\n",
    "        print(\"Error calculating MAPE : No data split to verify\")\n",
    "\n",
    "    return grad\n",
    "\n",
    "\n",
    "ols_grad = OLS_train(2, 1)\n",
    "\n",
    "t_data = np.array(testing_datalist[1:len(testing_datalist)]).astype('float64')\n",
    "for row in t_data:\n",
    "    row[1] = MakePrediction(ols_grad, row[0])\n",
    "    \n",
    "input_datalist, output_datalist = np.hsplit(t_data, 2)\n",
    "plt.scatter(input_datalist, output_datalist, color='yellow')\n",
    "plt.show()\n",
    "\n",
    "print(\"\\nCoefficients :\")\n",
    "for i in ols_grad[::-1]:\n",
    "    print(i, end = \" \")"
   ]
  },
  {
   "cell_type": "markdown",
   "metadata": {
    "id": "J8Jhd8wAOk3D"
   },
   "source": [
    "### *Write the Output File*\n",
    "Write the prediction to output csv\n",
    "> Format: 'sbp'\n",
    "\n",
    "\n"
   ]
  },
  {
   "cell_type": "code",
   "execution_count": 9,
   "metadata": {
    "id": "tYQVYLlKOtDB"
   },
   "outputs": [],
   "source": [
    "with open(output_dataroot, 'w', newline='', encoding=\"utf-8\") as csvfile:\n",
    "  writer = csv.writer(csvfile)\n",
    "  for row in output_datalist:\n",
    "    writer.writerow(row)"
   ]
  },
  {
   "cell_type": "markdown",
   "metadata": {
    "id": "1J3WOhglA9ML"
   },
   "source": [
    "## 1.2 Gradient Descent Method (30%)\n",
    "\n",
    "\n",
    "*   Save the prediction result in a csv file **hw1_basic_gd.csv**\n",
    "*   Output your coefficient update in a csv file **hw1_basic_coefficient.csv**\n",
    "*   Print your coefficient\n",
    "\n",
    "\n",
    "\n"
   ]
  },
  {
   "cell_type": "markdown",
   "metadata": {
    "id": "TkMqa_xjXhEv"
   },
   "source": [
    "### *Global attributes*"
   ]
  },
  {
   "cell_type": "code",
   "execution_count": 10,
   "metadata": {
    "id": "wNZtRWUeXpEu"
   },
   "outputs": [],
   "source": [
    "output_dataroot = 'hw1_basic_gd.csv' # Output file will be named as 'hw1_basic.csv'\n",
    "coefficient_output_dataroot = 'hw1_basic_coefficient.csv'\n",
    "\n",
    "training_datalist =  [] # Training datalist, saved as numpy array\n",
    "testing_datalist =  [] # Testing datalist, saved as numpy array\n",
    "\n",
    "output_datalist =  [] # Your prediction, should be 20 * 1 matrix and saved as numpy array\n",
    "                      # The format of each row should be ['sbp']\n",
    "\n",
    "coefficient_output = [] # Your coefficient update during gradient descent\n",
    "                   # Should be a (number of iterations * number_of coefficient) matrix\n",
    "                   # The format of each row should be ['w0', 'w1', ...., 'wn']"
   ]
  },
  {
   "cell_type": "markdown",
   "metadata": {
    "id": "I5DeHxdLdai3"
   },
   "source": [
    "Your own global attributes"
   ]
  },
  {
   "cell_type": "code",
   "execution_count": 11,
   "metadata": {
    "id": "_2IO5tYSdaFd"
   },
   "outputs": [],
   "source": [
    "# Read input csv to datalist\n",
    "with open(training_dataroot, newline='') as csvfile:\n",
    "  training_datalist = np.array(list(csv.reader(csvfile)))\n",
    "\n",
    "with open(testing_dataroot, newline='') as csvfile:\n",
    "  testing_datalist = np.array(list(csv.reader(csvfile)))"
   ]
  },
  {
   "cell_type": "markdown",
   "metadata": {
    "id": "RVBLT1aqXuW0"
   },
   "source": [
    "### *Implement the Regression Model*\n"
   ]
  },
  {
   "cell_type": "markdown",
   "metadata": {
    "id": "ecPWpcOnXhCZ"
   },
   "source": [
    "#### Step 1: Split Data"
   ]
  },
  {
   "cell_type": "code",
   "execution_count": 12,
   "metadata": {
    "id": "1PEf_qGvYHu0"
   },
   "outputs": [],
   "source": [
    "#def SplitData():\n",
    "#defined at top"
   ]
  },
  {
   "cell_type": "markdown",
   "metadata": {
    "id": "lpSoPDPKX56w"
   },
   "source": [
    "#### Step 2: Preprocess Data"
   ]
  },
  {
   "cell_type": "code",
   "execution_count": 13,
   "metadata": {
    "id": "uLTXOWRwYHiS"
   },
   "outputs": [],
   "source": [
    "#def PreprocessData():\n",
    "#defined at top"
   ]
  },
  {
   "cell_type": "markdown",
   "metadata": {
    "id": "TV_y82gXX6a-"
   },
   "source": [
    "#### Step 3: Implement Regression\n",
    "> use Gradient Descent to finish this part"
   ]
  },
  {
   "cell_type": "code",
   "execution_count": 14,
   "metadata": {
    "id": "-635Ee00YHTE"
   },
   "outputs": [],
   "source": [
    "def GradientDescent(B, data, learning_rate):\n",
    "    order = len(B)\n",
    "    B_new = np.zeros(order).astype('float64')\n",
    "    n = len(data)\n",
    "    \n",
    "    for row in data:\n",
    "        predict = 0\n",
    "        x = row[0]\n",
    "        y = row[1]\n",
    "        for j in range(order):\n",
    "            predict += B[j] * (x ** j)\n",
    "        for j in range(order):\n",
    "            B_new[j] += (-2/n) * (x ** j) * (y - predict)\n",
    "            \n",
    "    for i in range(order):\n",
    "        B_new[i] = B[i] - learning_rate * B_new[i]\n",
    "    \n",
    "    return B_new"
   ]
  },
  {
   "cell_type": "markdown",
   "metadata": {
    "id": "nLuPxs2ZX21S"
   },
   "source": [
    "#### Step 4: Make Prediction\n",
    "\n",
    "Make prediction of testing dataset and store the values in *output_datalist*\n",
    "The final *output_datalist* should look something like this \n",
    "> [ [100], [80], ... , [90] ] where each row contains the predicted SBP\n",
    "\n",
    "Remember to also store your coefficient update in *coefficient_output*\n",
    "The final *coefficient_output* should look something like this\n",
    "> [ [1, 0, 3, 5], ... , [0.1, 0.3, 0.2, 0.5] ] where each row contains the [w0, w1, ..., wn] of your coefficient\n",
    "\n",
    "\n",
    "\n"
   ]
  },
  {
   "cell_type": "code",
   "execution_count": 15,
   "metadata": {
    "id": "8pnNDlQeYGtE"
   },
   "outputs": [],
   "source": [
    "#def MakePrediction():\n",
    "#defined at top"
   ]
  },
  {
   "cell_type": "markdown",
   "metadata": {
    "id": "IScbxxMAYAgZ"
   },
   "source": [
    "#### Step 5: Train Model and Generate Result\n",
    "\n",
    "> Notice: **Remember to output the coefficients of the model here**, otherwise 5 points would be deducted\n",
    "* If your regression model is *3x^2 + 2x^1 + 1*, your output would be:\n",
    "```\n",
    "3 2 1\n",
    "```\n",
    "\n"
   ]
  },
  {
   "cell_type": "code",
   "execution_count": 16,
   "metadata": {
    "id": "90EisOc7YG-N"
   },
   "outputs": [
    {
     "name": "stdout",
     "output_type": "stream",
     "text": [
      "40 from 100\n",
      "50 from 100\n",
      "60 from 100\n",
      "70 from 100\n",
      "80 from 100\n",
      "90 from 100\n",
      "Error Percentage = 6.64\n",
      "Error calculating MAPE : No data split to verify\n"
     ]
    },
    {
     "data": {
      "image/png": "[encoded data removed]",
      "text/plain": [
       "<Figure size 640x480 with 1 Axes>"
      ]
     },
     "metadata": {},
     "output_type": "display_data"
    },
    {
     "name": "stdout",
     "output_type": "stream",
     "text": [
      "\n",
      "Coefficients :\n",
      "0.005957476670683341 5.9157888855214024e-05 88.00000049050026 "
     ]
    }
   ],
   "source": [
    "def grad_desc_train(n_order, num_split, learning_rate, iteration, init_c, should_plot):\n",
    "    # taing data and filter / split\n",
    "    d1, d2 = SplitData(training_datalist, num_split)\n",
    "    data_train = PreprocessData(d1)\n",
    "    data_test = d2\n",
    "    \n",
    "    # calculate gradient value\n",
    "    grad = np.full(n_order + 1, 0).astype('float64')\n",
    "    grad[0] = init_c\n",
    "    for i in range(iteration):\n",
    "        grad = GradientDescent(grad, data_train, learning_rate)\n",
    "    #grad = GradientDescent(grad, data_train, learning_rate)\n",
    "    #print(grad)\n",
    "\n",
    "    # visualize using matplot\n",
    "    X = [x[0] for x in data_train]\n",
    "    Y = [x[1] for x in data_train]\n",
    "    \n",
    "    if should_plot:\n",
    "        plt.scatter(X, Y)\n",
    "        x_pred = np.linspace(0, 120, 1000)\n",
    "        y_pred = MakePrediction(grad, x_pred)\n",
    "        plt.plot(x_pred, y_pred, color = 'red')\n",
    "    \n",
    "    # test the data test and calculate the MAPE from split data\n",
    "    msum = 0\n",
    "    for val in data_test:\n",
    "        y = MakePrediction(grad, val[0])\n",
    "        if should_plot:\n",
    "            plt.scatter(val[0], y, color='red')\n",
    "        msum += abs(val[1] - y) / val[1]\n",
    "    \n",
    "    mape = 0\n",
    "    try:\n",
    "        mape = round(100 * msum / len(data_test), 2)\n",
    "    except:\n",
    "        print(\"Error calculating MAPE : No data split to verify\")\n",
    "\n",
    "    return grad, mape\n",
    "\n",
    "gd_min = 100\n",
    "value = 0\n",
    "\n",
    "# took some time but bruteforce is the best way :D\n",
    "for i in range(40,100):\n",
    "    if(i % 10 == 0):\n",
    "        print(i, \"from 100\")\n",
    "    grad, err = grad_desc_train(2, 0.9, 0.000000001, 1000, i, False)\n",
    "    if err < gd_min:\n",
    "        value = i\n",
    "        gd_min = err\n",
    "\n",
    "print(\"Error Percentage =\", gd_min)\n",
    "gd_grad, err = grad_desc_train(2, 1, 0.000000001, 2000, value, True)\n",
    "\n",
    "t_data = np.array(testing_datalist[1:len(testing_datalist)]).astype('float64')\n",
    "for row in t_data:\n",
    "    row[1] = MakePrediction(gd_grad, row[0])\n",
    "    \n",
    "input_datalist, output_datalist = np.hsplit(t_data, 2)\n",
    "plt.scatter(input_datalist, output_datalist, color='yellow')\n",
    "plt.show()\n",
    "\n",
    "print(\"\\nCoefficients :\")\n",
    "for i in gd_grad[::-1]:\n",
    "    print(i, end = \" \")"
   ]
  },
  {
   "cell_type": "markdown",
   "metadata": {
    "id": "_1DpV_HcYFpl"
   },
   "source": [
    "### *Write the Output File*\n",
    "\n",
    "Write the prediction to output csv\n",
    "> Format: 'sbp'\n",
    "\n",
    "**Write the coefficient update to csv**\n",
    "> Format: 'w0', 'w1', ..., 'wn'\n",
    ">*   The number of columns is based on your number of coefficient\n",
    ">*   The number of row is based on your number of iterations"
   ]
  },
  {
   "cell_type": "code",
   "execution_count": 17,
   "metadata": {
    "id": "NLSHgpDvDXNI"
   },
   "outputs": [],
   "source": [
    "with open(output_dataroot, 'w', newline='', encoding=\"utf-8\") as csvfile:\n",
    "  writer = csv.writer(csvfile)\n",
    "  for row in output_datalist:\n",
    "    writer.writerow(row)\n",
    "\n",
    "coefficient_output = np.array(0)\n",
    "for i in gd_grad:\n",
    "    coefficient_output = np.vstack((coefficient_output, np.array(i)))\n",
    "    \n",
    "with open(coefficient_output_dataroot, 'w', newline='', encoding=\"utf-8\") as csvfile:\n",
    "  writer = csv.writer(csvfile)\n",
    "  for row in coefficient_output:\n",
    "    writer.writerow(row)"
   ]
  },
  {
   "cell_type": "markdown",
   "metadata": {
    "id": "rx4408qg4xMQ"
   },
   "source": [
    "# **2. Advanced Part (40%)**\n",
    "In the second part, you need to implement the regression in a different way than the basic part to help your predictions of multiple patients SBP.\n",
    "\n",
    "You can choose **either** Matrix Inversion or Gradient Descent method.\n",
    "\n",
    "The training data will be in **hw1_advanced_training.csv** and the testing data will be in **hw1_advanced_testing.csv**.\n",
    "\n",
    "Output your prediction in **hw1_advanced.csv**\n",
    "\n",
    "Notice:\n",
    "> You cannot import any other package other than those given\n",
    "\n"
   ]
  },
  {
   "cell_type": "markdown",
   "metadata": {},
   "source": [
    "### Input the training and testing dataset"
   ]
  },
  {
   "cell_type": "code",
   "execution_count": 18,
   "metadata": {
    "id": "v66HUClZcxaE"
   },
   "outputs": [],
   "source": [
    "training_dataroot = 'hw1_advanced_training.csv' # Training data file file named as 'hw1_basic_training.csv'\n",
    "testing_dataroot = 'hw1_advanced_testing.csv'   # Testing data file named as 'hw1_basic_training.csv'\n",
    "output_dataroot = 'hw1_advanced.csv' # Output file will be named as 'hw1_basic.csv'\n",
    "\n",
    "training_datalist =  [] # Training datalist, saved as numpy array\n",
    "testing_datalist =  [] # Testing datalist, saved as numpy array\n",
    "\n",
    "output_datalist =  [] # Your prediction, should be 220 * 1 matrix and saved as numpy array\n",
    "                      # The format of each row should be ['sbp']"
   ]
  },
  {
   "cell_type": "markdown",
   "metadata": {},
   "source": [
    "### Your Implementation"
   ]
  },
  {
   "cell_type": "code",
   "execution_count": 19,
   "metadata": {
    "scrolled": true
   },
   "outputs": [
    {
     "data": {
      "text/html": [
       "<div>\n",
       "<style scoped>\n",
       "    .dataframe tbody tr th:only-of-type {\n",
       "        vertical-align: middle;\n",
       "    }\n",
       "\n",
       "    .dataframe tbody tr th {\n",
       "        vertical-align: top;\n",
       "    }\n",
       "\n",
       "    .dataframe thead th {\n",
       "        text-align: right;\n",
       "    }\n",
       "</style>\n",
       "<table border=\"1\" class=\"dataframe\">\n",
       "  <thead>\n",
       "    <tr style=\"text-align: right;\">\n",
       "      <th></th>\n",
       "      <th>subject_id</th>\n",
       "      <th>charttime</th>\n",
       "      <th>temperature</th>\n",
       "      <th>heartrate</th>\n",
       "      <th>resprate</th>\n",
       "      <th>o2sat</th>\n",
       "      <th>sbp</th>\n",
       "    </tr>\n",
       "  </thead>\n",
       "  <tbody>\n",
       "    <tr>\n",
       "      <th>0</th>\n",
       "      <td>11526383</td>\n",
       "      <td>0 days 00:00:00</td>\n",
       "      <td>98.6</td>\n",
       "      <td>88.0</td>\n",
       "      <td>16.0</td>\n",
       "      <td>100.0</td>\n",
       "      <td>136</td>\n",
       "    </tr>\n",
       "    <tr>\n",
       "      <th>1</th>\n",
       "      <td>11526383</td>\n",
       "      <td>7 days 17:32:00</td>\n",
       "      <td>NaN</td>\n",
       "      <td>85.0</td>\n",
       "      <td>18.0</td>\n",
       "      <td>97.0</td>\n",
       "      <td>142</td>\n",
       "    </tr>\n",
       "    <tr>\n",
       "      <th>2</th>\n",
       "      <td>11526383</td>\n",
       "      <td>7 days 20:46:00</td>\n",
       "      <td>97.8</td>\n",
       "      <td>92.0</td>\n",
       "      <td>18.0</td>\n",
       "      <td>97.0</td>\n",
       "      <td>141</td>\n",
       "    </tr>\n",
       "    <tr>\n",
       "      <th>3</th>\n",
       "      <td>11526383</td>\n",
       "      <td>57 days 21:07:00</td>\n",
       "      <td>NaN</td>\n",
       "      <td>95.0</td>\n",
       "      <td>15.0</td>\n",
       "      <td>100.0</td>\n",
       "      <td>167</td>\n",
       "    </tr>\n",
       "    <tr>\n",
       "      <th>4</th>\n",
       "      <td>11526383</td>\n",
       "      <td>58 days 00:27:00</td>\n",
       "      <td>98.4</td>\n",
       "      <td>100.0</td>\n",
       "      <td>18.0</td>\n",
       "      <td>NaN</td>\n",
       "      <td>180</td>\n",
       "    </tr>\n",
       "  </tbody>\n",
       "</table>\n",
       "</div>"
      ],
      "text/plain": [
       "   subject_id         charttime  temperature  heartrate  resprate  o2sat  sbp\n",
       "0    11526383   0 days 00:00:00         98.6       88.0      16.0  100.0  136\n",
       "1    11526383   7 days 17:32:00          NaN       85.0      18.0   97.0  142\n",
       "2    11526383   7 days 20:46:00         97.8       92.0      18.0   97.0  141\n",
       "3    11526383  57 days 21:07:00          NaN       95.0      15.0  100.0  167\n",
       "4    11526383  58 days 00:27:00         98.4      100.0      18.0    NaN  180"
      ]
     },
     "execution_count": 19,
     "metadata": {},
     "output_type": "execute_result"
    }
   ],
   "source": [
    "uni_k = 5\n",
    "order = 1\n",
    "z_max = 3\n",
    "iterations = 1000\n",
    "learning_rate = []\n",
    "\n",
    "print(\"Using\", uni_k, \"data before\")\n",
    "print(\"Polynomial order\", order)\n",
    "print(\"Filter data using Z value\", z_max, \"\\n\")\n",
    "\n",
    "# filter data function\n",
    "def cutData(data):\n",
    "    data = data.drop([\"charttime\"], axis=1)\n",
    "    return data.to_numpy()\n",
    "\n",
    "def makeLearningRate():\n",
    "    c = 0.000001\n",
    "    learning_rate.clear()\n",
    "    learning_rate.append(0.01)\n",
    "    for i in range(4):\n",
    "        for j in range(order):\n",
    "            learning_rate.append(0.1 * (c ** (j+1)))\n",
    "    for i in range(uni_k):\n",
    "        learning_rate.append(c)\n",
    "\n",
    "def MakeBatch(data, split):\n",
    "    batch = round(len(data) / split)\n",
    "    ret = []\n",
    "    \n",
    "    for i in range(split):\n",
    "        bot = i * batch\n",
    "        top = (i+1) * batch\n",
    "        if i == split-1:\n",
    "            top = len(data)\n",
    "        ret.append(data[bot:top])\n",
    "        \n",
    "    return ret\n",
    "\n",
    "def FilterData(data):\n",
    "    ret_data = dict()\n",
    "    \n",
    "    print(\"BEFORE =\", len(data))\n",
    "    data['temperature'].fillna(round(data['temperature'].mean(), 2), inplace = True)\n",
    "    data = data.dropna()\n",
    "    print(\"AFTER DROP NAN =\", len(data))\n",
    "    \n",
    "    topic = [\"temperature\", \"heartrate\", \"resprate\", \"o2sat\", \"sbp\"]\n",
    "    gd_mean = data[topic].mean()\n",
    "    gd_std = data[topic].std()\n",
    "    \n",
    "    for i in topic:\n",
    "        data = data[abs(data[i] - gd_mean[i]) / gd_std[i] <= z_max]\n",
    "    print(\"AFTER Z VALUE =\", len(data))\n",
    "    print(\"============================================\")\n",
    "        \n",
    "    \n",
    "    data = data.groupby(\"subject_id\")\n",
    "    for group_name, group_data in data:\n",
    "        group_data = group_data.drop([\"subject_id\", \"charttime\"], axis = 1)\n",
    "        ret_data[group_name] = group_data.to_numpy()\n",
    "#         print(\"SUBJECT\", group_name, \"=====\")\n",
    "#         for i in topic:\n",
    "#             print(i, \"===\")\n",
    "#             print(group_data[i].min())\n",
    "#             print(group_data[i].mean())\n",
    "#             print(group_data[i].max())\n",
    "        \n",
    "    return ret_data\n",
    "\n",
    "# split data function\n",
    "def Split_Data(data, num):\n",
    "    size = len(data)\n",
    "    split_size = round(size * num)\n",
    "    data1 = np.array(data[1:split_size]).astype('float64') # since index 0 is string\n",
    "    data2 = np.array(data[split_size:size]).astype('float64')\n",
    "    return data1, data2\n",
    "\n",
    "# training function\n",
    "def modif_x(data, k, x):\n",
    "    ret = [1]\n",
    "    n1 = len(data)\n",
    "    n2 = len(data[0])\n",
    "\n",
    "    for i in range(4):\n",
    "        for j in range(order):\n",
    "            ret.append(x[i] ** (j+1))\n",
    "    for i in range(k):\n",
    "        ret.append(data[n1-1-i][n2-1])\n",
    "        \n",
    "    return ret\n",
    "    \n",
    "def make_matrix(data, k):\n",
    "    new_data = []\n",
    "    for i in range(k, len(data)):\n",
    "        new_data.append([1])\n",
    "\n",
    "        for j in range(4):\n",
    "            for p in range(order):\n",
    "                new_data[i-k].append(data[i][j] ** (p+1))\n",
    "        for j in range(k):\n",
    "            new_data[i-k].append(data[i-1-j][4])\n",
    "        new_data[i-k].append(data[i][4])\n",
    "    \n",
    "    new_data = np.array(new_data)\n",
    "    return new_data\n",
    "\n",
    "def gradient_descent(data, weight):\n",
    "    n = len(weight)\n",
    "    w_new = np.zeros(n)\n",
    "    norm = -2/len(data)\n",
    "    \n",
    "    for row in data:\n",
    "        predict = 0\n",
    "        y = row[n]\n",
    "        for i in range(n):\n",
    "            predict += row[i] * weight[i]\n",
    "        for i in range(n):\n",
    "            w_new[i] += (norm) * (y - predict) * row[i]\n",
    "            \n",
    "    for i in range(n):\n",
    "        w_new[i] = weight[i] - learning_rate[i] * w_new[i]\n",
    "    return w_new\n",
    "        \n",
    "\n",
    "def matrix_inversion(data):\n",
    "    n = len(data[0])\n",
    "    X = np.array(data[:,0:n-1])\n",
    "    Y = np.array(data[:,n-1])\n",
    "\n",
    "    ret = np.linalg.inv(X.T @ X) @ X.T @ Y\n",
    "    return ret\n",
    "\n",
    "def train_func(data):\n",
    "    n = len(data[0])\n",
    "    grad = np.zeros(n-1)\n",
    "    #data = MakeBatch(data, 10)\n",
    "    #for batch in data:\n",
    "    for i in range(iterations):\n",
    "        grad = gradient_descent(data, grad)\n",
    "    #grad = matrix_inversion(data)\n",
    "    return grad\n",
    "\n",
    "def doPrediction(b, X):\n",
    "    ret = 0\n",
    "    for i in range(len(X)):\n",
    "        ret += b[i] * X[i]\n",
    "    return ret\n",
    "    \n",
    "# read files\n",
    "adv_training_data = pd.read_csv(training_dataroot)\n",
    "adv_testing_data = pd.read_csv(testing_dataroot)\n",
    "makeLearningRate()\n",
    "\n",
    "data = FilterData(adv_training_data)\n",
    "\n",
    "# train every data\n",
    "def test_MAPE():\n",
    "    grad = dict()\n",
    "    mape = 0\n",
    "    for idx in data:\n",
    "        # for caluclating MAPE\n",
    "        train_data, test_data = Split_Data(data[idx], 0.9)\n",
    "        train_data = make_matrix(train_data, uni_k)\n",
    "        grad[idx] = train_func(train_data)\n",
    "        \n",
    "        msum = 0\n",
    "        for row in test_data:\n",
    "            X = modif_x(train_data, uni_k, row[0:4])\n",
    "            Y = doPrediction(grad[idx], X)\n",
    "            msum += abs(row[4] - Y) / row[4]\n",
    "            \n",
    "            X.append(Y)\n",
    "            X = np.array(X)\n",
    "            train_data = np.vstack((train_data, X))\n",
    "        mape = 100 / len(test_data) * msum\n",
    "        print(mape)\n",
    "    #print(mape/11, \"%\")\n",
    "\n",
    "def final():\n",
    "    grad = dict()\n",
    "    train_data = FilterData(adv_training_data)\n",
    "    test_data = cutData(adv_testing_data)\n",
    "    \n",
    "    for topic in train_data:\n",
    "        train_data[topic] = make_matrix(train_data[topic], uni_k)\n",
    "        grad[topic] = train_func(train_data[topic])\n",
    "    \n",
    "    for row in test_data:\n",
    "        sub_id = row[0]\n",
    "        X = row[1:5]\n",
    "        X = modif_x(train_data[sub_id], uni_k, X)\n",
    "        row[5] = doPrediction(grad[sub_id], X)\n",
    "        \n",
    "        X.append(row[5])\n",
    "        X = np.array(X)\n",
    "        train_data[sub_id] = np.vstack((train_data[sub_id], X))\n",
    "    \n",
    "    return test_data\n",
    "\n",
    "makeLearningRate()\n",
    "\n",
    "print(\"UNI_K = \", uni_k)\n",
    "test_MAPE()\n",
    "print()\n",
    "\n",
    "# out = final()\n",
    "# output_datalist = []\n",
    "\n",
    "# for row in out:\n",
    "#     output_datalist.append([row[5]])\n",
    "\n",
    "# print(\" === FINISH ===\")"
   ]
  },
  {
   "cell_type": "markdown",
   "metadata": {},
   "source": [
    "### Output your Prediction\n",
    "\n",
    "> your filename should be **hw1_advanced.csv**"
   ]
  },
  {
   "cell_type": "code",
   "execution_count": 40,
   "metadata": {},
   "outputs": [],
   "source": [
    "with open(output_dataroot, 'w', newline='', encoding=\"utf-8\") as csvfile:\n",
    "  writer = csv.writer(csvfile)\n",
    "  for row in output_datalist:\n",
    "    writer.writerow(row)"
   ]
  },
  {
   "cell_type": "markdown",
   "metadata": {
    "id": "EtgCJU7FPeJL"
   },
   "source": [
    "# Report *(5%)*\n",
    "\n",
    "Report should be submitted as a pdf file **hw1_report.pdf**\n",
    "\n",
    "*   Briefly describe the difficulty you encountered\n",
    "*   Summarize your work and your reflections\n",
    "*   No more than one page\n",
    "\n",
    "\n",
    "\n",
    "\n"
   ]
  },
  {
   "cell_type": "markdown",
   "metadata": {
    "id": "hlEE53_MPf4W"
   },
   "source": [
    "# Save the Code File\n",
    "Please save your code and submit it as an ipynb file! (**hw1.ipynb**)"
   ]
  }
 ],
 "metadata": {
  "colab": {
   "provenance": [],
   "toc_visible": true
  },
  "kernelspec": {
   "display_name": "Python 3 (ipykernel)",
   "language": "python",
   "name": "python3"
  },
  "language_info": {
   "codemirror_mode": {
    "name": "ipython",
    "version": 3
   },
   "file_extension": ".py",
   "mimetype": "text/x-python",
   "name": "python",
   "nbconvert_exporter": "python",
   "pygments_lexer": "ipython3",
   "version": "3.11.4"
  }
 },
 "nbformat": 4,
 "nbformat_minor": 1
}
